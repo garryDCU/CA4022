{
  "nbformat": 4,
  "nbformat_minor": 0,
  "metadata": {
    "colab": {
      "name": "pyspark_fraud.ipynb",
      "provenance": [],
      "collapsed_sections": [],
      "authorship_tag": "ABX9TyM0pOx5OEJekN5Yu87EeWO4",
      "include_colab_link": true
    },
    "kernelspec": {
      "name": "python3",
      "display_name": "Python 3"
    },
    "language_info": {
      "name": "python"
    }
  },
  "cells": [
    {
      "cell_type": "markdown",
      "metadata": {
        "id": "view-in-github",
        "colab_type": "text"
      },
      "source": [
        "<a href=\"https://colab.research.google.com/github/garryDCU/CA4022/blob/main/pyspark_fraud.ipynb\" target=\"_parent\"><img src=\"https://colab.research.google.com/assets/colab-badge.svg\" alt=\"Open In Colab\"/></a>"
      ]
    },
    {
      "cell_type": "code",
      "metadata": {
        "colab": {
          "base_uri": "https://localhost:8080/"
        },
        "id": "FmPH1deHP3e6",
        "outputId": "fe83bf68-9fcb-4ff2-a27c-244f064f34a2"
      },
      "source": [
        "! pip install pyspark"
      ],
      "execution_count": 2,
      "outputs": [
        {
          "output_type": "stream",
          "name": "stdout",
          "text": [
            "Collecting pyspark\n",
            "  Downloading pyspark-3.2.0.tar.gz (281.3 MB)\n",
            "\u001b[K     |████████████████████████████████| 281.3 MB 39 kB/s \n",
            "\u001b[?25hCollecting py4j==0.10.9.2\n",
            "  Downloading py4j-0.10.9.2-py2.py3-none-any.whl (198 kB)\n",
            "\u001b[K     |████████████████████████████████| 198 kB 15.0 MB/s \n",
            "\u001b[?25hBuilding wheels for collected packages: pyspark\n",
            "  Building wheel for pyspark (setup.py) ... \u001b[?25l\u001b[?25hdone\n",
            "  Created wheel for pyspark: filename=pyspark-3.2.0-py2.py3-none-any.whl size=281805912 sha256=d33742ab3c81aec93dc60bbf77ddb3b360396c8a0b8f0d97225cc46205f0eae4\n",
            "  Stored in directory: /root/.cache/pip/wheels/0b/de/d2/9be5d59d7331c6c2a7c1b6d1a4f463ce107332b1ecd4e80718\n",
            "Successfully built pyspark\n",
            "Installing collected packages: py4j, pyspark\n",
            "Successfully installed py4j-0.10.9.2 pyspark-3.2.0\n"
          ]
        }
      ]
    },
    {
      "cell_type": "code",
      "metadata": {
        "colab": {
          "base_uri": "https://localhost:8080/"
        },
        "id": "obtHHrkra2K0",
        "outputId": "4791e07d-4a62-4aa2-b939-09ee75bb7ee2"
      },
      "source": [
        "import os       #importing os to set environment variable\n",
        "def install_java():\n",
        "  !apt-get install -y openjdk-8-jdk-headless -qq > /dev/null      #install openjdk\n",
        "  os.environ[\"JAVA_HOME\"] = \"/usr/lib/jvm/java-8-openjdk-amd64\"     #set environment variable\n",
        "  !java -version       #check java version\n",
        "install_java()"
      ],
      "execution_count": 32,
      "outputs": [
        {
          "output_type": "stream",
          "name": "stdout",
          "text": [
            "openjdk version \"11.0.11\" 2021-04-20\n",
            "OpenJDK Runtime Environment (build 11.0.11+9-Ubuntu-0ubuntu2.18.04)\n",
            "OpenJDK 64-Bit Server VM (build 11.0.11+9-Ubuntu-0ubuntu2.18.04, mixed mode, sharing)\n"
          ]
        }
      ]
    },
    {
      "cell_type": "code",
      "metadata": {
        "id": "LQrgaKY8Qvtv"
      },
      "source": [
        "from pyspark.sql import SparkSession \n",
        "from pyspark.sql.functions import * \n",
        "from pyspark.ml import Pipeline \n",
        "from pyspark.ml.feature import VectorAssembler \n",
        "from pyspark.ml.feature import StringIndexer \n",
        "from pyspark.ml.classification import NaiveBayes \n",
        "from pyspark.ml.evaluation import MulticlassClassificationEvaluator"
      ],
      "execution_count": 3,
      "outputs": []
    },
    {
      "cell_type": "code",
      "metadata": {
        "colab": {
          "base_uri": "https://localhost:8080/"
        },
        "id": "XlKLtmmDRNAV",
        "outputId": "19997f46-08c9-43d0-9af1-0d07f97edccb"
      },
      "source": [
        "from google.colab import drive \n",
        "drive.mount('/content/drive/')"
      ],
      "execution_count": 4,
      "outputs": [
        {
          "output_type": "stream",
          "name": "stdout",
          "text": [
            "Mounted at /content/drive/\n"
          ]
        }
      ]
    },
    {
      "cell_type": "code",
      "metadata": {
        "colab": {
          "base_uri": "https://localhost:8080/",
          "height": 255
        },
        "id": "_S3qp9cnRNFF",
        "outputId": "d58460e8-4e91-4a56-9cff-1ee6229f1518"
      },
      "source": [
        "import pandas as pd\n",
        "data=pd.read_csv('/content/drive/MyDrive/CA4022FinalAssignment/fraud_detection_bank_dataset.csv')\n",
        "del data['Unnamed: 0']\n",
        "data.head()"
      ],
      "execution_count": 12,
      "outputs": [
        {
          "output_type": "execute_result",
          "data": {
            "text/html": [
              "<div>\n",
              "<style scoped>\n",
              "    .dataframe tbody tr th:only-of-type {\n",
              "        vertical-align: middle;\n",
              "    }\n",
              "\n",
              "    .dataframe tbody tr th {\n",
              "        vertical-align: top;\n",
              "    }\n",
              "\n",
              "    .dataframe thead th {\n",
              "        text-align: right;\n",
              "    }\n",
              "</style>\n",
              "<table border=\"1\" class=\"dataframe\">\n",
              "  <thead>\n",
              "    <tr style=\"text-align: right;\">\n",
              "      <th></th>\n",
              "      <th>col_0</th>\n",
              "      <th>col_1</th>\n",
              "      <th>col_2</th>\n",
              "      <th>col_3</th>\n",
              "      <th>col_4</th>\n",
              "      <th>col_5</th>\n",
              "      <th>col_6</th>\n",
              "      <th>col_7</th>\n",
              "      <th>col_8</th>\n",
              "      <th>col_9</th>\n",
              "      <th>col_10</th>\n",
              "      <th>col_11</th>\n",
              "      <th>col_12</th>\n",
              "      <th>col_13</th>\n",
              "      <th>col_14</th>\n",
              "      <th>col_15</th>\n",
              "      <th>col_16</th>\n",
              "      <th>col_17</th>\n",
              "      <th>col_18</th>\n",
              "      <th>col_19</th>\n",
              "      <th>col_20</th>\n",
              "      <th>col_21</th>\n",
              "      <th>col_22</th>\n",
              "      <th>col_23</th>\n",
              "      <th>col_24</th>\n",
              "      <th>col_25</th>\n",
              "      <th>col_26</th>\n",
              "      <th>col_27</th>\n",
              "      <th>col_28</th>\n",
              "      <th>col_29</th>\n",
              "      <th>col_30</th>\n",
              "      <th>col_31</th>\n",
              "      <th>col_32</th>\n",
              "      <th>col_33</th>\n",
              "      <th>col_34</th>\n",
              "      <th>col_35</th>\n",
              "      <th>col_36</th>\n",
              "      <th>col_37</th>\n",
              "      <th>col_38</th>\n",
              "      <th>col_39</th>\n",
              "      <th>...</th>\n",
              "      <th>col_73</th>\n",
              "      <th>col_74</th>\n",
              "      <th>col_75</th>\n",
              "      <th>col_76</th>\n",
              "      <th>col_77</th>\n",
              "      <th>col_78</th>\n",
              "      <th>col_79</th>\n",
              "      <th>col_80</th>\n",
              "      <th>col_81</th>\n",
              "      <th>col_82</th>\n",
              "      <th>col_83</th>\n",
              "      <th>col_84</th>\n",
              "      <th>col_85</th>\n",
              "      <th>col_86</th>\n",
              "      <th>col_87</th>\n",
              "      <th>col_88</th>\n",
              "      <th>col_89</th>\n",
              "      <th>col_90</th>\n",
              "      <th>col_91</th>\n",
              "      <th>col_92</th>\n",
              "      <th>col_93</th>\n",
              "      <th>col_94</th>\n",
              "      <th>col_95</th>\n",
              "      <th>col_96</th>\n",
              "      <th>col_97</th>\n",
              "      <th>col_98</th>\n",
              "      <th>col_99</th>\n",
              "      <th>col_100</th>\n",
              "      <th>col_101</th>\n",
              "      <th>col_102</th>\n",
              "      <th>col_103</th>\n",
              "      <th>col_104</th>\n",
              "      <th>col_105</th>\n",
              "      <th>col_106</th>\n",
              "      <th>col_107</th>\n",
              "      <th>col_108</th>\n",
              "      <th>col_109</th>\n",
              "      <th>col_110</th>\n",
              "      <th>col_111</th>\n",
              "      <th>targets</th>\n",
              "    </tr>\n",
              "  </thead>\n",
              "  <tbody>\n",
              "    <tr>\n",
              "      <th>0</th>\n",
              "      <td>9</td>\n",
              "      <td>1354</td>\n",
              "      <td>0</td>\n",
              "      <td>18</td>\n",
              "      <td>0</td>\n",
              "      <td>1</td>\n",
              "      <td>7</td>\n",
              "      <td>9</td>\n",
              "      <td>0</td>\n",
              "      <td>0</td>\n",
              "      <td>0</td>\n",
              "      <td>0</td>\n",
              "      <td>0</td>\n",
              "      <td>0</td>\n",
              "      <td>1</td>\n",
              "      <td>0</td>\n",
              "      <td>1</td>\n",
              "      <td>0</td>\n",
              "      <td>0</td>\n",
              "      <td>0</td>\n",
              "      <td>0</td>\n",
              "      <td>0</td>\n",
              "      <td>9</td>\n",
              "      <td>74</td>\n",
              "      <td>19</td>\n",
              "      <td>25</td>\n",
              "      <td>0</td>\n",
              "      <td>0</td>\n",
              "      <td>1</td>\n",
              "      <td>3</td>\n",
              "      <td>24</td>\n",
              "      <td>0</td>\n",
              "      <td>0</td>\n",
              "      <td>0</td>\n",
              "      <td>2</td>\n",
              "      <td>0</td>\n",
              "      <td>97</td>\n",
              "      <td>0</td>\n",
              "      <td>981</td>\n",
              "      <td>0</td>\n",
              "      <td>...</td>\n",
              "      <td>0</td>\n",
              "      <td>0</td>\n",
              "      <td>0</td>\n",
              "      <td>0</td>\n",
              "      <td>0</td>\n",
              "      <td>0</td>\n",
              "      <td>0</td>\n",
              "      <td>0</td>\n",
              "      <td>0</td>\n",
              "      <td>0</td>\n",
              "      <td>0</td>\n",
              "      <td>0</td>\n",
              "      <td>0</td>\n",
              "      <td>0</td>\n",
              "      <td>0</td>\n",
              "      <td>0</td>\n",
              "      <td>0</td>\n",
              "      <td>0</td>\n",
              "      <td>0</td>\n",
              "      <td>0</td>\n",
              "      <td>0</td>\n",
              "      <td>0</td>\n",
              "      <td>0</td>\n",
              "      <td>1</td>\n",
              "      <td>1</td>\n",
              "      <td>1</td>\n",
              "      <td>0</td>\n",
              "      <td>0</td>\n",
              "      <td>0</td>\n",
              "      <td>4</td>\n",
              "      <td>0</td>\n",
              "      <td>0</td>\n",
              "      <td>0</td>\n",
              "      <td>1</td>\n",
              "      <td>1</td>\n",
              "      <td>0</td>\n",
              "      <td>0</td>\n",
              "      <td>0</td>\n",
              "      <td>49</td>\n",
              "      <td>1</td>\n",
              "    </tr>\n",
              "    <tr>\n",
              "      <th>1</th>\n",
              "      <td>0</td>\n",
              "      <td>239</td>\n",
              "      <td>0</td>\n",
              "      <td>1</td>\n",
              "      <td>0</td>\n",
              "      <td>1</td>\n",
              "      <td>0</td>\n",
              "      <td>0</td>\n",
              "      <td>0</td>\n",
              "      <td>0</td>\n",
              "      <td>0</td>\n",
              "      <td>0</td>\n",
              "      <td>0</td>\n",
              "      <td>0</td>\n",
              "      <td>0</td>\n",
              "      <td>0</td>\n",
              "      <td>1</td>\n",
              "      <td>0</td>\n",
              "      <td>0</td>\n",
              "      <td>0</td>\n",
              "      <td>0</td>\n",
              "      <td>0</td>\n",
              "      <td>0</td>\n",
              "      <td>7</td>\n",
              "      <td>1</td>\n",
              "      <td>0</td>\n",
              "      <td>0</td>\n",
              "      <td>0</td>\n",
              "      <td>1</td>\n",
              "      <td>1</td>\n",
              "      <td>0</td>\n",
              "      <td>0</td>\n",
              "      <td>0</td>\n",
              "      <td>0</td>\n",
              "      <td>0</td>\n",
              "      <td>0</td>\n",
              "      <td>0</td>\n",
              "      <td>0</td>\n",
              "      <td>18</td>\n",
              "      <td>0</td>\n",
              "      <td>...</td>\n",
              "      <td>0</td>\n",
              "      <td>0</td>\n",
              "      <td>0</td>\n",
              "      <td>0</td>\n",
              "      <td>0</td>\n",
              "      <td>0</td>\n",
              "      <td>0</td>\n",
              "      <td>0</td>\n",
              "      <td>0</td>\n",
              "      <td>0</td>\n",
              "      <td>0</td>\n",
              "      <td>0</td>\n",
              "      <td>0</td>\n",
              "      <td>0</td>\n",
              "      <td>0</td>\n",
              "      <td>0</td>\n",
              "      <td>1</td>\n",
              "      <td>0</td>\n",
              "      <td>0</td>\n",
              "      <td>0</td>\n",
              "      <td>0</td>\n",
              "      <td>0</td>\n",
              "      <td>0</td>\n",
              "      <td>0</td>\n",
              "      <td>0</td>\n",
              "      <td>0</td>\n",
              "      <td>1</td>\n",
              "      <td>0</td>\n",
              "      <td>0</td>\n",
              "      <td>0</td>\n",
              "      <td>0</td>\n",
              "      <td>1</td>\n",
              "      <td>0</td>\n",
              "      <td>0</td>\n",
              "      <td>0</td>\n",
              "      <td>0</td>\n",
              "      <td>0</td>\n",
              "      <td>0</td>\n",
              "      <td>55</td>\n",
              "      <td>1</td>\n",
              "    </tr>\n",
              "    <tr>\n",
              "      <th>2</th>\n",
              "      <td>0</td>\n",
              "      <td>260</td>\n",
              "      <td>0</td>\n",
              "      <td>4</td>\n",
              "      <td>0</td>\n",
              "      <td>3</td>\n",
              "      <td>6</td>\n",
              "      <td>0</td>\n",
              "      <td>0</td>\n",
              "      <td>0</td>\n",
              "      <td>0</td>\n",
              "      <td>0</td>\n",
              "      <td>0</td>\n",
              "      <td>0</td>\n",
              "      <td>1</td>\n",
              "      <td>1</td>\n",
              "      <td>0</td>\n",
              "      <td>0</td>\n",
              "      <td>0</td>\n",
              "      <td>0</td>\n",
              "      <td>0</td>\n",
              "      <td>0</td>\n",
              "      <td>0</td>\n",
              "      <td>13</td>\n",
              "      <td>7</td>\n",
              "      <td>5</td>\n",
              "      <td>0</td>\n",
              "      <td>0</td>\n",
              "      <td>1</td>\n",
              "      <td>5</td>\n",
              "      <td>0</td>\n",
              "      <td>0</td>\n",
              "      <td>0</td>\n",
              "      <td>0</td>\n",
              "      <td>0</td>\n",
              "      <td>0</td>\n",
              "      <td>5</td>\n",
              "      <td>0</td>\n",
              "      <td>91</td>\n",
              "      <td>0</td>\n",
              "      <td>...</td>\n",
              "      <td>0</td>\n",
              "      <td>0</td>\n",
              "      <td>0</td>\n",
              "      <td>0</td>\n",
              "      <td>0</td>\n",
              "      <td>0</td>\n",
              "      <td>0</td>\n",
              "      <td>0</td>\n",
              "      <td>0</td>\n",
              "      <td>1</td>\n",
              "      <td>0</td>\n",
              "      <td>0</td>\n",
              "      <td>0</td>\n",
              "      <td>0</td>\n",
              "      <td>0</td>\n",
              "      <td>0</td>\n",
              "      <td>0</td>\n",
              "      <td>0</td>\n",
              "      <td>0</td>\n",
              "      <td>0</td>\n",
              "      <td>0</td>\n",
              "      <td>0</td>\n",
              "      <td>0</td>\n",
              "      <td>1</td>\n",
              "      <td>0</td>\n",
              "      <td>1</td>\n",
              "      <td>0</td>\n",
              "      <td>0</td>\n",
              "      <td>0</td>\n",
              "      <td>1</td>\n",
              "      <td>0</td>\n",
              "      <td>0</td>\n",
              "      <td>0</td>\n",
              "      <td>1</td>\n",
              "      <td>1</td>\n",
              "      <td>0</td>\n",
              "      <td>0</td>\n",
              "      <td>0</td>\n",
              "      <td>56</td>\n",
              "      <td>1</td>\n",
              "    </tr>\n",
              "    <tr>\n",
              "      <th>3</th>\n",
              "      <td>17</td>\n",
              "      <td>682</td>\n",
              "      <td>0</td>\n",
              "      <td>1</td>\n",
              "      <td>0</td>\n",
              "      <td>0</td>\n",
              "      <td>8</td>\n",
              "      <td>17</td>\n",
              "      <td>0</td>\n",
              "      <td>0</td>\n",
              "      <td>0</td>\n",
              "      <td>0</td>\n",
              "      <td>0</td>\n",
              "      <td>0</td>\n",
              "      <td>0</td>\n",
              "      <td>0</td>\n",
              "      <td>1</td>\n",
              "      <td>0</td>\n",
              "      <td>0</td>\n",
              "      <td>0</td>\n",
              "      <td>0</td>\n",
              "      <td>0</td>\n",
              "      <td>23</td>\n",
              "      <td>52</td>\n",
              "      <td>1</td>\n",
              "      <td>7</td>\n",
              "      <td>0</td>\n",
              "      <td>0</td>\n",
              "      <td>1</td>\n",
              "      <td>1</td>\n",
              "      <td>1</td>\n",
              "      <td>9</td>\n",
              "      <td>0</td>\n",
              "      <td>0</td>\n",
              "      <td>0</td>\n",
              "      <td>0</td>\n",
              "      <td>3</td>\n",
              "      <td>0</td>\n",
              "      <td>26</td>\n",
              "      <td>0</td>\n",
              "      <td>...</td>\n",
              "      <td>0</td>\n",
              "      <td>0</td>\n",
              "      <td>0</td>\n",
              "      <td>0</td>\n",
              "      <td>0</td>\n",
              "      <td>0</td>\n",
              "      <td>0</td>\n",
              "      <td>0</td>\n",
              "      <td>0</td>\n",
              "      <td>0</td>\n",
              "      <td>0</td>\n",
              "      <td>0</td>\n",
              "      <td>0</td>\n",
              "      <td>0</td>\n",
              "      <td>0</td>\n",
              "      <td>0</td>\n",
              "      <td>0</td>\n",
              "      <td>0</td>\n",
              "      <td>0</td>\n",
              "      <td>0</td>\n",
              "      <td>0</td>\n",
              "      <td>0</td>\n",
              "      <td>0</td>\n",
              "      <td>0</td>\n",
              "      <td>0</td>\n",
              "      <td>1</td>\n",
              "      <td>0</td>\n",
              "      <td>0</td>\n",
              "      <td>0</td>\n",
              "      <td>1</td>\n",
              "      <td>0</td>\n",
              "      <td>1</td>\n",
              "      <td>0</td>\n",
              "      <td>1</td>\n",
              "      <td>1</td>\n",
              "      <td>0</td>\n",
              "      <td>0</td>\n",
              "      <td>0</td>\n",
              "      <td>65</td>\n",
              "      <td>1</td>\n",
              "    </tr>\n",
              "    <tr>\n",
              "      <th>4</th>\n",
              "      <td>1</td>\n",
              "      <td>540</td>\n",
              "      <td>0</td>\n",
              "      <td>2</td>\n",
              "      <td>0</td>\n",
              "      <td>1</td>\n",
              "      <td>7</td>\n",
              "      <td>1</td>\n",
              "      <td>0</td>\n",
              "      <td>0</td>\n",
              "      <td>0</td>\n",
              "      <td>0</td>\n",
              "      <td>0</td>\n",
              "      <td>0</td>\n",
              "      <td>1</td>\n",
              "      <td>0</td>\n",
              "      <td>1</td>\n",
              "      <td>0</td>\n",
              "      <td>0</td>\n",
              "      <td>0</td>\n",
              "      <td>0</td>\n",
              "      <td>0</td>\n",
              "      <td>1</td>\n",
              "      <td>20</td>\n",
              "      <td>3</td>\n",
              "      <td>11</td>\n",
              "      <td>0</td>\n",
              "      <td>0</td>\n",
              "      <td>1</td>\n",
              "      <td>4</td>\n",
              "      <td>20</td>\n",
              "      <td>0</td>\n",
              "      <td>0</td>\n",
              "      <td>0</td>\n",
              "      <td>0</td>\n",
              "      <td>0</td>\n",
              "      <td>52</td>\n",
              "      <td>0</td>\n",
              "      <td>669</td>\n",
              "      <td>0</td>\n",
              "      <td>...</td>\n",
              "      <td>0</td>\n",
              "      <td>0</td>\n",
              "      <td>0</td>\n",
              "      <td>1</td>\n",
              "      <td>0</td>\n",
              "      <td>0</td>\n",
              "      <td>0</td>\n",
              "      <td>0</td>\n",
              "      <td>0</td>\n",
              "      <td>0</td>\n",
              "      <td>0</td>\n",
              "      <td>0</td>\n",
              "      <td>0</td>\n",
              "      <td>0</td>\n",
              "      <td>0</td>\n",
              "      <td>0</td>\n",
              "      <td>0</td>\n",
              "      <td>0</td>\n",
              "      <td>0</td>\n",
              "      <td>1</td>\n",
              "      <td>0</td>\n",
              "      <td>0</td>\n",
              "      <td>0</td>\n",
              "      <td>0</td>\n",
              "      <td>0</td>\n",
              "      <td>1</td>\n",
              "      <td>0</td>\n",
              "      <td>0</td>\n",
              "      <td>0</td>\n",
              "      <td>1</td>\n",
              "      <td>0</td>\n",
              "      <td>0</td>\n",
              "      <td>0</td>\n",
              "      <td>1</td>\n",
              "      <td>1</td>\n",
              "      <td>0</td>\n",
              "      <td>0</td>\n",
              "      <td>0</td>\n",
              "      <td>175</td>\n",
              "      <td>1</td>\n",
              "    </tr>\n",
              "  </tbody>\n",
              "</table>\n",
              "<p>5 rows × 113 columns</p>\n",
              "</div>"
            ],
            "text/plain": [
              "   col_0  col_1  col_2  col_3  ...  col_109  col_110  col_111  targets\n",
              "0      9   1354      0     18  ...        0        0       49        1\n",
              "1      0    239      0      1  ...        0        0       55        1\n",
              "2      0    260      0      4  ...        0        0       56        1\n",
              "3     17    682      0      1  ...        0        0       65        1\n",
              "4      1    540      0      2  ...        0        0      175        1\n",
              "\n",
              "[5 rows x 113 columns]"
            ]
          },
          "metadata": {},
          "execution_count": 12
        }
      ]
    },
    {
      "cell_type": "code",
      "metadata": {
        "id": "dYc5GMOHRNMx"
      },
      "source": [
        "#Sets the Spark master URL to run locally. \n",
        "spark = SparkSession.builder.master(\"local[*]\").getOrCreate()"
      ],
      "execution_count": 11,
      "outputs": []
    },
    {
      "cell_type": "code",
      "metadata": {
        "colab": {
          "base_uri": "https://localhost:8080/"
        },
        "id": "G-8h17DlSr0H",
        "outputId": "f4f57af1-3048-460b-bdfe-6dde38d5167a"
      },
      "source": [
        "#Create DataFrame \n",
        "fraud_df = spark.createDataFrame(data)\n",
        "fraud_df.show(5)"
      ],
      "execution_count": 15,
      "outputs": [
        {
          "output_type": "stream",
          "name": "stdout",
          "text": [
            "+-----+-----+-----+-----+-----+-----+-----+-----+-----+-----+------+------+------+------+------+------+------+------+------+------+------+------+------+------+------+------+------+------+------+------+------+------+------+------+------+------+------+------+------+------+------+------+------+------+------+------+------+------+------+------+------+------+------+------+------+------+------+------+------+------+------+------+------+------+------+------+------+-------------+------+------+------+------+------+------+------+------+------+------+------+------+------+------+------+------+------+------+------+------+------+------+------+------+------+------+------+------+------+------+------+------+-------+-------+-------+-------+-------+-------+-------+-------+-------+-------+-------+-------+-------+\n",
            "|col_0|col_1|col_2|col_3|col_4|col_5|col_6|col_7|col_8|col_9|col_10|col_11|col_12|col_13|col_14|col_15|col_16|col_17|col_18|col_19|col_20|col_21|col_22|col_23|col_24|col_25|col_26|col_27|col_28|col_29|col_30|col_31|col_32|col_33|col_34|col_35|col_36|col_37|col_38|col_39|col_40|col_41|col_42|col_43|col_44|col_45|col_46|col_47|col_48|col_49|col_50|col_51|col_52|col_53|col_54|col_55|col_56|col_57|col_58|col_59|col_60|col_61|col_62|col_63|col_64|col_65|col_66|       col_67|col_68|col_69|col_70|col_71|col_72|col_73|col_74|col_75|col_76|col_77|col_78|col_79|col_80|col_81|col_82|col_83|col_84|col_85|col_86|col_87|col_88|col_89|col_90|col_91|col_92|col_93|col_94|col_95|col_96|col_97|col_98|col_99|col_100|col_101|col_102|col_103|col_104|col_105|col_106|col_107|col_108|col_109|col_110|col_111|targets|\n",
            "+-----+-----+-----+-----+-----+-----+-----+-----+-----+-----+------+------+------+------+------+------+------+------+------+------+------+------+------+------+------+------+------+------+------+------+------+------+------+------+------+------+------+------+------+------+------+------+------+------+------+------+------+------+------+------+------+------+------+------+------+------+------+------+------+------+------+------+------+------+------+------+------+-------------+------+------+------+------+------+------+------+------+------+------+------+------+------+------+------+------+------+------+------+------+------+------+------+------+------+------+------+------+------+------+------+------+-------+-------+-------+-------+-------+-------+-------+-------+-------+-------+-------+-------+-------+\n",
            "|    9| 1354|    0|   18|    0|    1|    7|    9|    0|    0|     0|     0|     0|     0|     1|     0|     1|     0|     0|     0|     0|     0|     9|    74|    19|    25|     0|     0|     1|     3|    24|     0|     0|     0|     2|     0|    97|     0|   981|     0|     0|    20|    89|     1|     1|     0|     0|    36|    35|   358|    15|     0|     0|     0|  1182|    56|     0|    11|     0|    16|    82|     1|     1|    32|    31|   189|    32|17043.0846561|   189|     9|     0|     0|     0|     0|     0|     0|     0|     0|     0|     0|     0|     0|     0|     0|     0|     0|     0|     0|     0|     0|     0|     0|     0|     0|     0|     0|     1|     1|     1|     0|      0|      0|      4|      0|      0|      0|      1|      1|      0|      0|      0|     49|      1|\n",
            "|    0|  239|    0|    1|    0|    1|    0|    0|    0|    0|     0|     0|     0|     0|     0|     0|     1|     0|     0|     0|     0|     0|     0|     7|     1|     0|     0|     0|     1|     1|     0|     0|     0|     0|     0|     0|     0|     0|    18|     0|     0|     0|     0|     0|     0|     0|     0|     0|     0|    14|     0|     0|     0|     0|    32|     0|     0|     0|     0|     0|     0|     0|     0|     0|     0|     0|     0|      1156.72|    25|     3|     0|     0|     0|     0|     0|     0|     0|     0|     0|     0|     0|     0|     0|     0|     0|     0|     0|     0|     0|     1|     0|     0|     0|     0|     0|     0|     0|     0|     0|     1|      0|      0|      0|      0|      1|      0|      0|      0|      0|      0|      0|     55|      1|\n",
            "|    0|  260|    0|    4|    0|    3|    6|    0|    0|    0|     0|     0|     0|     0|     1|     1|     0|     0|     0|     0|     0|     0|     0|    13|     7|     5|     0|     0|     1|     5|     0|     0|     0|     0|     0|     0|     5|     0|    91|     0|     0|     6|     0|     0|     0|     0|     0|    13|     8|    45|     0|     0|     0|     0|   168|     0|     0|     0|     0|     0|     0|     0|     0|     0|     0|     0|     0|245.365853659|    41|     7|     0|     0|     0|     0|     0|     0|     0|     0|     0|     0|     0|     0|     1|     0|     0|     0|     0|     0|     0|     0|     0|     0|     0|     0|     0|     0|     1|     0|     1|     0|      0|      0|      1|      0|      0|      0|      1|      1|      0|      0|      0|     56|      1|\n",
            "|   17|  682|    0|    1|    0|    0|    8|   17|    0|    0|     0|     0|     0|     0|     0|     0|     1|     0|     0|     0|     0|     0|    23|    52|     1|     7|     0|     0|     1|     1|     1|     9|     0|     0|     0|     0|     3|     0|    26|     0|     0|     0|     2|     0|     0|     0|     0|     0|     0|     4|     2|     0|     0|     0|    33|     0|     0|     0|     0|     0|     2|     0|     0|     0|     0|     2|     0|46088.1842105|    38|     5|     0|     0|     0|     0|     0|     0|     0|     0|     0|     0|     0|     0|     0|     0|     0|     0|     0|     0|     0|     0|     0|     0|     0|     0|     0|     0|     0|     0|     1|     0|      0|      0|      1|      0|      1|      0|      1|      1|      0|      0|      0|     65|      1|\n",
            "|    1|  540|    0|    2|    0|    1|    7|    1|    0|    0|     0|     0|     0|     0|     1|     0|     1|     0|     0|     0|     0|     0|     1|    20|     3|    11|     0|     0|     1|     4|    20|     0|     0|     0|     0|     0|    52|     0|   669|     0|     0|     0|     9|     0|     0|     0|     0|    21|     6|    66|    36|     0|     0|     0|   670|    39|     0|    36|     0|     0|     8|     0|     0|    20|     4|    48|    34|26070.2329317|   249|     6|     0|     0|     0|     0|     0|     0|     1|     0|     0|     0|     0|     0|     0|     0|     0|     0|     0|     0|     0|     0|     0|     0|     1|     0|     0|     0|     0|     0|     1|     0|      0|      0|      1|      0|      0|      0|      1|      1|      0|      0|      0|    175|      1|\n",
            "+-----+-----+-----+-----+-----+-----+-----+-----+-----+-----+------+------+------+------+------+------+------+------+------+------+------+------+------+------+------+------+------+------+------+------+------+------+------+------+------+------+------+------+------+------+------+------+------+------+------+------+------+------+------+------+------+------+------+------+------+------+------+------+------+------+------+------+------+------+------+------+------+-------------+------+------+------+------+------+------+------+------+------+------+------+------+------+------+------+------+------+------+------+------+------+------+------+------+------+------+------+------+------+------+------+------+-------+-------+-------+-------+-------+-------+-------+-------+-------+-------+-------+-------+-------+\n",
            "only showing top 5 rows\n",
            "\n"
          ]
        }
      ]
    },
    {
      "cell_type": "code",
      "metadata": {
        "id": "-L9tfqFQSr26"
      },
      "source": [
        "indexers = [\n",
        "StringIndexer(inputCol=\"col_0\", outputCol = \"col_0_index\"),  \n",
        "StringIndexer(inputCol=\"col_1\", outputCol = \"col_1_index\"),  \n",
        "StringIndexer(inputCol=\"col_2\", outputCol = \"col_2_index\"),  \n",
        "StringIndexer(inputCol=\"col_3\", outputCol = \"col_3_index\"),\n",
        "StringIndexer(inputCol=\"col_4\", outputCol = \"col_4_index\"),  \n",
        "StringIndexer(inputCol=\"col_5\", outputCol = \"col_5_index\"),  \n",
        "StringIndexer(inputCol=\"col_6\", outputCol = \"col_6_index\"),  \n",
        "StringIndexer(inputCol=\"col_7\", outputCol = \"col_7_index\"),\n",
        "StringIndexer(inputCol=\"col_8\", outputCol = \"col_8_index\"),  \n",
        "StringIndexer(inputCol=\"col_9\", outputCol = \"col_9_index\"),\n",
        "StringIndexer(inputCol=\"col_10\", outputCol = \"col_10_index\"),  \n",
        "StringIndexer(inputCol=\"col_11\", outputCol = \"col_11_index\"),  \n",
        "StringIndexer(inputCol=\"col_12\", outputCol = \"col_12_index\"),  \n",
        "StringIndexer(inputCol=\"col_13\", outputCol = \"col_13_index\"),\n",
        "StringIndexer(inputCol=\"col_14\", outputCol = \"col_14_index\"),  \n",
        "StringIndexer(inputCol=\"col_15\", outputCol = \"col_15_index\"),  \n",
        "StringIndexer(inputCol=\"col_16\", outputCol = \"col_16_index\"),  \n",
        "StringIndexer(inputCol=\"col_17\", outputCol = \"col_17_index\"),\n",
        "StringIndexer(inputCol=\"col_18\", outputCol = \"col_18_index\"),  \n",
        "StringIndexer(inputCol=\"col_19\", outputCol = \"col_19_index\"),\n",
        "StringIndexer(inputCol=\"col_20\", outputCol = \"col_20_index\"),  \n",
        "StringIndexer(inputCol=\"col_21\", outputCol = \"col_21_index\"),  \n",
        "StringIndexer(inputCol=\"col_22\", outputCol = \"col_22_index\"),  \n",
        "StringIndexer(inputCol=\"col_23\", outputCol = \"col_23_index\"),\n",
        "StringIndexer(inputCol=\"col_24\", outputCol = \"col_24_index\"),  \n",
        "StringIndexer(inputCol=\"col_25\", outputCol = \"col_25_index\"),  \n",
        "StringIndexer(inputCol=\"col_26\", outputCol = \"col_26_index\"),  \n",
        "StringIndexer(inputCol=\"col_27\", outputCol = \"col_27_index\"),\n",
        "StringIndexer(inputCol=\"col_28\", outputCol = \"col_28_index\"),  \n",
        "StringIndexer(inputCol=\"col_29\", outputCol = \"col_29_index\"),\n",
        "StringIndexer(inputCol=\"col_30\", outputCol = \"col_30_index\"),  \n",
        "StringIndexer(inputCol=\"col_31\", outputCol = \"col_31_index\"),  \n",
        "StringIndexer(inputCol=\"col_32\", outputCol = \"col_32_index\"),  \n",
        "StringIndexer(inputCol=\"col_33\", outputCol = \"col_33_index\"),\n",
        "StringIndexer(inputCol=\"col_34\", outputCol = \"col_34_index\"),  \n",
        "StringIndexer(inputCol=\"col_35\", outputCol = \"col_35_index\"),  \n",
        "StringIndexer(inputCol=\"col_36\", outputCol = \"col_36_index\"),  \n",
        "StringIndexer(inputCol=\"col_37\", outputCol = \"col_37_index\"),\n",
        "StringIndexer(inputCol=\"col_38\", outputCol = \"col_38_index\"),  \n",
        "StringIndexer(inputCol=\"col_39\", outputCol = \"col_39_index\"),\n",
        "StringIndexer(inputCol=\"col_40\", outputCol = \"col_40_index\"),  \n",
        "StringIndexer(inputCol=\"col_41\", outputCol = \"col_41_index\"),  \n",
        "StringIndexer(inputCol=\"col_42\", outputCol = \"col_42_index\"),  \n",
        "StringIndexer(inputCol=\"col_43\", outputCol = \"col_43_index\"),\n",
        "StringIndexer(inputCol=\"col_44\", outputCol = \"col_44_index\"),  \n",
        "StringIndexer(inputCol=\"col_45\", outputCol = \"col_45_index\"),  \n",
        "StringIndexer(inputCol=\"col_46\", outputCol = \"col_46_index\"),  \n",
        "StringIndexer(inputCol=\"col_47\", outputCol = \"col_47_index\"),\n",
        "StringIndexer(inputCol=\"col_48\", outputCol = \"col_48_index\"),  \n",
        "StringIndexer(inputCol=\"col_49\", outputCol = \"col_49_index\"),\n",
        "StringIndexer(inputCol=\"col_50\", outputCol = \"col_50_index\"),  \n",
        "StringIndexer(inputCol=\"col_51\", outputCol = \"col_51_index\"),  \n",
        "StringIndexer(inputCol=\"col_52\", outputCol = \"col_52_index\"),  \n",
        "StringIndexer(inputCol=\"col_53\", outputCol = \"col_53_index\"),\n",
        "StringIndexer(inputCol=\"col_54\", outputCol = \"col_54_index\"),  \n",
        "StringIndexer(inputCol=\"col_55\", outputCol = \"col_55_index\"),  \n",
        "StringIndexer(inputCol=\"col_56\", outputCol = \"col_56_index\"),  \n",
        "StringIndexer(inputCol=\"col_57\", outputCol = \"col_57_index\"),\n",
        "StringIndexer(inputCol=\"col_58\", outputCol = \"col_58_index\"),  \n",
        "StringIndexer(inputCol=\"col_59\", outputCol = \"col_59_index\"),\n",
        "StringIndexer(inputCol=\"col_60\", outputCol = \"col_60_index\"),  \n",
        "StringIndexer(inputCol=\"col_61\", outputCol = \"col_61_index\"),  \n",
        "StringIndexer(inputCol=\"col_62\", outputCol = \"col_62_index\"),  \n",
        "StringIndexer(inputCol=\"col_63\", outputCol = \"col_63_index\"),\n",
        "StringIndexer(inputCol=\"col_64\", outputCol = \"col_64_index\"),  \n",
        "StringIndexer(inputCol=\"col_65\", outputCol = \"col_65_index\"),  \n",
        "StringIndexer(inputCol=\"col_66\", outputCol = \"col_66_index\"),  \n",
        "StringIndexer(inputCol=\"col_67\", outputCol = \"col_67_index\"),\n",
        "StringIndexer(inputCol=\"col_68\", outputCol = \"col_68_index\"),  \n",
        "StringIndexer(inputCol=\"col_69\", outputCol = \"col_69_index\"),\n",
        "StringIndexer(inputCol=\"col_70\", outputCol = \"col_70_index\"),  \n",
        "StringIndexer(inputCol=\"col_71\", outputCol = \"col_71_index\"),  \n",
        "StringIndexer(inputCol=\"col_72\", outputCol = \"col_72_index\"),  \n",
        "StringIndexer(inputCol=\"col_73\", outputCol = \"col_73_index\"),\n",
        "StringIndexer(inputCol=\"col_74\", outputCol = \"col_74_index\"),  \n",
        "StringIndexer(inputCol=\"col_75\", outputCol = \"col_75_index\"),  \n",
        "StringIndexer(inputCol=\"col_76\", outputCol = \"col_76_index\"),  \n",
        "StringIndexer(inputCol=\"col_77\", outputCol = \"col_77_index\"),\n",
        "StringIndexer(inputCol=\"col_78\", outputCol = \"col_78_index\"),  \n",
        "StringIndexer(inputCol=\"col_79\", outputCol = \"col_79_index\"),\n",
        "StringIndexer(inputCol=\"col_80\", outputCol = \"col_80_index\"),  \n",
        "StringIndexer(inputCol=\"col_81\", outputCol = \"col_81_index\"),  \n",
        "StringIndexer(inputCol=\"col_82\", outputCol = \"col_82_index\"),  \n",
        "StringIndexer(inputCol=\"col_83\", outputCol = \"col_83_index\"),\n",
        "StringIndexer(inputCol=\"col_84\", outputCol = \"col_84_index\"),  \n",
        "StringIndexer(inputCol=\"col_85\", outputCol = \"col_85_index\"),  \n",
        "StringIndexer(inputCol=\"col_86\", outputCol = \"col_86_index\"),  \n",
        "StringIndexer(inputCol=\"col_87\", outputCol = \"col_87_index\"),\n",
        "StringIndexer(inputCol=\"col_88\", outputCol = \"col_88_index\"),  \n",
        "StringIndexer(inputCol=\"col_89\", outputCol = \"col_89_index\"),\n",
        "StringIndexer(inputCol=\"col_90\", outputCol = \"col_90_index\"),  \n",
        "StringIndexer(inputCol=\"col_91\", outputCol = \"col_91_index\"),  \n",
        "StringIndexer(inputCol=\"col_92\", outputCol = \"col_92_index\"),  \n",
        "StringIndexer(inputCol=\"col_93\", outputCol = \"col_93_index\"),\n",
        "StringIndexer(inputCol=\"col_94\", outputCol = \"col_94_index\"),  \n",
        "StringIndexer(inputCol=\"col_95\", outputCol = \"col_95_index\"),  \n",
        "StringIndexer(inputCol=\"col_96\", outputCol = \"col_96_index\"),  \n",
        "StringIndexer(inputCol=\"col_97\", outputCol = \"col_97_index\"),\n",
        "StringIndexer(inputCol=\"col_98\", outputCol = \"col_98_index\"),  \n",
        "StringIndexer(inputCol=\"col_99\", outputCol = \"col_99_index\"),\n",
        "StringIndexer(inputCol=\"col_100\", outputCol = \"col_100_index\"),  \n",
        "StringIndexer(inputCol=\"col_101\", outputCol = \"col_101_index\"),  \n",
        "StringIndexer(inputCol=\"col_102\", outputCol = \"col_102_index\"),  \n",
        "StringIndexer(inputCol=\"col_103\", outputCol = \"col_103_index\"),\n",
        "StringIndexer(inputCol=\"col_104\", outputCol = \"col_104_index\"),  \n",
        "StringIndexer(inputCol=\"col_105\", outputCol = \"col_105_index\"),  \n",
        "StringIndexer(inputCol=\"col_106\", outputCol = \"col_106_index\"),  \n",
        "StringIndexer(inputCol=\"col_107\", outputCol = \"col_107_index\"),\n",
        "StringIndexer(inputCol=\"col_108\", outputCol = \"col_108_index\"),  \n",
        "StringIndexer(inputCol=\"col_109\", outputCol = \"col_109_index\"),\n",
        "StringIndexer(inputCol=\"col_110\", outputCol = \"col_110_index\"),  \n",
        "StringIndexer(inputCol=\"col_111\", outputCol = \"col_111_index\"),  \n",
        "StringIndexer(inputCol=\"targets\", outputCol = \"label\")]"
      ],
      "execution_count": 34,
      "outputs": []
    },
    {
      "cell_type": "code",
      "metadata": {
        "id": "coUl3tJbSr48"
      },
      "source": [
        "pipeline = Pipeline(stages=indexers)"
      ],
      "execution_count": 35,
      "outputs": []
    },
    {
      "cell_type": "code",
      "metadata": {
        "id": "pLfxuhXTSr6x"
      },
      "source": [
        "#Fitting a model to the input dataset. \n",
        "indexed_fraud_df = pipeline.fit(fraud_df).transform(fraud_df)"
      ],
      "execution_count": 36,
      "outputs": []
    },
    {
      "cell_type": "code",
      "metadata": {
        "colab": {
          "base_uri": "https://localhost:8080/"
        },
        "id": "OusHcaUhcSUz",
        "outputId": "56c203d3-9351-4900-ee5a-0281715ab68e"
      },
      "source": [
        "indexed_fraud_df.show(5,False)\n",
        "#We have given False for turn off default truncation"
      ],
      "execution_count": 37,
      "outputs": [
        {
          "output_type": "stream",
          "name": "stdout",
          "text": [
            "+-----+-----+-----+-----+-----+-----+-----+-----+-----+-----+------+------+------+------+------+------+------+------+------+------+------+------+------+------+------+------+------+------+------+------+------+------+------+------+------+------+------+------+------+------+------+------+------+------+------+------+------+------+------+------+------+------+------+------+------+------+------+------+------+------+------+------+------+------+------+------+------+-------------+------+------+------+------+------+------+------+------+------+------+------+------+------+------+------+------+------+------+------+------+------+------+------+------+------+------+------+------+------+------+------+------+-------+-------+-------+-------+-------+-------+-------+-------+-------+-------+-------+-------+-------+-----------+-----------+-----------+-----------+-----------+-----------+-----------+-----------+-----------+-----------+------------+------------+------------+------------+------------+------------+------------+------------+------------+------------+------------+------------+------------+------------+------------+------------+------------+------------+------------+------------+------------+------------+------------+------------+------------+------------+------------+------------+------------+------------+------------+------------+------------+------------+------------+------------+------------+------------+------------+------------+------------+------------+------------+------------+------------+------------+------------+------------+------------+------------+------------+------------+------------+------------+------------+------------+------------+------------+------------+------------+------------+------------+------------+------------+------------+------------+------------+------------+------------+------------+------------+------------+------------+------------+------------+------------+------------+------------+------------+------------+------------+------------+------------+------------+------------+------------+------------+------------+------------+------------+-------------+-------------+-------------+-------------+-------------+-------------+-------------+-------------+-------------+-------------+-------------+-------------+-----+\n",
            "|col_0|col_1|col_2|col_3|col_4|col_5|col_6|col_7|col_8|col_9|col_10|col_11|col_12|col_13|col_14|col_15|col_16|col_17|col_18|col_19|col_20|col_21|col_22|col_23|col_24|col_25|col_26|col_27|col_28|col_29|col_30|col_31|col_32|col_33|col_34|col_35|col_36|col_37|col_38|col_39|col_40|col_41|col_42|col_43|col_44|col_45|col_46|col_47|col_48|col_49|col_50|col_51|col_52|col_53|col_54|col_55|col_56|col_57|col_58|col_59|col_60|col_61|col_62|col_63|col_64|col_65|col_66|col_67       |col_68|col_69|col_70|col_71|col_72|col_73|col_74|col_75|col_76|col_77|col_78|col_79|col_80|col_81|col_82|col_83|col_84|col_85|col_86|col_87|col_88|col_89|col_90|col_91|col_92|col_93|col_94|col_95|col_96|col_97|col_98|col_99|col_100|col_101|col_102|col_103|col_104|col_105|col_106|col_107|col_108|col_109|col_110|col_111|targets|col_0_index|col_1_index|col_2_index|col_3_index|col_4_index|col_5_index|col_6_index|col_7_index|col_8_index|col_9_index|col_10_index|col_11_index|col_12_index|col_13_index|col_14_index|col_15_index|col_16_index|col_17_index|col_18_index|col_19_index|col_20_index|col_21_index|col_22_index|col_23_index|col_24_index|col_25_index|col_26_index|col_27_index|col_28_index|col_29_index|col_30_index|col_31_index|col_32_index|col_33_index|col_34_index|col_35_index|col_36_index|col_37_index|col_38_index|col_39_index|col_40_index|col_41_index|col_42_index|col_43_index|col_44_index|col_45_index|col_46_index|col_47_index|col_48_index|col_49_index|col_50_index|col_51_index|col_52_index|col_53_index|col_54_index|col_55_index|col_56_index|col_57_index|col_58_index|col_59_index|col_60_index|col_61_index|col_62_index|col_63_index|col_64_index|col_65_index|col_66_index|col_67_index|col_68_index|col_69_index|col_70_index|col_71_index|col_72_index|col_73_index|col_74_index|col_75_index|col_76_index|col_77_index|col_78_index|col_79_index|col_80_index|col_81_index|col_82_index|col_83_index|col_84_index|col_85_index|col_86_index|col_87_index|col_88_index|col_89_index|col_90_index|col_91_index|col_92_index|col_93_index|col_94_index|col_95_index|col_96_index|col_97_index|col_98_index|col_99_index|col_100_index|col_101_index|col_102_index|col_103_index|col_104_index|col_105_index|col_106_index|col_107_index|col_108_index|col_109_index|col_110_index|col_111_index|label|\n",
            "+-----+-----+-----+-----+-----+-----+-----+-----+-----+-----+------+------+------+------+------+------+------+------+------+------+------+------+------+------+------+------+------+------+------+------+------+------+------+------+------+------+------+------+------+------+------+------+------+------+------+------+------+------+------+------+------+------+------+------+------+------+------+------+------+------+------+------+------+------+------+------+------+-------------+------+------+------+------+------+------+------+------+------+------+------+------+------+------+------+------+------+------+------+------+------+------+------+------+------+------+------+------+------+------+------+------+-------+-------+-------+-------+-------+-------+-------+-------+-------+-------+-------+-------+-------+-----------+-----------+-----------+-----------+-----------+-----------+-----------+-----------+-----------+-----------+------------+------------+------------+------------+------------+------------+------------+------------+------------+------------+------------+------------+------------+------------+------------+------------+------------+------------+------------+------------+------------+------------+------------+------------+------------+------------+------------+------------+------------+------------+------------+------------+------------+------------+------------+------------+------------+------------+------------+------------+------------+------------+------------+------------+------------+------------+------------+------------+------------+------------+------------+------------+------------+------------+------------+------------+------------+------------+------------+------------+------------+------------+------------+------------+------------+------------+------------+------------+------------+------------+------------+------------+------------+------------+------------+------------+------------+------------+------------+------------+------------+------------+------------+------------+------------+------------+------------+------------+------------+------------+-------------+-------------+-------------+-------------+-------------+-------------+-------------+-------------+-------------+-------------+-------------+-------------+-----+\n",
            "|9    |1354 |0    |18   |0    |1    |7    |9    |0    |0    |0     |0     |0     |0     |1     |0     |1     |0     |0     |0     |0     |0     |9     |74    |19    |25    |0     |0     |1     |3     |24    |0     |0     |0     |2     |0     |97    |0     |981   |0     |0     |20    |89    |1     |1     |0     |0     |36    |35    |358   |15    |0     |0     |0     |1182  |56    |0     |11    |0     |16    |82    |1     |1     |32    |31    |189   |32    |17043.0846561|189   |9     |0     |0     |0     |0     |0     |0     |0     |0     |0     |0     |0     |0     |0     |0     |0     |0     |0     |0     |0     |0     |0     |0     |0     |0     |0     |0     |1     |1     |1     |0     |0      |0      |4      |0      |0      |0      |1      |1      |0      |0      |0      |49     |1      |9.0        |933.0      |0.0        |20.0       |0.0        |1.0        |3.0        |9.0        |0.0        |0.0        |0.0         |0.0         |0.0         |0.0         |1.0         |0.0         |1.0         |0.0         |0.0         |0.0         |0.0         |0.0         |9.0         |65.0        |18.0        |25.0        |0.0         |0.0         |0.0         |3.0         |23.0        |0.0         |0.0         |0.0         |2.0         |0.0         |96.0        |0.0         |408.0       |0.0         |0.0         |19.0        |64.0        |1.0         |1.0         |0.0         |0.0         |35.0        |33.0        |212.0       |17.0        |0.0         |0.0         |0.0         |697.0       |49.0        |0.0         |10.0        |0.0         |23.0        |93.0        |1.0         |1.0         |26.0        |33.0        |104.0       |35.0        |2348.0      |224.0       |9.0         |0.0         |0.0         |0.0         |0.0         |0.0         |0.0         |0.0         |0.0         |0.0         |0.0         |0.0         |0.0         |0.0         |0.0         |0.0         |0.0         |0.0         |0.0         |0.0         |0.0         |0.0         |0.0         |0.0         |0.0         |0.0         |0.0         |1.0         |1.0         |1.0         |0.0         |0.0          |0.0          |4.0          |0.0          |0.0          |0.0          |1.0          |1.0          |0.0          |0.0          |0.0          |259.0        |1.0  |\n",
            "|0    |239  |0    |1    |0    |1    |0    |0    |0    |0    |0     |0     |0     |0     |0     |0     |1     |0     |0     |0     |0     |0     |0     |7     |1     |0     |0     |0     |1     |1     |0     |0     |0     |0     |0     |0     |0     |0     |18    |0     |0     |0     |0     |0     |0     |0     |0     |0     |0     |14    |0     |0     |0     |0     |32    |0     |0     |0     |0     |0     |0     |0     |0     |0     |0     |0     |0     |1156.72      |25    |3     |0     |0     |0     |0     |0     |0     |0     |0     |0     |0     |0     |0     |0     |0     |0     |0     |0     |0     |0     |1     |0     |0     |0     |0     |0     |0     |0     |0     |0     |1     |0      |0      |0      |0      |1      |0      |0      |0      |0      |0      |0      |55     |1      |0.0        |169.0      |0.0        |1.0        |0.0        |1.0        |0.0        |0.0        |0.0        |0.0        |0.0         |0.0         |0.0         |0.0         |0.0         |0.0         |1.0         |0.0         |0.0         |0.0         |0.0         |0.0         |0.0         |7.0         |0.0         |0.0         |0.0         |0.0         |0.0         |1.0         |0.0         |0.0         |0.0         |0.0         |0.0         |0.0         |0.0         |0.0         |16.0        |0.0         |0.0         |0.0         |0.0         |0.0         |0.0         |0.0         |0.0         |0.0         |0.0         |11.0        |0.0         |0.0         |0.0         |0.0         |26.0        |0.0         |0.0         |0.0         |0.0         |0.0         |0.0         |0.0         |0.0         |0.0         |0.0         |0.0         |0.0         |767.0       |23.0        |3.0         |0.0         |0.0         |0.0         |0.0         |0.0         |0.0         |0.0         |0.0         |0.0         |0.0         |0.0         |0.0         |0.0         |0.0         |0.0         |0.0         |0.0         |0.0         |0.0         |1.0         |0.0         |0.0         |0.0         |0.0         |0.0         |0.0         |0.0         |0.0         |0.0         |1.0         |0.0          |0.0          |0.0          |0.0          |1.0          |0.0          |0.0          |0.0          |0.0          |0.0          |0.0          |13.0         |1.0  |\n",
            "|0    |260  |0    |4    |0    |3    |6    |0    |0    |0    |0     |0     |0     |0     |1     |1     |0     |0     |0     |0     |0     |0     |0     |13    |7     |5     |0     |0     |1     |5     |0     |0     |0     |0     |0     |0     |5     |0     |91    |0     |0     |6     |0     |0     |0     |0     |0     |13    |8     |45    |0     |0     |0     |0     |168   |0     |0     |0     |0     |0     |0     |0     |0     |0     |0     |0     |0     |245.365853659|41    |7     |0     |0     |0     |0     |0     |0     |0     |0     |0     |0     |0     |0     |1     |0     |0     |0     |0     |0     |0     |0     |0     |0     |0     |0     |0     |0     |1     |0     |1     |0     |0      |0      |1      |0      |0      |0      |1      |1      |0      |0      |0      |56     |1      |0.0        |368.0      |0.0        |4.0        |0.0        |3.0        |4.0        |0.0        |0.0        |0.0        |0.0         |0.0         |0.0         |0.0         |1.0         |1.0         |0.0         |0.0         |0.0         |0.0         |0.0         |0.0         |0.0         |13.0        |7.0         |5.0         |0.0         |0.0         |0.0         |5.0         |0.0         |0.0         |0.0         |0.0         |0.0         |0.0         |5.0         |0.0         |74.0        |0.0         |0.0         |6.0         |0.0         |0.0         |0.0         |0.0         |0.0         |13.0        |8.0         |46.0        |0.0         |0.0         |0.0         |0.0         |247.0       |0.0         |0.0         |0.0         |0.0         |0.0         |0.0         |0.0         |0.0         |0.0         |0.0         |0.0         |0.0         |3861.0      |43.0        |7.0         |0.0         |0.0         |0.0         |0.0         |0.0         |0.0         |0.0         |0.0         |0.0         |0.0         |0.0         |0.0         |1.0         |0.0         |0.0         |0.0         |0.0         |0.0         |0.0         |0.0         |0.0         |0.0         |0.0         |0.0         |0.0         |0.0         |1.0         |0.0         |1.0         |0.0         |0.0          |0.0          |1.0          |0.0          |0.0          |0.0          |1.0          |1.0          |0.0          |0.0          |0.0          |43.0         |1.0  |\n",
            "|17   |682  |0    |1    |0    |0    |8    |17   |0    |0    |0     |0     |0     |0     |0     |0     |1     |0     |0     |0     |0     |0     |23    |52    |1     |7     |0     |0     |1     |1     |1     |9     |0     |0     |0     |0     |3     |0     |26    |0     |0     |0     |2     |0     |0     |0     |0     |0     |0     |4     |2     |0     |0     |0     |33    |0     |0     |0     |0     |0     |2     |0     |0     |0     |0     |2     |0     |46088.1842105|38    |5     |0     |0     |0     |0     |0     |0     |0     |0     |0     |0     |0     |0     |0     |0     |0     |0     |0     |0     |0     |0     |0     |0     |0     |0     |0     |0     |0     |0     |1     |0     |0      |0      |1      |0      |1      |0      |1      |1      |0      |0      |0      |65     |1      |16.0       |607.0      |0.0        |1.0        |0.0        |0.0        |6.0        |16.0       |0.0        |0.0        |0.0         |0.0         |0.0         |0.0         |0.0         |0.0         |1.0         |0.0         |0.0         |0.0         |0.0         |0.0         |24.0        |52.0        |0.0         |7.0         |0.0         |0.0         |0.0         |1.0         |1.0         |10.0        |0.0         |0.0         |0.0         |0.0         |3.0         |0.0         |27.0        |0.0         |0.0         |0.0         |2.0         |0.0         |0.0         |0.0         |0.0         |0.0         |0.0         |4.0         |2.0         |0.0         |0.0         |0.0         |50.0        |0.0         |0.0         |0.0         |0.0         |0.0         |2.0         |0.0         |0.0         |0.0         |0.0         |2.0         |0.0         |6441.0      |38.0        |5.0         |0.0         |0.0         |0.0         |0.0         |0.0         |0.0         |0.0         |0.0         |0.0         |0.0         |0.0         |0.0         |0.0         |0.0         |0.0         |0.0         |0.0         |0.0         |0.0         |0.0         |0.0         |0.0         |0.0         |0.0         |0.0         |0.0         |0.0         |0.0         |1.0         |0.0         |0.0          |0.0          |1.0          |0.0          |1.0          |0.0          |1.0          |1.0          |0.0          |0.0          |0.0          |10.0         |1.0  |\n",
            "|1    |540  |0    |2    |0    |1    |7    |1    |0    |0    |0     |0     |0     |0     |1     |0     |1     |0     |0     |0     |0     |0     |1     |20    |3     |11    |0     |0     |1     |4     |20    |0     |0     |0     |0     |0     |52    |0     |669   |0     |0     |0     |9     |0     |0     |0     |0     |21    |6     |66    |36    |0     |0     |0     |670   |39    |0     |36    |0     |0     |8     |0     |0     |20    |4     |48    |34    |26070.2329317|249   |6     |0     |0     |0     |0     |0     |0     |1     |0     |0     |0     |0     |0     |0     |0     |0     |0     |0     |0     |0     |0     |0     |0     |1     |0     |0     |0     |0     |0     |1     |0     |0      |0      |1      |0      |0      |0      |1      |1      |0      |0      |0      |175    |1      |1.0        |447.0      |0.0        |2.0        |0.0        |1.0        |3.0        |1.0        |0.0        |0.0        |0.0         |0.0         |0.0         |0.0         |1.0         |0.0         |1.0         |0.0         |0.0         |0.0         |0.0         |0.0         |1.0         |20.0        |2.0         |11.0        |0.0         |0.0         |0.0         |4.0         |19.0        |0.0         |0.0         |0.0         |0.0         |0.0         |59.0        |0.0         |590.0       |0.0         |0.0         |0.0         |10.0        |0.0         |0.0         |0.0         |0.0         |24.0        |6.0         |66.0        |40.0        |0.0         |0.0         |0.0         |621.0       |31.0        |0.0         |36.0        |0.0         |0.0         |10.0        |0.0         |0.0         |23.0        |4.0         |52.0        |28.0        |4129.0      |255.0       |6.0         |0.0         |0.0         |0.0         |0.0         |0.0         |0.0         |1.0         |0.0         |0.0         |0.0         |0.0         |0.0         |0.0         |0.0         |0.0         |0.0         |0.0         |0.0         |0.0         |0.0         |0.0         |0.0         |1.0         |0.0         |0.0         |0.0         |0.0         |0.0         |1.0         |0.0         |0.0          |0.0          |1.0          |0.0          |0.0          |0.0          |1.0          |1.0          |0.0          |0.0          |0.0          |176.0        |1.0  |\n",
            "+-----+-----+-----+-----+-----+-----+-----+-----+-----+-----+------+------+------+------+------+------+------+------+------+------+------+------+------+------+------+------+------+------+------+------+------+------+------+------+------+------+------+------+------+------+------+------+------+------+------+------+------+------+------+------+------+------+------+------+------+------+------+------+------+------+------+------+------+------+------+------+------+-------------+------+------+------+------+------+------+------+------+------+------+------+------+------+------+------+------+------+------+------+------+------+------+------+------+------+------+------+------+------+------+------+------+-------+-------+-------+-------+-------+-------+-------+-------+-------+-------+-------+-------+-------+-----------+-----------+-----------+-----------+-----------+-----------+-----------+-----------+-----------+-----------+------------+------------+------------+------------+------------+------------+------------+------------+------------+------------+------------+------------+------------+------------+------------+------------+------------+------------+------------+------------+------------+------------+------------+------------+------------+------------+------------+------------+------------+------------+------------+------------+------------+------------+------------+------------+------------+------------+------------+------------+------------+------------+------------+------------+------------+------------+------------+------------+------------+------------+------------+------------+------------+------------+------------+------------+------------+------------+------------+------------+------------+------------+------------+------------+------------+------------+------------+------------+------------+------------+------------+------------+------------+------------+------------+------------+------------+------------+------------+------------+------------+------------+------------+------------+------------+------------+------------+------------+------------+------------+-------------+-------------+-------------+-------------+-------------+-------------+-------------+-------------+-------------+-------------+-------------+-------------+-----+\n",
            "only showing top 5 rows\n",
            "\n"
          ]
        }
      ]
    },
    {
      "cell_type": "code",
      "metadata": {
        "id": "qGNIKIe_cSXj"
      },
      "source": [
        "vectorAssembler = VectorAssembler(inputCols = [\n",
        "                                               \"col_0_index\", \n",
        "                                               \"col_1_index\", \n",
        "                                               \"col_2_index\",\n",
        "                                               \"col_3_index\", \n",
        "                                               \"col_4_index\", \n",
        "                                               \"col_5_index\",\n",
        "                                               \"col_6_index\", \n",
        "                                               \"col_7_index\", \n",
        "                                               \"col_8_index\",\n",
        "                                               \"col_9_index\",\n",
        "                                               \"col_10_index\", \n",
        "                                               \"col_11_index\", \n",
        "                                               \"col_12_index\",\n",
        "                                               \"col_13_index\", \n",
        "                                               \"col_14_index\", \n",
        "                                               \"col_15_index\",\n",
        "                                               \"col_16_index\", \n",
        "                                               \"col_17_index\", \n",
        "                                               \"col_18_index\",\n",
        "                                               \"col_19_index\",\n",
        "                                               \"col_20_index\", \n",
        "                                               \"col_21_index\", \n",
        "                                               \"col_22_index\",\n",
        "                                               \"col_23_index\", \n",
        "                                               \"col_24_index\", \n",
        "                                               \"col_25_index\",\n",
        "                                               \"col_26_index\", \n",
        "                                               \"col_27_index\", \n",
        "                                               \"col_28_index\",\n",
        "                                               \"col_29_index\",\n",
        "                                               \"col_30_index\", \n",
        "                                               \"col_31_index\", \n",
        "                                               \"col_32_index\",\n",
        "                                               \"col_33_index\", \n",
        "                                               \"col_34_index\", \n",
        "                                               \"col_35_index\",\n",
        "                                               \"col_36_index\", \n",
        "                                               \"col_37_index\", \n",
        "                                               \"col_38_index\",\n",
        "                                               \"col_39_index\",\n",
        "                                               \"col_40_index\", \n",
        "                                               \"col_41_index\", \n",
        "                                               \"col_42_index\",\n",
        "                                               \"col_43_index\", \n",
        "                                               \"col_44_index\", \n",
        "                                               \"col_45_index\",\n",
        "                                               \"col_46_index\", \n",
        "                                               \"col_47_index\", \n",
        "                                               \"col_48_index\",\n",
        "                                               \"col_49_index\",\n",
        "                                               \"col_50_index\", \n",
        "                                               \"col_51_index\", \n",
        "                                               \"col_52_index\",\n",
        "                                               \"col_53_index\", \n",
        "                                               \"col_54_index\", \n",
        "                                               \"col_55_index\",\n",
        "                                               \"col_56_index\", \n",
        "                                               \"col_57_index\", \n",
        "                                               \"col_58_index\",\n",
        "                                               \"col_59_index\",\n",
        "                                               \"col_60_index\", \n",
        "                                               \"col_61_index\", \n",
        "                                               \"col_62_index\",\n",
        "                                               \"col_63_index\", \n",
        "                                               \"col_64_index\", \n",
        "                                               \"col_65_index\",\n",
        "                                               \"col_66_index\", \n",
        "                                               \"col_67_index\", \n",
        "                                               \"col_68_index\",\n",
        "                                               \"col_69_index\",\n",
        "                                               \"col_70_index\", \n",
        "                                               \"col_71_index\", \n",
        "                                               \"col_72_index\",\n",
        "                                               \"col_73_index\", \n",
        "                                               \"col_74_index\", \n",
        "                                               \"col_75_index\",\n",
        "                                               \"col_76_index\", \n",
        "                                               \"col_77_index\", \n",
        "                                               \"col_78_index\",\n",
        "                                               \"col_79_index\",\n",
        "                                               \"col_80_index\", \n",
        "                                               \"col_81_index\", \n",
        "                                               \"col_82_index\",\n",
        "                                               \"col_83_index\", \n",
        "                                               \"col_84_index\", \n",
        "                                               \"col_85_index\",\n",
        "                                               \"col_86_index\", \n",
        "                                               \"col_87_index\", \n",
        "                                               \"col_88_index\",\n",
        "                                               \"col_89_index\",\n",
        "                                               \"col_90_index\", \n",
        "                                               \"col_91_index\", \n",
        "                                               \"col_92_index\",\n",
        "                                               \"col_93_index\", \n",
        "                                               \"col_94_index\", \n",
        "                                               \"col_95_index\",\n",
        "                                               \"col_96_index\", \n",
        "                                               \"col_97_index\", \n",
        "                                               \"col_98_index\",\n",
        "                                               \"col_99_index\",\n",
        "                                               \"col_100_index\", \n",
        "                                               \"col_101_index\", \n",
        "                                               \"col_102_index\",\n",
        "                                               \"col_103_index\", \n",
        "                                               \"col_104_index\", \n",
        "                                               \"col_105_index\",\n",
        "                                               \"col_106_index\", \n",
        "                                               \"col_107_index\", \n",
        "                                               \"col_108_index\",\n",
        "                                               \"col_109_index\",\n",
        "                                               \"col_110_index\", \n",
        "                                               \"col_111_index\" \n",
        "                                               ]\n",
        "                                  ,outputCol = \"features\") "
      ],
      "execution_count": 40,
      "outputs": []
    },
    {
      "cell_type": "code",
      "metadata": {
        "colab": {
          "base_uri": "https://localhost:8080/"
        },
        "id": "7wO4yuQscSaA",
        "outputId": "a87f7d0d-1d34-41c1-fe6c-c78b435eaf41"
      },
      "source": [
        "indexed_fraud_df = vectorAssembler.transform(indexed_fraud_df) \n",
        "indexed_fraud_df.show(5, False)"
      ],
      "execution_count": 41,
      "outputs": [
        {
          "output_type": "stream",
          "name": "stdout",
          "text": [
            "+-----+-----+-----+-----+-----+-----+-----+-----+-----+-----+------+------+------+------+------+------+------+------+------+------+------+------+------+------+------+------+------+------+------+------+------+------+------+------+------+------+------+------+------+------+------+------+------+------+------+------+------+------+------+------+------+------+------+------+------+------+------+------+------+------+------+------+------+------+------+------+------+-------------+------+------+------+------+------+------+------+------+------+------+------+------+------+------+------+------+------+------+------+------+------+------+------+------+------+------+------+------+------+------+------+------+-------+-------+-------+-------+-------+-------+-------+-------+-------+-------+-------+-------+-------+-----------+-----------+-----------+-----------+-----------+-----------+-----------+-----------+-----------+-----------+------------+------------+------------+------------+------------+------------+------------+------------+------------+------------+------------+------------+------------+------------+------------+------------+------------+------------+------------+------------+------------+------------+------------+------------+------------+------------+------------+------------+------------+------------+------------+------------+------------+------------+------------+------------+------------+------------+------------+------------+------------+------------+------------+------------+------------+------------+------------+------------+------------+------------+------------+------------+------------+------------+------------+------------+------------+------------+------------+------------+------------+------------+------------+------------+------------+------------+------------+------------+------------+------------+------------+------------+------------+------------+------------+------------+------------+------------+------------+------------+------------+------------+------------+------------+------------+------------+------------+------------+------------+------------+-------------+-------------+-------------+-------------+-------------+-------------+-------------+-------------+-------------+-------------+-------------+-------------+-----+----------------------------------------------------------------------------------------------------------------------------------------------------------------------------------------------------------------------------------------------------------------------------------------------------------------------------------------------------------------------------+\n",
            "|col_0|col_1|col_2|col_3|col_4|col_5|col_6|col_7|col_8|col_9|col_10|col_11|col_12|col_13|col_14|col_15|col_16|col_17|col_18|col_19|col_20|col_21|col_22|col_23|col_24|col_25|col_26|col_27|col_28|col_29|col_30|col_31|col_32|col_33|col_34|col_35|col_36|col_37|col_38|col_39|col_40|col_41|col_42|col_43|col_44|col_45|col_46|col_47|col_48|col_49|col_50|col_51|col_52|col_53|col_54|col_55|col_56|col_57|col_58|col_59|col_60|col_61|col_62|col_63|col_64|col_65|col_66|col_67       |col_68|col_69|col_70|col_71|col_72|col_73|col_74|col_75|col_76|col_77|col_78|col_79|col_80|col_81|col_82|col_83|col_84|col_85|col_86|col_87|col_88|col_89|col_90|col_91|col_92|col_93|col_94|col_95|col_96|col_97|col_98|col_99|col_100|col_101|col_102|col_103|col_104|col_105|col_106|col_107|col_108|col_109|col_110|col_111|targets|col_0_index|col_1_index|col_2_index|col_3_index|col_4_index|col_5_index|col_6_index|col_7_index|col_8_index|col_9_index|col_10_index|col_11_index|col_12_index|col_13_index|col_14_index|col_15_index|col_16_index|col_17_index|col_18_index|col_19_index|col_20_index|col_21_index|col_22_index|col_23_index|col_24_index|col_25_index|col_26_index|col_27_index|col_28_index|col_29_index|col_30_index|col_31_index|col_32_index|col_33_index|col_34_index|col_35_index|col_36_index|col_37_index|col_38_index|col_39_index|col_40_index|col_41_index|col_42_index|col_43_index|col_44_index|col_45_index|col_46_index|col_47_index|col_48_index|col_49_index|col_50_index|col_51_index|col_52_index|col_53_index|col_54_index|col_55_index|col_56_index|col_57_index|col_58_index|col_59_index|col_60_index|col_61_index|col_62_index|col_63_index|col_64_index|col_65_index|col_66_index|col_67_index|col_68_index|col_69_index|col_70_index|col_71_index|col_72_index|col_73_index|col_74_index|col_75_index|col_76_index|col_77_index|col_78_index|col_79_index|col_80_index|col_81_index|col_82_index|col_83_index|col_84_index|col_85_index|col_86_index|col_87_index|col_88_index|col_89_index|col_90_index|col_91_index|col_92_index|col_93_index|col_94_index|col_95_index|col_96_index|col_97_index|col_98_index|col_99_index|col_100_index|col_101_index|col_102_index|col_103_index|col_104_index|col_105_index|col_106_index|col_107_index|col_108_index|col_109_index|col_110_index|col_111_index|label|features                                                                                                                                                                                                                                                                                                                                                                    |\n",
            "+-----+-----+-----+-----+-----+-----+-----+-----+-----+-----+------+------+------+------+------+------+------+------+------+------+------+------+------+------+------+------+------+------+------+------+------+------+------+------+------+------+------+------+------+------+------+------+------+------+------+------+------+------+------+------+------+------+------+------+------+------+------+------+------+------+------+------+------+------+------+------+------+-------------+------+------+------+------+------+------+------+------+------+------+------+------+------+------+------+------+------+------+------+------+------+------+------+------+------+------+------+------+------+------+------+------+-------+-------+-------+-------+-------+-------+-------+-------+-------+-------+-------+-------+-------+-----------+-----------+-----------+-----------+-----------+-----------+-----------+-----------+-----------+-----------+------------+------------+------------+------------+------------+------------+------------+------------+------------+------------+------------+------------+------------+------------+------------+------------+------------+------------+------------+------------+------------+------------+------------+------------+------------+------------+------------+------------+------------+------------+------------+------------+------------+------------+------------+------------+------------+------------+------------+------------+------------+------------+------------+------------+------------+------------+------------+------------+------------+------------+------------+------------+------------+------------+------------+------------+------------+------------+------------+------------+------------+------------+------------+------------+------------+------------+------------+------------+------------+------------+------------+------------+------------+------------+------------+------------+------------+------------+------------+------------+------------+------------+------------+------------+------------+------------+------------+------------+------------+------------+-------------+-------------+-------------+-------------+-------------+-------------+-------------+-------------+-------------+-------------+-------------+-------------+-----+----------------------------------------------------------------------------------------------------------------------------------------------------------------------------------------------------------------------------------------------------------------------------------------------------------------------------------------------------------------------------+\n",
            "|9    |1354 |0    |18   |0    |1    |7    |9    |0    |0    |0     |0     |0     |0     |1     |0     |1     |0     |0     |0     |0     |0     |9     |74    |19    |25    |0     |0     |1     |3     |24    |0     |0     |0     |2     |0     |97    |0     |981   |0     |0     |20    |89    |1     |1     |0     |0     |36    |35    |358   |15    |0     |0     |0     |1182  |56    |0     |11    |0     |16    |82    |1     |1     |32    |31    |189   |32    |17043.0846561|189   |9     |0     |0     |0     |0     |0     |0     |0     |0     |0     |0     |0     |0     |0     |0     |0     |0     |0     |0     |0     |0     |0     |0     |0     |0     |0     |0     |1     |1     |1     |0     |0      |0      |4      |0      |0      |0      |1      |1      |0      |0      |0      |49     |1      |9.0        |933.0      |0.0        |20.0       |0.0        |1.0        |3.0        |9.0        |0.0        |0.0        |0.0         |0.0         |0.0         |0.0         |1.0         |0.0         |1.0         |0.0         |0.0         |0.0         |0.0         |0.0         |9.0         |65.0        |18.0        |25.0        |0.0         |0.0         |0.0         |3.0         |23.0        |0.0         |0.0         |0.0         |2.0         |0.0         |96.0        |0.0         |408.0       |0.0         |0.0         |19.0        |64.0        |1.0         |1.0         |0.0         |0.0         |35.0        |33.0        |212.0       |17.0        |0.0         |0.0         |0.0         |697.0       |49.0        |0.0         |10.0        |0.0         |23.0        |93.0        |1.0         |1.0         |26.0        |33.0        |104.0       |35.0        |2348.0      |224.0       |9.0         |0.0         |0.0         |0.0         |0.0         |0.0         |0.0         |0.0         |0.0         |0.0         |0.0         |0.0         |0.0         |0.0         |0.0         |0.0         |0.0         |0.0         |0.0         |0.0         |0.0         |0.0         |0.0         |0.0         |0.0         |0.0         |0.0         |1.0         |1.0         |1.0         |0.0         |0.0          |0.0          |4.0          |0.0          |0.0          |0.0          |1.0          |1.0          |0.0          |0.0          |0.0          |259.0        |1.0  |(112,[0,1,3,5,6,7,14,16,22,23,24,25,29,30,34,36,38,41,42,43,44,47,48,49,50,54,55,57,59,60,61,62,63,64,65,66,67,68,69,96,97,98,102,106,107,111],[9.0,933.0,20.0,1.0,3.0,9.0,1.0,1.0,9.0,65.0,18.0,25.0,3.0,23.0,2.0,96.0,408.0,19.0,64.0,1.0,1.0,35.0,33.0,212.0,17.0,697.0,49.0,10.0,23.0,93.0,1.0,1.0,26.0,33.0,104.0,35.0,2348.0,224.0,9.0,1.0,1.0,1.0,4.0,1.0,1.0,259.0])|\n",
            "|0    |239  |0    |1    |0    |1    |0    |0    |0    |0    |0     |0     |0     |0     |0     |0     |1     |0     |0     |0     |0     |0     |0     |7     |1     |0     |0     |0     |1     |1     |0     |0     |0     |0     |0     |0     |0     |0     |18    |0     |0     |0     |0     |0     |0     |0     |0     |0     |0     |14    |0     |0     |0     |0     |32    |0     |0     |0     |0     |0     |0     |0     |0     |0     |0     |0     |0     |1156.72      |25    |3     |0     |0     |0     |0     |0     |0     |0     |0     |0     |0     |0     |0     |0     |0     |0     |0     |0     |0     |0     |1     |0     |0     |0     |0     |0     |0     |0     |0     |0     |1     |0      |0      |0      |0      |1      |0      |0      |0      |0      |0      |0      |55     |1      |0.0        |169.0      |0.0        |1.0        |0.0        |1.0        |0.0        |0.0        |0.0        |0.0        |0.0         |0.0         |0.0         |0.0         |0.0         |0.0         |1.0         |0.0         |0.0         |0.0         |0.0         |0.0         |0.0         |7.0         |0.0         |0.0         |0.0         |0.0         |0.0         |1.0         |0.0         |0.0         |0.0         |0.0         |0.0         |0.0         |0.0         |0.0         |16.0        |0.0         |0.0         |0.0         |0.0         |0.0         |0.0         |0.0         |0.0         |0.0         |0.0         |11.0        |0.0         |0.0         |0.0         |0.0         |26.0        |0.0         |0.0         |0.0         |0.0         |0.0         |0.0         |0.0         |0.0         |0.0         |0.0         |0.0         |0.0         |767.0       |23.0        |3.0         |0.0         |0.0         |0.0         |0.0         |0.0         |0.0         |0.0         |0.0         |0.0         |0.0         |0.0         |0.0         |0.0         |0.0         |0.0         |0.0         |0.0         |0.0         |0.0         |1.0         |0.0         |0.0         |0.0         |0.0         |0.0         |0.0         |0.0         |0.0         |0.0         |1.0         |0.0          |0.0          |0.0          |0.0          |1.0          |0.0          |0.0          |0.0          |0.0          |0.0          |0.0          |13.0         |1.0  |(112,[1,3,5,16,23,29,38,49,54,67,68,69,89,99,104,111],[169.0,1.0,1.0,1.0,7.0,1.0,16.0,11.0,26.0,767.0,23.0,3.0,1.0,1.0,1.0,13.0])                                                                                                                                                                                                                                           |\n",
            "|0    |260  |0    |4    |0    |3    |6    |0    |0    |0    |0     |0     |0     |0     |1     |1     |0     |0     |0     |0     |0     |0     |0     |13    |7     |5     |0     |0     |1     |5     |0     |0     |0     |0     |0     |0     |5     |0     |91    |0     |0     |6     |0     |0     |0     |0     |0     |13    |8     |45    |0     |0     |0     |0     |168   |0     |0     |0     |0     |0     |0     |0     |0     |0     |0     |0     |0     |245.365853659|41    |7     |0     |0     |0     |0     |0     |0     |0     |0     |0     |0     |0     |0     |1     |0     |0     |0     |0     |0     |0     |0     |0     |0     |0     |0     |0     |0     |1     |0     |1     |0     |0      |0      |1      |0      |0      |0      |1      |1      |0      |0      |0      |56     |1      |0.0        |368.0      |0.0        |4.0        |0.0        |3.0        |4.0        |0.0        |0.0        |0.0        |0.0         |0.0         |0.0         |0.0         |1.0         |1.0         |0.0         |0.0         |0.0         |0.0         |0.0         |0.0         |0.0         |13.0        |7.0         |5.0         |0.0         |0.0         |0.0         |5.0         |0.0         |0.0         |0.0         |0.0         |0.0         |0.0         |5.0         |0.0         |74.0        |0.0         |0.0         |6.0         |0.0         |0.0         |0.0         |0.0         |0.0         |13.0        |8.0         |46.0        |0.0         |0.0         |0.0         |0.0         |247.0       |0.0         |0.0         |0.0         |0.0         |0.0         |0.0         |0.0         |0.0         |0.0         |0.0         |0.0         |0.0         |3861.0      |43.0        |7.0         |0.0         |0.0         |0.0         |0.0         |0.0         |0.0         |0.0         |0.0         |0.0         |0.0         |0.0         |0.0         |1.0         |0.0         |0.0         |0.0         |0.0         |0.0         |0.0         |0.0         |0.0         |0.0         |0.0         |0.0         |0.0         |0.0         |1.0         |0.0         |1.0         |0.0         |0.0          |0.0          |1.0          |0.0          |0.0          |0.0          |1.0          |1.0          |0.0          |0.0          |0.0          |43.0         |1.0  |(112,[1,3,5,6,14,15,23,24,25,29,36,38,41,47,48,49,54,67,68,69,82,96,98,102,106,107,111],[368.0,4.0,3.0,4.0,1.0,1.0,13.0,7.0,5.0,5.0,5.0,74.0,6.0,13.0,8.0,46.0,247.0,3861.0,43.0,7.0,1.0,1.0,1.0,1.0,1.0,1.0,43.0])                                                                                                                                                         |\n",
            "|17   |682  |0    |1    |0    |0    |8    |17   |0    |0    |0     |0     |0     |0     |0     |0     |1     |0     |0     |0     |0     |0     |23    |52    |1     |7     |0     |0     |1     |1     |1     |9     |0     |0     |0     |0     |3     |0     |26    |0     |0     |0     |2     |0     |0     |0     |0     |0     |0     |4     |2     |0     |0     |0     |33    |0     |0     |0     |0     |0     |2     |0     |0     |0     |0     |2     |0     |46088.1842105|38    |5     |0     |0     |0     |0     |0     |0     |0     |0     |0     |0     |0     |0     |0     |0     |0     |0     |0     |0     |0     |0     |0     |0     |0     |0     |0     |0     |0     |0     |1     |0     |0      |0      |1      |0      |1      |0      |1      |1      |0      |0      |0      |65     |1      |16.0       |607.0      |0.0        |1.0        |0.0        |0.0        |6.0        |16.0       |0.0        |0.0        |0.0         |0.0         |0.0         |0.0         |0.0         |0.0         |1.0         |0.0         |0.0         |0.0         |0.0         |0.0         |24.0        |52.0        |0.0         |7.0         |0.0         |0.0         |0.0         |1.0         |1.0         |10.0        |0.0         |0.0         |0.0         |0.0         |3.0         |0.0         |27.0        |0.0         |0.0         |0.0         |2.0         |0.0         |0.0         |0.0         |0.0         |0.0         |0.0         |4.0         |2.0         |0.0         |0.0         |0.0         |50.0        |0.0         |0.0         |0.0         |0.0         |0.0         |2.0         |0.0         |0.0         |0.0         |0.0         |2.0         |0.0         |6441.0      |38.0        |5.0         |0.0         |0.0         |0.0         |0.0         |0.0         |0.0         |0.0         |0.0         |0.0         |0.0         |0.0         |0.0         |0.0         |0.0         |0.0         |0.0         |0.0         |0.0         |0.0         |0.0         |0.0         |0.0         |0.0         |0.0         |0.0         |0.0         |0.0         |0.0         |1.0         |0.0         |0.0          |0.0          |1.0          |0.0          |1.0          |0.0          |1.0          |1.0          |0.0          |0.0          |0.0          |10.0         |1.0  |(112,[0,1,3,6,7,16,22,23,25,29,30,31,36,38,42,49,50,54,60,65,67,68,69,98,102,104,106,107,111],[16.0,607.0,1.0,6.0,16.0,1.0,24.0,52.0,7.0,1.0,1.0,10.0,3.0,27.0,2.0,4.0,2.0,50.0,2.0,2.0,6441.0,38.0,5.0,1.0,1.0,1.0,1.0,1.0,10.0])                                                                                                                                          |\n",
            "|1    |540  |0    |2    |0    |1    |7    |1    |0    |0    |0     |0     |0     |0     |1     |0     |1     |0     |0     |0     |0     |0     |1     |20    |3     |11    |0     |0     |1     |4     |20    |0     |0     |0     |0     |0     |52    |0     |669   |0     |0     |0     |9     |0     |0     |0     |0     |21    |6     |66    |36    |0     |0     |0     |670   |39    |0     |36    |0     |0     |8     |0     |0     |20    |4     |48    |34    |26070.2329317|249   |6     |0     |0     |0     |0     |0     |0     |1     |0     |0     |0     |0     |0     |0     |0     |0     |0     |0     |0     |0     |0     |0     |0     |1     |0     |0     |0     |0     |0     |1     |0     |0      |0      |1      |0      |0      |0      |1      |1      |0      |0      |0      |175    |1      |1.0        |447.0      |0.0        |2.0        |0.0        |1.0        |3.0        |1.0        |0.0        |0.0        |0.0         |0.0         |0.0         |0.0         |1.0         |0.0         |1.0         |0.0         |0.0         |0.0         |0.0         |0.0         |1.0         |20.0        |2.0         |11.0        |0.0         |0.0         |0.0         |4.0         |19.0        |0.0         |0.0         |0.0         |0.0         |0.0         |59.0        |0.0         |590.0       |0.0         |0.0         |0.0         |10.0        |0.0         |0.0         |0.0         |0.0         |24.0        |6.0         |66.0        |40.0        |0.0         |0.0         |0.0         |621.0       |31.0        |0.0         |36.0        |0.0         |0.0         |10.0        |0.0         |0.0         |23.0        |4.0         |52.0        |28.0        |4129.0      |255.0       |6.0         |0.0         |0.0         |0.0         |0.0         |0.0         |0.0         |1.0         |0.0         |0.0         |0.0         |0.0         |0.0         |0.0         |0.0         |0.0         |0.0         |0.0         |0.0         |0.0         |0.0         |0.0         |0.0         |1.0         |0.0         |0.0         |0.0         |0.0         |0.0         |1.0         |0.0         |0.0          |0.0          |1.0          |0.0          |0.0          |0.0          |1.0          |1.0          |0.0          |0.0          |0.0          |176.0        |1.0  |(112,[0,1,3,5,6,7,14,16,22,23,24,25,29,30,36,38,42,47,48,49,50,54,55,57,60,63,64,65,66,67,68,69,76,92,98,102,106,107,111],[1.0,447.0,2.0,1.0,3.0,1.0,1.0,1.0,1.0,20.0,2.0,11.0,4.0,19.0,59.0,590.0,10.0,24.0,6.0,66.0,40.0,621.0,31.0,36.0,10.0,23.0,4.0,52.0,28.0,4129.0,255.0,6.0,1.0,1.0,1.0,1.0,1.0,1.0,176.0])                                                         |\n",
            "+-----+-----+-----+-----+-----+-----+-----+-----+-----+-----+------+------+------+------+------+------+------+------+------+------+------+------+------+------+------+------+------+------+------+------+------+------+------+------+------+------+------+------+------+------+------+------+------+------+------+------+------+------+------+------+------+------+------+------+------+------+------+------+------+------+------+------+------+------+------+------+------+-------------+------+------+------+------+------+------+------+------+------+------+------+------+------+------+------+------+------+------+------+------+------+------+------+------+------+------+------+------+------+------+------+------+-------+-------+-------+-------+-------+-------+-------+-------+-------+-------+-------+-------+-------+-----------+-----------+-----------+-----------+-----------+-----------+-----------+-----------+-----------+-----------+------------+------------+------------+------------+------------+------------+------------+------------+------------+------------+------------+------------+------------+------------+------------+------------+------------+------------+------------+------------+------------+------------+------------+------------+------------+------------+------------+------------+------------+------------+------------+------------+------------+------------+------------+------------+------------+------------+------------+------------+------------+------------+------------+------------+------------+------------+------------+------------+------------+------------+------------+------------+------------+------------+------------+------------+------------+------------+------------+------------+------------+------------+------------+------------+------------+------------+------------+------------+------------+------------+------------+------------+------------+------------+------------+------------+------------+------------+------------+------------+------------+------------+------------+------------+------------+------------+------------+------------+------------+------------+-------------+-------------+-------------+-------------+-------------+-------------+-------------+-------------+-------------+-------------+-------------+-------------+-----+----------------------------------------------------------------------------------------------------------------------------------------------------------------------------------------------------------------------------------------------------------------------------------------------------------------------------------------------------------------------------+\n",
            "only showing top 5 rows\n",
            "\n"
          ]
        }
      ]
    },
    {
      "cell_type": "markdown",
      "metadata": {
        "id": "ib36hCa7gRv6"
      },
      "source": [
        "#### Split for training"
      ]
    },
    {
      "cell_type": "code",
      "metadata": {
        "id": "Slo4LFgCf6TO"
      },
      "source": [
        "splits = indexed_fraud_df.randomSplit([0.8,0.2], 42) \n",
        "# optional value 42 is seed for sampling \n",
        "train_df = splits[0] \n",
        "test_df = splits[1]"
      ],
      "execution_count": 42,
      "outputs": []
    },
    {
      "cell_type": "markdown",
      "metadata": {
        "id": "3rEkSN1kgZxM"
      },
      "source": [
        "#### Apply Naive Bayes with default (multinomial)"
      ]
    },
    {
      "cell_type": "code",
      "metadata": {
        "id": "wh1Dp1HXf6ac"
      },
      "source": [
        "nb = NaiveBayes(modelType=\"multinomial\")"
      ],
      "execution_count": 44,
      "outputs": []
    },
    {
      "cell_type": "markdown",
      "metadata": {
        "id": "uhz93eFsglOY"
      },
      "source": [
        "#### Train the model"
      ]
    },
    {
      "cell_type": "code",
      "metadata": {
        "id": "bIyeDOPPgQGX"
      },
      "source": [
        "nbmodel = nb.fit(train_df)"
      ],
      "execution_count": 45,
      "outputs": []
    },
    {
      "cell_type": "markdown",
      "metadata": {
        "id": "RE6SlelZg4Fa"
      },
      "source": [
        "#### Predict with test data"
      ]
    },
    {
      "cell_type": "code",
      "metadata": {
        "colab": {
          "base_uri": "https://localhost:8080/"
        },
        "id": "cyM_cBnlgQJ1",
        "outputId": "e6404abe-76d4-4592-c618-2a86ab1016d6"
      },
      "source": [
        "predictions_df = nbmodel.transform(test_df)\n",
        "predictions_df.show(5, True)"
      ],
      "execution_count": 46,
      "outputs": [
        {
          "output_type": "stream",
          "name": "stdout",
          "text": [
            "+-----+-----+-----+-----+-----+-----+-----+-----+-----+-----+------+------+------+------+------+------+------+------+------+------+------+------+------+------+------+------+------+------+------+------+------+------+------+------+------+------+------+------+------+------+------+------+------+------+------+------+------+------+------+------+------+------+------+------+------+------+------+------+------+------+------+------+------+------+------+------+------+------+------+------+------+------+------+------+------+------+------+------+------+------+------+------+------+------+------+------+------+------+------+------+------+------+------+------+------+------+------+------+------+------+-------+-------+-------+-------+-------+-------+-------+-------+-------+-------+-------+-------+-------+-----------+-----------+-----------+-----------+-----------+-----------+-----------+-----------+-----------+-----------+------------+------------+------------+------------+------------+------------+------------+------------+------------+------------+------------+------------+------------+------------+------------+------------+------------+------------+------------+------------+------------+------------+------------+------------+------------+------------+------------+------------+------------+------------+------------+------------+------------+------------+------------+------------+------------+------------+------------+------------+------------+------------+------------+------------+------------+------------+------------+------------+------------+------------+------------+------------+------------+------------+------------+------------+------------+------------+------------+------------+------------+------------+------------+------------+------------+------------+------------+------------+------------+------------+------------+------------+------------+------------+------------+------------+------------+------------+------------+------------+------------+------------+------------+------------+------------+------------+------------+------------+------------+------------+-------------+-------------+-------------+-------------+-------------+-------------+-------------+-------------+-------------+-------------+-------------+-------------+-----+--------------------+--------------------+--------------------+----------+\n",
            "|col_0|col_1|col_2|col_3|col_4|col_5|col_6|col_7|col_8|col_9|col_10|col_11|col_12|col_13|col_14|col_15|col_16|col_17|col_18|col_19|col_20|col_21|col_22|col_23|col_24|col_25|col_26|col_27|col_28|col_29|col_30|col_31|col_32|col_33|col_34|col_35|col_36|col_37|col_38|col_39|col_40|col_41|col_42|col_43|col_44|col_45|col_46|col_47|col_48|col_49|col_50|col_51|col_52|col_53|col_54|col_55|col_56|col_57|col_58|col_59|col_60|col_61|col_62|col_63|col_64|col_65|col_66|col_67|col_68|col_69|col_70|col_71|col_72|col_73|col_74|col_75|col_76|col_77|col_78|col_79|col_80|col_81|col_82|col_83|col_84|col_85|col_86|col_87|col_88|col_89|col_90|col_91|col_92|col_93|col_94|col_95|col_96|col_97|col_98|col_99|col_100|col_101|col_102|col_103|col_104|col_105|col_106|col_107|col_108|col_109|col_110|col_111|targets|col_0_index|col_1_index|col_2_index|col_3_index|col_4_index|col_5_index|col_6_index|col_7_index|col_8_index|col_9_index|col_10_index|col_11_index|col_12_index|col_13_index|col_14_index|col_15_index|col_16_index|col_17_index|col_18_index|col_19_index|col_20_index|col_21_index|col_22_index|col_23_index|col_24_index|col_25_index|col_26_index|col_27_index|col_28_index|col_29_index|col_30_index|col_31_index|col_32_index|col_33_index|col_34_index|col_35_index|col_36_index|col_37_index|col_38_index|col_39_index|col_40_index|col_41_index|col_42_index|col_43_index|col_44_index|col_45_index|col_46_index|col_47_index|col_48_index|col_49_index|col_50_index|col_51_index|col_52_index|col_53_index|col_54_index|col_55_index|col_56_index|col_57_index|col_58_index|col_59_index|col_60_index|col_61_index|col_62_index|col_63_index|col_64_index|col_65_index|col_66_index|col_67_index|col_68_index|col_69_index|col_70_index|col_71_index|col_72_index|col_73_index|col_74_index|col_75_index|col_76_index|col_77_index|col_78_index|col_79_index|col_80_index|col_81_index|col_82_index|col_83_index|col_84_index|col_85_index|col_86_index|col_87_index|col_88_index|col_89_index|col_90_index|col_91_index|col_92_index|col_93_index|col_94_index|col_95_index|col_96_index|col_97_index|col_98_index|col_99_index|col_100_index|col_101_index|col_102_index|col_103_index|col_104_index|col_105_index|col_106_index|col_107_index|col_108_index|col_109_index|col_110_index|col_111_index|label|            features|       rawPrediction|         probability|prediction|\n",
            "+-----+-----+-----+-----+-----+-----+-----+-----+-----+-----+------+------+------+------+------+------+------+------+------+------+------+------+------+------+------+------+------+------+------+------+------+------+------+------+------+------+------+------+------+------+------+------+------+------+------+------+------+------+------+------+------+------+------+------+------+------+------+------+------+------+------+------+------+------+------+------+------+------+------+------+------+------+------+------+------+------+------+------+------+------+------+------+------+------+------+------+------+------+------+------+------+------+------+------+------+------+------+------+------+------+-------+-------+-------+-------+-------+-------+-------+-------+-------+-------+-------+-------+-------+-----------+-----------+-----------+-----------+-----------+-----------+-----------+-----------+-----------+-----------+------------+------------+------------+------------+------------+------------+------------+------------+------------+------------+------------+------------+------------+------------+------------+------------+------------+------------+------------+------------+------------+------------+------------+------------+------------+------------+------------+------------+------------+------------+------------+------------+------------+------------+------------+------------+------------+------------+------------+------------+------------+------------+------------+------------+------------+------------+------------+------------+------------+------------+------------+------------+------------+------------+------------+------------+------------+------------+------------+------------+------------+------------+------------+------------+------------+------------+------------+------------+------------+------------+------------+------------+------------+------------+------------+------------+------------+------------+------------+------------+------------+------------+------------+------------+------------+------------+------------+------------+------------+------------+-------------+-------------+-------------+-------------+-------------+-------------+-------------+-------------+-------------+-------------+-------------+-------------+-----+--------------------+--------------------+--------------------+----------+\n",
            "|    0|    0|    0|    0|    0|    4|    0|    0|    0|    0|     0|     0|     0|     0|     1|     0|     1|     0|     0|     0|     0|     0|     0|     0|     0|     0|     0|     0|     1|     0|     0|     0|     0|     0|     0|     0|     0|     0|     0|     0|     0|     0|     0|     0|     0|     0|     0|     0|     0|     0|     0|     0|     0|     0|     0|     0|     0|     0|     0|     0|     0|     0|     0|     0|     0|     0|     0|   0.0|     0|     3|     0|     0|     0|     0|     0|     0|     0|     0|     0|     0|     0|     0|     0|     0|     0|     0|     0|     0|     0|     0|     0|     0|     0|     0|     0|     0|     1|     0|     0|     0|      1|      0|      0|      0|      0|      0|      1|      0|      0|      0|      0|    106|      0|        0.0|       72.0|        0.0|        0.0|        0.0|        4.0|        0.0|        0.0|        0.0|        0.0|         0.0|         0.0|         0.0|         0.0|         1.0|         0.0|         1.0|         0.0|         0.0|         0.0|         0.0|         0.0|         0.0|         3.0|         5.0|         0.0|         0.0|         0.0|         0.0|         0.0|         0.0|         0.0|         0.0|         0.0|         0.0|         0.0|         0.0|         0.0|         0.0|         0.0|         0.0|         0.0|         0.0|         0.0|         0.0|         0.0|         0.0|         0.0|         0.0|         0.0|         0.0|         0.0|         0.0|         0.0|         0.0|         0.0|         0.0|         0.0|         0.0|         0.0|         0.0|         0.0|         0.0|         0.0|         0.0|         0.0|         0.0|         0.0|         0.0|         3.0|         0.0|         0.0|         0.0|         0.0|         0.0|         0.0|         0.0|         0.0|         0.0|         0.0|         0.0|         0.0|         0.0|         0.0|         0.0|         0.0|         0.0|         0.0|         0.0|         0.0|         0.0|         0.0|         0.0|         0.0|         0.0|         0.0|         1.0|         0.0|         0.0|         0.0|          1.0|          0.0|          0.0|          0.0|          0.0|          0.0|          1.0|          0.0|          0.0|          0.0|          0.0|         90.0|  0.0|(112,[1,5,14,16,2...|[-799.20464999045...|[6.27053593622217...|       1.0|\n",
            "|    0|    0|    0|    1|    0|    0|    0|    0|    0|    0|     0|     0|     0|     0|     1|     0|     1|     0|     0|     0|     0|     0|     0|     0|     0|     0|     0|     0|     1|     0|     0|     0|     0|     0|     0|     0|     0|     0|     0|     0|     0|     0|     0|     0|     0|     0|     0|     0|     0|     0|     0|     0|     0|     0|     0|     0|     0|     0|     0|     0|     0|     0|     0|     0|     0|     0|     0|   0.0|     0|     0|     0|     0|     0|     0|     0|     0|     0|     0|     0|     0|     0|     0|     0|     0|     0|     0|     0|     0|     0|     0|     0|     0|     0|     0|     0|     0|     0|     0|     0|     0|      0|      0|      0|      0|      0|      0|      0|      0|      0|      0|      0|      0|      0|        0.0|       72.0|        0.0|        1.0|        0.0|        0.0|        0.0|        0.0|        0.0|        0.0|         0.0|         0.0|         0.0|         0.0|         1.0|         0.0|         1.0|         0.0|         0.0|         0.0|         0.0|         0.0|         0.0|         3.0|         5.0|         0.0|         0.0|         0.0|         0.0|         0.0|         0.0|         0.0|         0.0|         0.0|         0.0|         0.0|         0.0|         0.0|         0.0|         0.0|         0.0|         0.0|         0.0|         0.0|         0.0|         0.0|         0.0|         0.0|         0.0|         0.0|         0.0|         0.0|         0.0|         0.0|         0.0|         0.0|         0.0|         0.0|         0.0|         0.0|         0.0|         0.0|         0.0|         0.0|         0.0|         0.0|         0.0|         0.0|         0.0|         1.0|         0.0|         0.0|         0.0|         0.0|         0.0|         0.0|         0.0|         0.0|         0.0|         0.0|         0.0|         0.0|         0.0|         0.0|         0.0|         0.0|         0.0|         0.0|         0.0|         0.0|         0.0|         0.0|         0.0|         0.0|         0.0|         0.0|         0.0|         0.0|         0.0|         0.0|          0.0|          0.0|          0.0|          0.0|          0.0|          0.0|          0.0|          0.0|          0.0|          0.0|          0.0|          0.0|  0.0|(112,[1,3,14,16,2...|[-270.17692781315...|[2.19177431526430...|       1.0|\n",
            "|    0|    0|    0|    1|    0|    0|    0|    0|    0|    0|     0|     0|     0|     0|     1|     0|     1|     0|     0|     0|     0|     0|     0|     0|     0|     0|     0|     0|     1|     0|     0|     0|     0|     0|     0|     0|     0|     0|     0|     0|     0|     0|     0|     0|     0|     0|     0|     0|     0|     0|     0|     0|     0|     0|     0|     0|     0|     0|     0|     0|     0|     0|     0|     0|     0|     0|     0|   0.0|     0|     0|     0|     0|     0|     0|     0|     0|     0|     0|     0|     0|     0|     0|     0|     0|     0|     0|     0|     0|     0|     0|     0|     0|     0|     0|     0|     0|     0|     0|     0|     0|      0|      0|      0|      0|      0|      0|      0|      0|      0|      0|      0|      0|      0|        0.0|       72.0|        0.0|        1.0|        0.0|        0.0|        0.0|        0.0|        0.0|        0.0|         0.0|         0.0|         0.0|         0.0|         1.0|         0.0|         1.0|         0.0|         0.0|         0.0|         0.0|         0.0|         0.0|         3.0|         5.0|         0.0|         0.0|         0.0|         0.0|         0.0|         0.0|         0.0|         0.0|         0.0|         0.0|         0.0|         0.0|         0.0|         0.0|         0.0|         0.0|         0.0|         0.0|         0.0|         0.0|         0.0|         0.0|         0.0|         0.0|         0.0|         0.0|         0.0|         0.0|         0.0|         0.0|         0.0|         0.0|         0.0|         0.0|         0.0|         0.0|         0.0|         0.0|         0.0|         0.0|         0.0|         0.0|         0.0|         0.0|         1.0|         0.0|         0.0|         0.0|         0.0|         0.0|         0.0|         0.0|         0.0|         0.0|         0.0|         0.0|         0.0|         0.0|         0.0|         0.0|         0.0|         0.0|         0.0|         0.0|         0.0|         0.0|         0.0|         0.0|         0.0|         0.0|         0.0|         0.0|         0.0|         0.0|         0.0|          0.0|          0.0|          0.0|          0.0|          0.0|          0.0|          0.0|          0.0|          0.0|          0.0|          0.0|          0.0|  0.0|(112,[1,3,14,16,2...|[-270.17692781315...|[2.19177431526430...|       1.0|\n",
            "|    0|    0|    0|    2|    0|    0|    0|    0|    0|    0|     0|     0|     0|     0|     1|     0|     0|     0|     0|     0|     0|     0|     0|     0|     0|     0|     0|     0|     1|     0|     0|     0|     0|     0|     0|     0|     0|     0|     0|     0|     0|     0|     0|     0|     0|     0|     0|     0|     0|     0|     0|     0|     0|     0|     0|     0|     0|     0|     0|     0|     0|     0|     0|     0|     0|     0|     0|   0.0|     0|     1|     0|     0|     0|     0|     0|     0|     0|     0|     0|     0|     0|     0|     0|     0|     0|     0|     0|     0|     0|     0|     0|     0|     0|     0|     0|     0|     0|     0|     0|     0|      0|      0|      0|      0|      0|      0|      1|      0|      0|      0|      0|      5|      0|        0.0|       72.0|        0.0|        2.0|        0.0|        0.0|        0.0|        0.0|        0.0|        0.0|         0.0|         0.0|         0.0|         0.0|         1.0|         0.0|         0.0|         0.0|         0.0|         0.0|         0.0|         0.0|         0.0|         3.0|         5.0|         0.0|         0.0|         0.0|         0.0|         0.0|         0.0|         0.0|         0.0|         0.0|         0.0|         0.0|         0.0|         0.0|         0.0|         0.0|         0.0|         0.0|         0.0|         0.0|         0.0|         0.0|         0.0|         0.0|         0.0|         0.0|         0.0|         0.0|         0.0|         0.0|         0.0|         0.0|         0.0|         0.0|         0.0|         0.0|         0.0|         0.0|         0.0|         0.0|         0.0|         0.0|         0.0|         0.0|         0.0|         0.0|         0.0|         0.0|         0.0|         0.0|         0.0|         0.0|         0.0|         0.0|         0.0|         0.0|         0.0|         0.0|         0.0|         0.0|         0.0|         0.0|         0.0|         0.0|         0.0|         0.0|         0.0|         0.0|         0.0|         0.0|         0.0|         0.0|         0.0|         0.0|         0.0|         0.0|          0.0|          0.0|          0.0|          0.0|          0.0|          0.0|          1.0|          0.0|          0.0|          0.0|          0.0|          2.0|  0.0|(112,[1,3,14,23,2...|[-280.37903232050...|[1.22580722818430...|       1.0|\n",
            "|    0|    0|    0|    9|    0|    0|    0|    0|    0|    0|     0|     0|     0|     0|     1|     0|     1|     0|     0|     0|     0|     0|     0|     0|     0|     0|     0|     0|     1|     0|     0|     0|     0|     0|     0|     0|     0|     0|     0|     0|     0|     0|     0|     0|     0|     0|     0|     0|     0|     0|     0|     0|     0|     0|     0|     0|     0|     0|     0|     0|     0|     0|     0|     0|     0|     0|     0|   0.0|     0|     3|     0|     0|     0|     0|     0|     0|     0|     0|     0|     0|     0|     0|     0|     0|     0|     0|     0|     0|     0|     0|     0|     0|     0|     0|     0|     0|     1|     0|     0|     0|      1|      0|      0|      0|      0|      0|      1|      0|      0|      0|      0|    106|      0|        0.0|       72.0|        0.0|        9.0|        0.0|        0.0|        0.0|        0.0|        0.0|        0.0|         0.0|         0.0|         0.0|         0.0|         1.0|         0.0|         1.0|         0.0|         0.0|         0.0|         0.0|         0.0|         0.0|         3.0|         5.0|         0.0|         0.0|         0.0|         0.0|         0.0|         0.0|         0.0|         0.0|         0.0|         0.0|         0.0|         0.0|         0.0|         0.0|         0.0|         0.0|         0.0|         0.0|         0.0|         0.0|         0.0|         0.0|         0.0|         0.0|         0.0|         0.0|         0.0|         0.0|         0.0|         0.0|         0.0|         0.0|         0.0|         0.0|         0.0|         0.0|         0.0|         0.0|         0.0|         0.0|         0.0|         0.0|         0.0|         0.0|         3.0|         0.0|         0.0|         0.0|         0.0|         0.0|         0.0|         0.0|         0.0|         0.0|         0.0|         0.0|         0.0|         0.0|         0.0|         0.0|         0.0|         0.0|         0.0|         0.0|         0.0|         0.0|         0.0|         0.0|         0.0|         0.0|         0.0|         1.0|         0.0|         0.0|         0.0|          1.0|          0.0|          0.0|          0.0|          0.0|          0.0|          1.0|          0.0|          0.0|          0.0|          0.0|         90.0|  0.0|(112,[1,3,14,16,2...|[-829.82658050197...|[5.63071558157960...|       1.0|\n",
            "+-----+-----+-----+-----+-----+-----+-----+-----+-----+-----+------+------+------+------+------+------+------+------+------+------+------+------+------+------+------+------+------+------+------+------+------+------+------+------+------+------+------+------+------+------+------+------+------+------+------+------+------+------+------+------+------+------+------+------+------+------+------+------+------+------+------+------+------+------+------+------+------+------+------+------+------+------+------+------+------+------+------+------+------+------+------+------+------+------+------+------+------+------+------+------+------+------+------+------+------+------+------+------+------+------+-------+-------+-------+-------+-------+-------+-------+-------+-------+-------+-------+-------+-------+-----------+-----------+-----------+-----------+-----------+-----------+-----------+-----------+-----------+-----------+------------+------------+------------+------------+------------+------------+------------+------------+------------+------------+------------+------------+------------+------------+------------+------------+------------+------------+------------+------------+------------+------------+------------+------------+------------+------------+------------+------------+------------+------------+------------+------------+------------+------------+------------+------------+------------+------------+------------+------------+------------+------------+------------+------------+------------+------------+------------+------------+------------+------------+------------+------------+------------+------------+------------+------------+------------+------------+------------+------------+------------+------------+------------+------------+------------+------------+------------+------------+------------+------------+------------+------------+------------+------------+------------+------------+------------+------------+------------+------------+------------+------------+------------+------------+------------+------------+------------+------------+------------+------------+-------------+-------------+-------------+-------------+-------------+-------------+-------------+-------------+-------------+-------------+-------------+-------------+-----+--------------------+--------------------+--------------------+----------+\n",
            "only showing top 5 rows\n",
            "\n"
          ]
        }
      ]
    },
    {
      "cell_type": "markdown",
      "metadata": {
        "id": "Mpzsk2DYhHOb"
      },
      "source": [
        "#### Compute the accuracy on the test set"
      ]
    },
    {
      "cell_type": "code",
      "metadata": {
        "colab": {
          "base_uri": "https://localhost:8080/"
        },
        "id": "LCerkJU8gQNl",
        "outputId": "be1a6499-51e8-4ff4-bf8c-27e7d09d6aea"
      },
      "source": [
        "evaluator = MulticlassClassificationEvaluator(labelCol=\"label\", predictionCol=\"prediction\", metricName=\"accuracy\") \n",
        "nbaccuracy = evaluator.evaluate(predictions_df) \n",
        "print(\"Test accuracy = \" + str(nbaccuracy))"
      ],
      "execution_count": 47,
      "outputs": [
        {
          "output_type": "stream",
          "name": "stdout",
          "text": [
            "Test accuracy = 0.6131147540983607\n"
          ]
        }
      ]
    },
    {
      "cell_type": "markdown",
      "metadata": {
        "id": "aALRJfZ5iRVM"
      },
      "source": [
        "#### Try Guassian"
      ]
    },
    {
      "cell_type": "code",
      "metadata": {
        "id": "Ln3CbzW-iTAx"
      },
      "source": [
        "gaus_nb = NaiveBayes(modelType=\"gaussian\")"
      ],
      "execution_count": 52,
      "outputs": []
    },
    {
      "cell_type": "code",
      "metadata": {
        "id": "kS9NVDkWiyYN"
      },
      "source": [
        "gaus_nbmodel = gaus_nb.fit(train_df)"
      ],
      "execution_count": 53,
      "outputs": []
    },
    {
      "cell_type": "code",
      "metadata": {
        "colab": {
          "base_uri": "https://localhost:8080/"
        },
        "id": "reep_AjUiyba",
        "outputId": "c1d89630-117b-41a7-8bbe-5a845dc90646"
      },
      "source": [
        "gaus_predictions_df = gaus_nbmodel.transform(test_df)\n",
        "gaus_predictions_df.show(5, True)"
      ],
      "execution_count": 54,
      "outputs": [
        {
          "output_type": "stream",
          "name": "stdout",
          "text": [
            "+-----+-----+-----+-----+-----+-----+-----+-----+-----+-----+------+------+------+------+------+------+------+------+------+------+------+------+------+------+------+------+------+------+------+------+------+------+------+------+------+------+------+------+------+------+------+------+------+------+------+------+------+------+------+------+------+------+------+------+------+------+------+------+------+------+------+------+------+------+------+------+------+------+------+------+------+------+------+------+------+------+------+------+------+------+------+------+------+------+------+------+------+------+------+------+------+------+------+------+------+------+------+------+------+------+-------+-------+-------+-------+-------+-------+-------+-------+-------+-------+-------+-------+-------+-----------+-----------+-----------+-----------+-----------+-----------+-----------+-----------+-----------+-----------+------------+------------+------------+------------+------------+------------+------------+------------+------------+------------+------------+------------+------------+------------+------------+------------+------------+------------+------------+------------+------------+------------+------------+------------+------------+------------+------------+------------+------------+------------+------------+------------+------------+------------+------------+------------+------------+------------+------------+------------+------------+------------+------------+------------+------------+------------+------------+------------+------------+------------+------------+------------+------------+------------+------------+------------+------------+------------+------------+------------+------------+------------+------------+------------+------------+------------+------------+------------+------------+------------+------------+------------+------------+------------+------------+------------+------------+------------+------------+------------+------------+------------+------------+------------+------------+------------+------------+------------+------------+------------+-------------+-------------+-------------+-------------+-------------+-------------+-------------+-------------+-------------+-------------+-------------+-------------+-----+--------------------+--------------------+--------------------+----------+\n",
            "|col_0|col_1|col_2|col_3|col_4|col_5|col_6|col_7|col_8|col_9|col_10|col_11|col_12|col_13|col_14|col_15|col_16|col_17|col_18|col_19|col_20|col_21|col_22|col_23|col_24|col_25|col_26|col_27|col_28|col_29|col_30|col_31|col_32|col_33|col_34|col_35|col_36|col_37|col_38|col_39|col_40|col_41|col_42|col_43|col_44|col_45|col_46|col_47|col_48|col_49|col_50|col_51|col_52|col_53|col_54|col_55|col_56|col_57|col_58|col_59|col_60|col_61|col_62|col_63|col_64|col_65|col_66|col_67|col_68|col_69|col_70|col_71|col_72|col_73|col_74|col_75|col_76|col_77|col_78|col_79|col_80|col_81|col_82|col_83|col_84|col_85|col_86|col_87|col_88|col_89|col_90|col_91|col_92|col_93|col_94|col_95|col_96|col_97|col_98|col_99|col_100|col_101|col_102|col_103|col_104|col_105|col_106|col_107|col_108|col_109|col_110|col_111|targets|col_0_index|col_1_index|col_2_index|col_3_index|col_4_index|col_5_index|col_6_index|col_7_index|col_8_index|col_9_index|col_10_index|col_11_index|col_12_index|col_13_index|col_14_index|col_15_index|col_16_index|col_17_index|col_18_index|col_19_index|col_20_index|col_21_index|col_22_index|col_23_index|col_24_index|col_25_index|col_26_index|col_27_index|col_28_index|col_29_index|col_30_index|col_31_index|col_32_index|col_33_index|col_34_index|col_35_index|col_36_index|col_37_index|col_38_index|col_39_index|col_40_index|col_41_index|col_42_index|col_43_index|col_44_index|col_45_index|col_46_index|col_47_index|col_48_index|col_49_index|col_50_index|col_51_index|col_52_index|col_53_index|col_54_index|col_55_index|col_56_index|col_57_index|col_58_index|col_59_index|col_60_index|col_61_index|col_62_index|col_63_index|col_64_index|col_65_index|col_66_index|col_67_index|col_68_index|col_69_index|col_70_index|col_71_index|col_72_index|col_73_index|col_74_index|col_75_index|col_76_index|col_77_index|col_78_index|col_79_index|col_80_index|col_81_index|col_82_index|col_83_index|col_84_index|col_85_index|col_86_index|col_87_index|col_88_index|col_89_index|col_90_index|col_91_index|col_92_index|col_93_index|col_94_index|col_95_index|col_96_index|col_97_index|col_98_index|col_99_index|col_100_index|col_101_index|col_102_index|col_103_index|col_104_index|col_105_index|col_106_index|col_107_index|col_108_index|col_109_index|col_110_index|col_111_index|label|            features|       rawPrediction|         probability|prediction|\n",
            "+-----+-----+-----+-----+-----+-----+-----+-----+-----+-----+------+------+------+------+------+------+------+------+------+------+------+------+------+------+------+------+------+------+------+------+------+------+------+------+------+------+------+------+------+------+------+------+------+------+------+------+------+------+------+------+------+------+------+------+------+------+------+------+------+------+------+------+------+------+------+------+------+------+------+------+------+------+------+------+------+------+------+------+------+------+------+------+------+------+------+------+------+------+------+------+------+------+------+------+------+------+------+------+------+------+-------+-------+-------+-------+-------+-------+-------+-------+-------+-------+-------+-------+-------+-----------+-----------+-----------+-----------+-----------+-----------+-----------+-----------+-----------+-----------+------------+------------+------------+------------+------------+------------+------------+------------+------------+------------+------------+------------+------------+------------+------------+------------+------------+------------+------------+------------+------------+------------+------------+------------+------------+------------+------------+------------+------------+------------+------------+------------+------------+------------+------------+------------+------------+------------+------------+------------+------------+------------+------------+------------+------------+------------+------------+------------+------------+------------+------------+------------+------------+------------+------------+------------+------------+------------+------------+------------+------------+------------+------------+------------+------------+------------+------------+------------+------------+------------+------------+------------+------------+------------+------------+------------+------------+------------+------------+------------+------------+------------+------------+------------+------------+------------+------------+------------+------------+------------+-------------+-------------+-------------+-------------+-------------+-------------+-------------+-------------+-------------+-------------+-------------+-------------+-----+--------------------+--------------------+--------------------+----------+\n",
            "|    0|    0|    0|    0|    0|    4|    0|    0|    0|    0|     0|     0|     0|     0|     1|     0|     1|     0|     0|     0|     0|     0|     0|     0|     0|     0|     0|     0|     1|     0|     0|     0|     0|     0|     0|     0|     0|     0|     0|     0|     0|     0|     0|     0|     0|     0|     0|     0|     0|     0|     0|     0|     0|     0|     0|     0|     0|     0|     0|     0|     0|     0|     0|     0|     0|     0|     0|   0.0|     0|     3|     0|     0|     0|     0|     0|     0|     0|     0|     0|     0|     0|     0|     0|     0|     0|     0|     0|     0|     0|     0|     0|     0|     0|     0|     0|     0|     1|     0|     0|     0|      1|      0|      0|      0|      0|      0|      1|      0|      0|      0|      0|    106|      0|        0.0|       72.0|        0.0|        0.0|        0.0|        4.0|        0.0|        0.0|        0.0|        0.0|         0.0|         0.0|         0.0|         0.0|         1.0|         0.0|         1.0|         0.0|         0.0|         0.0|         0.0|         0.0|         0.0|         3.0|         5.0|         0.0|         0.0|         0.0|         0.0|         0.0|         0.0|         0.0|         0.0|         0.0|         0.0|         0.0|         0.0|         0.0|         0.0|         0.0|         0.0|         0.0|         0.0|         0.0|         0.0|         0.0|         0.0|         0.0|         0.0|         0.0|         0.0|         0.0|         0.0|         0.0|         0.0|         0.0|         0.0|         0.0|         0.0|         0.0|         0.0|         0.0|         0.0|         0.0|         0.0|         0.0|         0.0|         0.0|         0.0|         3.0|         0.0|         0.0|         0.0|         0.0|         0.0|         0.0|         0.0|         0.0|         0.0|         0.0|         0.0|         0.0|         0.0|         0.0|         0.0|         0.0|         0.0|         0.0|         0.0|         0.0|         0.0|         0.0|         0.0|         0.0|         0.0|         0.0|         1.0|         0.0|         0.0|         0.0|          1.0|          0.0|          0.0|          0.0|          0.0|          0.0|          1.0|          0.0|          0.0|          0.0|          0.0|         90.0|  0.0|(112,[1,5,14,16,2...|[-15.799492195248...|[0.01895977433350...|       1.0|\n",
            "|    0|    0|    0|    1|    0|    0|    0|    0|    0|    0|     0|     0|     0|     0|     1|     0|     1|     0|     0|     0|     0|     0|     0|     0|     0|     0|     0|     0|     1|     0|     0|     0|     0|     0|     0|     0|     0|     0|     0|     0|     0|     0|     0|     0|     0|     0|     0|     0|     0|     0|     0|     0|     0|     0|     0|     0|     0|     0|     0|     0|     0|     0|     0|     0|     0|     0|     0|   0.0|     0|     0|     0|     0|     0|     0|     0|     0|     0|     0|     0|     0|     0|     0|     0|     0|     0|     0|     0|     0|     0|     0|     0|     0|     0|     0|     0|     0|     0|     0|     0|     0|      0|      0|      0|      0|      0|      0|      0|      0|      0|      0|      0|      0|      0|        0.0|       72.0|        0.0|        1.0|        0.0|        0.0|        0.0|        0.0|        0.0|        0.0|         0.0|         0.0|         0.0|         0.0|         1.0|         0.0|         1.0|         0.0|         0.0|         0.0|         0.0|         0.0|         0.0|         3.0|         5.0|         0.0|         0.0|         0.0|         0.0|         0.0|         0.0|         0.0|         0.0|         0.0|         0.0|         0.0|         0.0|         0.0|         0.0|         0.0|         0.0|         0.0|         0.0|         0.0|         0.0|         0.0|         0.0|         0.0|         0.0|         0.0|         0.0|         0.0|         0.0|         0.0|         0.0|         0.0|         0.0|         0.0|         0.0|         0.0|         0.0|         0.0|         0.0|         0.0|         0.0|         0.0|         0.0|         0.0|         0.0|         1.0|         0.0|         0.0|         0.0|         0.0|         0.0|         0.0|         0.0|         0.0|         0.0|         0.0|         0.0|         0.0|         0.0|         0.0|         0.0|         0.0|         0.0|         0.0|         0.0|         0.0|         0.0|         0.0|         0.0|         0.0|         0.0|         0.0|         0.0|         0.0|         0.0|         0.0|          0.0|          0.0|          0.0|          0.0|          0.0|          0.0|          0.0|          0.0|          0.0|          0.0|          0.0|          0.0|  0.0|(112,[1,3,14,16,2...|[-4.3862735578691...|[2.01056723180234...|       1.0|\n",
            "|    0|    0|    0|    1|    0|    0|    0|    0|    0|    0|     0|     0|     0|     0|     1|     0|     1|     0|     0|     0|     0|     0|     0|     0|     0|     0|     0|     0|     1|     0|     0|     0|     0|     0|     0|     0|     0|     0|     0|     0|     0|     0|     0|     0|     0|     0|     0|     0|     0|     0|     0|     0|     0|     0|     0|     0|     0|     0|     0|     0|     0|     0|     0|     0|     0|     0|     0|   0.0|     0|     0|     0|     0|     0|     0|     0|     0|     0|     0|     0|     0|     0|     0|     0|     0|     0|     0|     0|     0|     0|     0|     0|     0|     0|     0|     0|     0|     0|     0|     0|     0|      0|      0|      0|      0|      0|      0|      0|      0|      0|      0|      0|      0|      0|        0.0|       72.0|        0.0|        1.0|        0.0|        0.0|        0.0|        0.0|        0.0|        0.0|         0.0|         0.0|         0.0|         0.0|         1.0|         0.0|         1.0|         0.0|         0.0|         0.0|         0.0|         0.0|         0.0|         3.0|         5.0|         0.0|         0.0|         0.0|         0.0|         0.0|         0.0|         0.0|         0.0|         0.0|         0.0|         0.0|         0.0|         0.0|         0.0|         0.0|         0.0|         0.0|         0.0|         0.0|         0.0|         0.0|         0.0|         0.0|         0.0|         0.0|         0.0|         0.0|         0.0|         0.0|         0.0|         0.0|         0.0|         0.0|         0.0|         0.0|         0.0|         0.0|         0.0|         0.0|         0.0|         0.0|         0.0|         0.0|         0.0|         1.0|         0.0|         0.0|         0.0|         0.0|         0.0|         0.0|         0.0|         0.0|         0.0|         0.0|         0.0|         0.0|         0.0|         0.0|         0.0|         0.0|         0.0|         0.0|         0.0|         0.0|         0.0|         0.0|         0.0|         0.0|         0.0|         0.0|         0.0|         0.0|         0.0|         0.0|          0.0|          0.0|          0.0|          0.0|          0.0|          0.0|          0.0|          0.0|          0.0|          0.0|          0.0|          0.0|  0.0|(112,[1,3,14,16,2...|[-4.3862735578691...|[2.01056723180234...|       1.0|\n",
            "|    0|    0|    0|    2|    0|    0|    0|    0|    0|    0|     0|     0|     0|     0|     1|     0|     0|     0|     0|     0|     0|     0|     0|     0|     0|     0|     0|     0|     1|     0|     0|     0|     0|     0|     0|     0|     0|     0|     0|     0|     0|     0|     0|     0|     0|     0|     0|     0|     0|     0|     0|     0|     0|     0|     0|     0|     0|     0|     0|     0|     0|     0|     0|     0|     0|     0|     0|   0.0|     0|     1|     0|     0|     0|     0|     0|     0|     0|     0|     0|     0|     0|     0|     0|     0|     0|     0|     0|     0|     0|     0|     0|     0|     0|     0|     0|     0|     0|     0|     0|     0|      0|      0|      0|      0|      0|      0|      1|      0|      0|      0|      0|      5|      0|        0.0|       72.0|        0.0|        2.0|        0.0|        0.0|        0.0|        0.0|        0.0|        0.0|         0.0|         0.0|         0.0|         0.0|         1.0|         0.0|         0.0|         0.0|         0.0|         0.0|         0.0|         0.0|         0.0|         3.0|         5.0|         0.0|         0.0|         0.0|         0.0|         0.0|         0.0|         0.0|         0.0|         0.0|         0.0|         0.0|         0.0|         0.0|         0.0|         0.0|         0.0|         0.0|         0.0|         0.0|         0.0|         0.0|         0.0|         0.0|         0.0|         0.0|         0.0|         0.0|         0.0|         0.0|         0.0|         0.0|         0.0|         0.0|         0.0|         0.0|         0.0|         0.0|         0.0|         0.0|         0.0|         0.0|         0.0|         0.0|         0.0|         0.0|         0.0|         0.0|         0.0|         0.0|         0.0|         0.0|         0.0|         0.0|         0.0|         0.0|         0.0|         0.0|         0.0|         0.0|         0.0|         0.0|         0.0|         0.0|         0.0|         0.0|         0.0|         0.0|         0.0|         0.0|         0.0|         0.0|         0.0|         0.0|         0.0|         0.0|          0.0|          0.0|          0.0|          0.0|          0.0|          0.0|          1.0|          0.0|          0.0|          0.0|          0.0|          2.0|  0.0|(112,[1,3,14,23,2...|[-4.9105442973987...|[4.55349580628925...|       1.0|\n",
            "|    0|    0|    0|    9|    0|    0|    0|    0|    0|    0|     0|     0|     0|     0|     1|     0|     1|     0|     0|     0|     0|     0|     0|     0|     0|     0|     0|     0|     1|     0|     0|     0|     0|     0|     0|     0|     0|     0|     0|     0|     0|     0|     0|     0|     0|     0|     0|     0|     0|     0|     0|     0|     0|     0|     0|     0|     0|     0|     0|     0|     0|     0|     0|     0|     0|     0|     0|   0.0|     0|     3|     0|     0|     0|     0|     0|     0|     0|     0|     0|     0|     0|     0|     0|     0|     0|     0|     0|     0|     0|     0|     0|     0|     0|     0|     0|     0|     1|     0|     0|     0|      1|      0|      0|      0|      0|      0|      1|      0|      0|      0|      0|    106|      0|        0.0|       72.0|        0.0|        9.0|        0.0|        0.0|        0.0|        0.0|        0.0|        0.0|         0.0|         0.0|         0.0|         0.0|         1.0|         0.0|         1.0|         0.0|         0.0|         0.0|         0.0|         0.0|         0.0|         3.0|         5.0|         0.0|         0.0|         0.0|         0.0|         0.0|         0.0|         0.0|         0.0|         0.0|         0.0|         0.0|         0.0|         0.0|         0.0|         0.0|         0.0|         0.0|         0.0|         0.0|         0.0|         0.0|         0.0|         0.0|         0.0|         0.0|         0.0|         0.0|         0.0|         0.0|         0.0|         0.0|         0.0|         0.0|         0.0|         0.0|         0.0|         0.0|         0.0|         0.0|         0.0|         0.0|         0.0|         0.0|         0.0|         3.0|         0.0|         0.0|         0.0|         0.0|         0.0|         0.0|         0.0|         0.0|         0.0|         0.0|         0.0|         0.0|         0.0|         0.0|         0.0|         0.0|         0.0|         0.0|         0.0|         0.0|         0.0|         0.0|         0.0|         0.0|         0.0|         0.0|         1.0|         0.0|         0.0|         0.0|          1.0|          0.0|          0.0|          0.0|          0.0|          0.0|          1.0|          0.0|          0.0|          0.0|          0.0|         90.0|  0.0|(112,[1,3,14,16,2...|[-15.504440967727...|[0.55322322210782...|       0.0|\n",
            "+-----+-----+-----+-----+-----+-----+-----+-----+-----+-----+------+------+------+------+------+------+------+------+------+------+------+------+------+------+------+------+------+------+------+------+------+------+------+------+------+------+------+------+------+------+------+------+------+------+------+------+------+------+------+------+------+------+------+------+------+------+------+------+------+------+------+------+------+------+------+------+------+------+------+------+------+------+------+------+------+------+------+------+------+------+------+------+------+------+------+------+------+------+------+------+------+------+------+------+------+------+------+------+------+------+-------+-------+-------+-------+-------+-------+-------+-------+-------+-------+-------+-------+-------+-----------+-----------+-----------+-----------+-----------+-----------+-----------+-----------+-----------+-----------+------------+------------+------------+------------+------------+------------+------------+------------+------------+------------+------------+------------+------------+------------+------------+------------+------------+------------+------------+------------+------------+------------+------------+------------+------------+------------+------------+------------+------------+------------+------------+------------+------------+------------+------------+------------+------------+------------+------------+------------+------------+------------+------------+------------+------------+------------+------------+------------+------------+------------+------------+------------+------------+------------+------------+------------+------------+------------+------------+------------+------------+------------+------------+------------+------------+------------+------------+------------+------------+------------+------------+------------+------------+------------+------------+------------+------------+------------+------------+------------+------------+------------+------------+------------+------------+------------+------------+------------+------------+------------+-------------+-------------+-------------+-------------+-------------+-------------+-------------+-------------+-------------+-------------+-------------+-------------+-----+--------------------+--------------------+--------------------+----------+\n",
            "only showing top 5 rows\n",
            "\n"
          ]
        }
      ]
    },
    {
      "cell_type": "code",
      "metadata": {
        "colab": {
          "base_uri": "https://localhost:8080/"
        },
        "id": "GeQqT8CLjIbm",
        "outputId": "f0075079-0f1e-4e70-b7bc-0ddc25aa6ff9"
      },
      "source": [
        "gaus_evaluator = MulticlassClassificationEvaluator(labelCol=\"label\", predictionCol=\"prediction\", metricName=\"accuracy\") \n",
        "gaus_nbaccuracy = gaus_evaluator.evaluate(gaus_predictions_df) \n",
        "print(\"Test accuracy = \" + str(gaus_nbaccuracy))"
      ],
      "execution_count": 55,
      "outputs": [
        {
          "output_type": "stream",
          "name": "stdout",
          "text": [
            "Test accuracy = 0.5248423707440101\n"
          ]
        }
      ]
    },
    {
      "cell_type": "markdown",
      "metadata": {
        "id": "988GXUwNiETP"
      },
      "source": [
        "#### Can't use Bernoulli Classifier because all features have to be 0 or 1. The multinomial model gave the best results with an accuracy of 61%."
      ]
    },
    {
      "cell_type": "code",
      "metadata": {
        "id": "G_gXdljrk9hE"
      },
      "source": [
        ""
      ],
      "execution_count": null,
      "outputs": []
    }
  ]
}