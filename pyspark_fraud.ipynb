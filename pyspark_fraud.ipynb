{
  "nbformat": 4,
  "nbformat_minor": 0,
  "metadata": {
    "colab": {
      "name": "pyspark_fraud.ipynb",
      "provenance": [],
      "collapsed_sections": [],
      "include_colab_link": true
    },
    "kernelspec": {
      "name": "python3",
      "display_name": "Python 3"
    },
    "language_info": {
      "name": "python"
    }
  },
  "cells": [
    {
      "cell_type": "markdown",
      "metadata": {
        "id": "view-in-github",
        "colab_type": "text"
      },
      "source": [
        "<a href=\"https://colab.research.google.com/github/garryDCU/CA4022/blob/main/pyspark_fraud.ipynb\" target=\"_parent\"><img src=\"https://colab.research.google.com/assets/colab-badge.svg\" alt=\"Open In Colab\"/></a>"
      ]
    },
    {
      "cell_type": "markdown",
      "metadata": {
        "id": "jYGCtSY5q6m0"
      },
      "source": [
        "# Implementation of Naive Bayes Classifier on PySpark"
      ]
    },
    {
      "cell_type": "markdown",
      "metadata": {
        "id": "YkeVI7gZsVqr"
      },
      "source": [
        "In this notebook, we investigated how well a naive bayes classifier could predict fraud in an anonymised bank dataset taken from [Kaggle](https://https://www.kaggle.com/volodymyrgavrysh/fraud-detection-bank-dataset-20k-records-binary). \n",
        "\n",
        "The notebook was created on Google Colab."
      ]
    },
    {
      "cell_type": "markdown",
      "metadata": {
        "id": "anqHZnDhrF3Y"
      },
      "source": [
        "#### Necessary installs and imports"
      ]
    },
    {
      "cell_type": "code",
      "metadata": {
        "id": "FmPH1deHP3e6",
        "colab": {
          "base_uri": "https://localhost:8080/"
        },
        "outputId": "75bbb9fb-6411-4c8c-eb83-eab8216b31b1"
      },
      "source": [
        "! pip install pyspark"
      ],
      "execution_count": 2,
      "outputs": [
        {
          "output_type": "stream",
          "name": "stdout",
          "text": [
            "Collecting pyspark\n",
            "  Downloading pyspark-3.2.0.tar.gz (281.3 MB)\n",
            "\u001b[K     |████████████████████████████████| 281.3 MB 37 kB/s \n",
            "\u001b[?25hCollecting py4j==0.10.9.2\n",
            "  Downloading py4j-0.10.9.2-py2.py3-none-any.whl (198 kB)\n",
            "\u001b[K     |████████████████████████████████| 198 kB 61.0 MB/s \n",
            "\u001b[?25hBuilding wheels for collected packages: pyspark\n",
            "  Building wheel for pyspark (setup.py) ... \u001b[?25l\u001b[?25hdone\n",
            "  Created wheel for pyspark: filename=pyspark-3.2.0-py2.py3-none-any.whl size=281805912 sha256=256c35c5e545f53d59b1f3047c10cd97674499679cdde44bc08979ad60ff27d9\n",
            "  Stored in directory: /root/.cache/pip/wheels/0b/de/d2/9be5d59d7331c6c2a7c1b6d1a4f463ce107332b1ecd4e80718\n",
            "Successfully built pyspark\n",
            "Installing collected packages: py4j, pyspark\n",
            "Successfully installed py4j-0.10.9.2 pyspark-3.2.0\n"
          ]
        }
      ]
    },
    {
      "cell_type": "code",
      "metadata": {
        "id": "obtHHrkra2K0",
        "colab": {
          "base_uri": "https://localhost:8080/"
        },
        "outputId": "4fd5fcf5-3b94-49b7-c9ae-92cb76fb9da8"
      },
      "source": [
        "import os       #importing os to set environment variable\n",
        "def install_java():\n",
        "  !apt-get install -y openjdk-8-jdk-headless -qq > /dev/null      #install openjdk\n",
        "  os.environ[\"JAVA_HOME\"] = \"/usr/lib/jvm/java-8-openjdk-amd64\"     #set environment variable\n",
        "  !java -version       #check java version\n",
        "install_java()"
      ],
      "execution_count": 3,
      "outputs": [
        {
          "output_type": "stream",
          "name": "stdout",
          "text": [
            "openjdk version \"11.0.11\" 2021-04-20\n",
            "OpenJDK Runtime Environment (build 11.0.11+9-Ubuntu-0ubuntu2.18.04)\n",
            "OpenJDK 64-Bit Server VM (build 11.0.11+9-Ubuntu-0ubuntu2.18.04, mixed mode, sharing)\n"
          ]
        }
      ]
    },
    {
      "cell_type": "code",
      "metadata": {
        "id": "LQrgaKY8Qvtv"
      },
      "source": [
        "import pandas as pd\n",
        "from google.colab import drive \n",
        "from sklearn.preprocessing import MinMaxScaler\n",
        "from pyspark.sql import SparkSession \n",
        "from pyspark.sql.functions import * \n",
        "from pyspark.ml import Pipeline \n",
        "from pyspark.ml.feature import VectorAssembler \n",
        "from pyspark.ml.feature import StringIndexer \n",
        "from pyspark.ml.classification import NaiveBayes \n",
        "from pyspark.ml.evaluation import MulticlassClassificationEvaluator\n",
        "from pyspark.ml.evaluation import BinaryClassificationEvaluator"
      ],
      "execution_count": 4,
      "outputs": []
    },
    {
      "cell_type": "code",
      "metadata": {
        "colab": {
          "base_uri": "https://localhost:8080/"
        },
        "id": "XlKLtmmDRNAV",
        "outputId": "dd128fdc-bfe7-4c3a-ccc1-ebd5c3b43a1a"
      },
      "source": [
        "drive.mount('/content/drive/')"
      ],
      "execution_count": 5,
      "outputs": [
        {
          "output_type": "stream",
          "name": "stdout",
          "text": [
            "Mounted at /content/drive/\n"
          ]
        }
      ]
    },
    {
      "cell_type": "markdown",
      "metadata": {
        "id": "8_n2vvb6rPt_"
      },
      "source": [
        "#### Read in the data"
      ]
    },
    {
      "cell_type": "code",
      "metadata": {
        "colab": {
          "base_uri": "https://localhost:8080/",
          "height": 255
        },
        "id": "_S3qp9cnRNFF",
        "outputId": "300478a4-177a-48d0-a063-58781db3f370"
      },
      "source": [
        "data=pd.read_csv('/content/drive/MyDrive/CA4022FinalAssignment/fraud_detection_bank_dataset.csv')\n",
        "del data['Unnamed: 0']\n",
        "data.head()"
      ],
      "execution_count": 6,
      "outputs": [
        {
          "output_type": "execute_result",
          "data": {
            "text/html": [
              "<div>\n",
              "<style scoped>\n",
              "    .dataframe tbody tr th:only-of-type {\n",
              "        vertical-align: middle;\n",
              "    }\n",
              "\n",
              "    .dataframe tbody tr th {\n",
              "        vertical-align: top;\n",
              "    }\n",
              "\n",
              "    .dataframe thead th {\n",
              "        text-align: right;\n",
              "    }\n",
              "</style>\n",
              "<table border=\"1\" class=\"dataframe\">\n",
              "  <thead>\n",
              "    <tr style=\"text-align: right;\">\n",
              "      <th></th>\n",
              "      <th>col_0</th>\n",
              "      <th>col_1</th>\n",
              "      <th>col_2</th>\n",
              "      <th>col_3</th>\n",
              "      <th>col_4</th>\n",
              "      <th>col_5</th>\n",
              "      <th>col_6</th>\n",
              "      <th>col_7</th>\n",
              "      <th>col_8</th>\n",
              "      <th>col_9</th>\n",
              "      <th>col_10</th>\n",
              "      <th>col_11</th>\n",
              "      <th>col_12</th>\n",
              "      <th>col_13</th>\n",
              "      <th>col_14</th>\n",
              "      <th>col_15</th>\n",
              "      <th>col_16</th>\n",
              "      <th>col_17</th>\n",
              "      <th>col_18</th>\n",
              "      <th>col_19</th>\n",
              "      <th>col_20</th>\n",
              "      <th>col_21</th>\n",
              "      <th>col_22</th>\n",
              "      <th>col_23</th>\n",
              "      <th>col_24</th>\n",
              "      <th>col_25</th>\n",
              "      <th>col_26</th>\n",
              "      <th>col_27</th>\n",
              "      <th>col_28</th>\n",
              "      <th>col_29</th>\n",
              "      <th>col_30</th>\n",
              "      <th>col_31</th>\n",
              "      <th>col_32</th>\n",
              "      <th>col_33</th>\n",
              "      <th>col_34</th>\n",
              "      <th>col_35</th>\n",
              "      <th>col_36</th>\n",
              "      <th>col_37</th>\n",
              "      <th>col_38</th>\n",
              "      <th>col_39</th>\n",
              "      <th>...</th>\n",
              "      <th>col_73</th>\n",
              "      <th>col_74</th>\n",
              "      <th>col_75</th>\n",
              "      <th>col_76</th>\n",
              "      <th>col_77</th>\n",
              "      <th>col_78</th>\n",
              "      <th>col_79</th>\n",
              "      <th>col_80</th>\n",
              "      <th>col_81</th>\n",
              "      <th>col_82</th>\n",
              "      <th>col_83</th>\n",
              "      <th>col_84</th>\n",
              "      <th>col_85</th>\n",
              "      <th>col_86</th>\n",
              "      <th>col_87</th>\n",
              "      <th>col_88</th>\n",
              "      <th>col_89</th>\n",
              "      <th>col_90</th>\n",
              "      <th>col_91</th>\n",
              "      <th>col_92</th>\n",
              "      <th>col_93</th>\n",
              "      <th>col_94</th>\n",
              "      <th>col_95</th>\n",
              "      <th>col_96</th>\n",
              "      <th>col_97</th>\n",
              "      <th>col_98</th>\n",
              "      <th>col_99</th>\n",
              "      <th>col_100</th>\n",
              "      <th>col_101</th>\n",
              "      <th>col_102</th>\n",
              "      <th>col_103</th>\n",
              "      <th>col_104</th>\n",
              "      <th>col_105</th>\n",
              "      <th>col_106</th>\n",
              "      <th>col_107</th>\n",
              "      <th>col_108</th>\n",
              "      <th>col_109</th>\n",
              "      <th>col_110</th>\n",
              "      <th>col_111</th>\n",
              "      <th>targets</th>\n",
              "    </tr>\n",
              "  </thead>\n",
              "  <tbody>\n",
              "    <tr>\n",
              "      <th>0</th>\n",
              "      <td>9</td>\n",
              "      <td>1354</td>\n",
              "      <td>0</td>\n",
              "      <td>18</td>\n",
              "      <td>0</td>\n",
              "      <td>1</td>\n",
              "      <td>7</td>\n",
              "      <td>9</td>\n",
              "      <td>0</td>\n",
              "      <td>0</td>\n",
              "      <td>0</td>\n",
              "      <td>0</td>\n",
              "      <td>0</td>\n",
              "      <td>0</td>\n",
              "      <td>1</td>\n",
              "      <td>0</td>\n",
              "      <td>1</td>\n",
              "      <td>0</td>\n",
              "      <td>0</td>\n",
              "      <td>0</td>\n",
              "      <td>0</td>\n",
              "      <td>0</td>\n",
              "      <td>9</td>\n",
              "      <td>74</td>\n",
              "      <td>19</td>\n",
              "      <td>25</td>\n",
              "      <td>0</td>\n",
              "      <td>0</td>\n",
              "      <td>1</td>\n",
              "      <td>3</td>\n",
              "      <td>24</td>\n",
              "      <td>0</td>\n",
              "      <td>0</td>\n",
              "      <td>0</td>\n",
              "      <td>2</td>\n",
              "      <td>0</td>\n",
              "      <td>97</td>\n",
              "      <td>0</td>\n",
              "      <td>981</td>\n",
              "      <td>0</td>\n",
              "      <td>...</td>\n",
              "      <td>0</td>\n",
              "      <td>0</td>\n",
              "      <td>0</td>\n",
              "      <td>0</td>\n",
              "      <td>0</td>\n",
              "      <td>0</td>\n",
              "      <td>0</td>\n",
              "      <td>0</td>\n",
              "      <td>0</td>\n",
              "      <td>0</td>\n",
              "      <td>0</td>\n",
              "      <td>0</td>\n",
              "      <td>0</td>\n",
              "      <td>0</td>\n",
              "      <td>0</td>\n",
              "      <td>0</td>\n",
              "      <td>0</td>\n",
              "      <td>0</td>\n",
              "      <td>0</td>\n",
              "      <td>0</td>\n",
              "      <td>0</td>\n",
              "      <td>0</td>\n",
              "      <td>0</td>\n",
              "      <td>1</td>\n",
              "      <td>1</td>\n",
              "      <td>1</td>\n",
              "      <td>0</td>\n",
              "      <td>0</td>\n",
              "      <td>0</td>\n",
              "      <td>4</td>\n",
              "      <td>0</td>\n",
              "      <td>0</td>\n",
              "      <td>0</td>\n",
              "      <td>1</td>\n",
              "      <td>1</td>\n",
              "      <td>0</td>\n",
              "      <td>0</td>\n",
              "      <td>0</td>\n",
              "      <td>49</td>\n",
              "      <td>1</td>\n",
              "    </tr>\n",
              "    <tr>\n",
              "      <th>1</th>\n",
              "      <td>0</td>\n",
              "      <td>239</td>\n",
              "      <td>0</td>\n",
              "      <td>1</td>\n",
              "      <td>0</td>\n",
              "      <td>1</td>\n",
              "      <td>0</td>\n",
              "      <td>0</td>\n",
              "      <td>0</td>\n",
              "      <td>0</td>\n",
              "      <td>0</td>\n",
              "      <td>0</td>\n",
              "      <td>0</td>\n",
              "      <td>0</td>\n",
              "      <td>0</td>\n",
              "      <td>0</td>\n",
              "      <td>1</td>\n",
              "      <td>0</td>\n",
              "      <td>0</td>\n",
              "      <td>0</td>\n",
              "      <td>0</td>\n",
              "      <td>0</td>\n",
              "      <td>0</td>\n",
              "      <td>7</td>\n",
              "      <td>1</td>\n",
              "      <td>0</td>\n",
              "      <td>0</td>\n",
              "      <td>0</td>\n",
              "      <td>1</td>\n",
              "      <td>1</td>\n",
              "      <td>0</td>\n",
              "      <td>0</td>\n",
              "      <td>0</td>\n",
              "      <td>0</td>\n",
              "      <td>0</td>\n",
              "      <td>0</td>\n",
              "      <td>0</td>\n",
              "      <td>0</td>\n",
              "      <td>18</td>\n",
              "      <td>0</td>\n",
              "      <td>...</td>\n",
              "      <td>0</td>\n",
              "      <td>0</td>\n",
              "      <td>0</td>\n",
              "      <td>0</td>\n",
              "      <td>0</td>\n",
              "      <td>0</td>\n",
              "      <td>0</td>\n",
              "      <td>0</td>\n",
              "      <td>0</td>\n",
              "      <td>0</td>\n",
              "      <td>0</td>\n",
              "      <td>0</td>\n",
              "      <td>0</td>\n",
              "      <td>0</td>\n",
              "      <td>0</td>\n",
              "      <td>0</td>\n",
              "      <td>1</td>\n",
              "      <td>0</td>\n",
              "      <td>0</td>\n",
              "      <td>0</td>\n",
              "      <td>0</td>\n",
              "      <td>0</td>\n",
              "      <td>0</td>\n",
              "      <td>0</td>\n",
              "      <td>0</td>\n",
              "      <td>0</td>\n",
              "      <td>1</td>\n",
              "      <td>0</td>\n",
              "      <td>0</td>\n",
              "      <td>0</td>\n",
              "      <td>0</td>\n",
              "      <td>1</td>\n",
              "      <td>0</td>\n",
              "      <td>0</td>\n",
              "      <td>0</td>\n",
              "      <td>0</td>\n",
              "      <td>0</td>\n",
              "      <td>0</td>\n",
              "      <td>55</td>\n",
              "      <td>1</td>\n",
              "    </tr>\n",
              "    <tr>\n",
              "      <th>2</th>\n",
              "      <td>0</td>\n",
              "      <td>260</td>\n",
              "      <td>0</td>\n",
              "      <td>4</td>\n",
              "      <td>0</td>\n",
              "      <td>3</td>\n",
              "      <td>6</td>\n",
              "      <td>0</td>\n",
              "      <td>0</td>\n",
              "      <td>0</td>\n",
              "      <td>0</td>\n",
              "      <td>0</td>\n",
              "      <td>0</td>\n",
              "      <td>0</td>\n",
              "      <td>1</td>\n",
              "      <td>1</td>\n",
              "      <td>0</td>\n",
              "      <td>0</td>\n",
              "      <td>0</td>\n",
              "      <td>0</td>\n",
              "      <td>0</td>\n",
              "      <td>0</td>\n",
              "      <td>0</td>\n",
              "      <td>13</td>\n",
              "      <td>7</td>\n",
              "      <td>5</td>\n",
              "      <td>0</td>\n",
              "      <td>0</td>\n",
              "      <td>1</td>\n",
              "      <td>5</td>\n",
              "      <td>0</td>\n",
              "      <td>0</td>\n",
              "      <td>0</td>\n",
              "      <td>0</td>\n",
              "      <td>0</td>\n",
              "      <td>0</td>\n",
              "      <td>5</td>\n",
              "      <td>0</td>\n",
              "      <td>91</td>\n",
              "      <td>0</td>\n",
              "      <td>...</td>\n",
              "      <td>0</td>\n",
              "      <td>0</td>\n",
              "      <td>0</td>\n",
              "      <td>0</td>\n",
              "      <td>0</td>\n",
              "      <td>0</td>\n",
              "      <td>0</td>\n",
              "      <td>0</td>\n",
              "      <td>0</td>\n",
              "      <td>1</td>\n",
              "      <td>0</td>\n",
              "      <td>0</td>\n",
              "      <td>0</td>\n",
              "      <td>0</td>\n",
              "      <td>0</td>\n",
              "      <td>0</td>\n",
              "      <td>0</td>\n",
              "      <td>0</td>\n",
              "      <td>0</td>\n",
              "      <td>0</td>\n",
              "      <td>0</td>\n",
              "      <td>0</td>\n",
              "      <td>0</td>\n",
              "      <td>1</td>\n",
              "      <td>0</td>\n",
              "      <td>1</td>\n",
              "      <td>0</td>\n",
              "      <td>0</td>\n",
              "      <td>0</td>\n",
              "      <td>1</td>\n",
              "      <td>0</td>\n",
              "      <td>0</td>\n",
              "      <td>0</td>\n",
              "      <td>1</td>\n",
              "      <td>1</td>\n",
              "      <td>0</td>\n",
              "      <td>0</td>\n",
              "      <td>0</td>\n",
              "      <td>56</td>\n",
              "      <td>1</td>\n",
              "    </tr>\n",
              "    <tr>\n",
              "      <th>3</th>\n",
              "      <td>17</td>\n",
              "      <td>682</td>\n",
              "      <td>0</td>\n",
              "      <td>1</td>\n",
              "      <td>0</td>\n",
              "      <td>0</td>\n",
              "      <td>8</td>\n",
              "      <td>17</td>\n",
              "      <td>0</td>\n",
              "      <td>0</td>\n",
              "      <td>0</td>\n",
              "      <td>0</td>\n",
              "      <td>0</td>\n",
              "      <td>0</td>\n",
              "      <td>0</td>\n",
              "      <td>0</td>\n",
              "      <td>1</td>\n",
              "      <td>0</td>\n",
              "      <td>0</td>\n",
              "      <td>0</td>\n",
              "      <td>0</td>\n",
              "      <td>0</td>\n",
              "      <td>23</td>\n",
              "      <td>52</td>\n",
              "      <td>1</td>\n",
              "      <td>7</td>\n",
              "      <td>0</td>\n",
              "      <td>0</td>\n",
              "      <td>1</td>\n",
              "      <td>1</td>\n",
              "      <td>1</td>\n",
              "      <td>9</td>\n",
              "      <td>0</td>\n",
              "      <td>0</td>\n",
              "      <td>0</td>\n",
              "      <td>0</td>\n",
              "      <td>3</td>\n",
              "      <td>0</td>\n",
              "      <td>26</td>\n",
              "      <td>0</td>\n",
              "      <td>...</td>\n",
              "      <td>0</td>\n",
              "      <td>0</td>\n",
              "      <td>0</td>\n",
              "      <td>0</td>\n",
              "      <td>0</td>\n",
              "      <td>0</td>\n",
              "      <td>0</td>\n",
              "      <td>0</td>\n",
              "      <td>0</td>\n",
              "      <td>0</td>\n",
              "      <td>0</td>\n",
              "      <td>0</td>\n",
              "      <td>0</td>\n",
              "      <td>0</td>\n",
              "      <td>0</td>\n",
              "      <td>0</td>\n",
              "      <td>0</td>\n",
              "      <td>0</td>\n",
              "      <td>0</td>\n",
              "      <td>0</td>\n",
              "      <td>0</td>\n",
              "      <td>0</td>\n",
              "      <td>0</td>\n",
              "      <td>0</td>\n",
              "      <td>0</td>\n",
              "      <td>1</td>\n",
              "      <td>0</td>\n",
              "      <td>0</td>\n",
              "      <td>0</td>\n",
              "      <td>1</td>\n",
              "      <td>0</td>\n",
              "      <td>1</td>\n",
              "      <td>0</td>\n",
              "      <td>1</td>\n",
              "      <td>1</td>\n",
              "      <td>0</td>\n",
              "      <td>0</td>\n",
              "      <td>0</td>\n",
              "      <td>65</td>\n",
              "      <td>1</td>\n",
              "    </tr>\n",
              "    <tr>\n",
              "      <th>4</th>\n",
              "      <td>1</td>\n",
              "      <td>540</td>\n",
              "      <td>0</td>\n",
              "      <td>2</td>\n",
              "      <td>0</td>\n",
              "      <td>1</td>\n",
              "      <td>7</td>\n",
              "      <td>1</td>\n",
              "      <td>0</td>\n",
              "      <td>0</td>\n",
              "      <td>0</td>\n",
              "      <td>0</td>\n",
              "      <td>0</td>\n",
              "      <td>0</td>\n",
              "      <td>1</td>\n",
              "      <td>0</td>\n",
              "      <td>1</td>\n",
              "      <td>0</td>\n",
              "      <td>0</td>\n",
              "      <td>0</td>\n",
              "      <td>0</td>\n",
              "      <td>0</td>\n",
              "      <td>1</td>\n",
              "      <td>20</td>\n",
              "      <td>3</td>\n",
              "      <td>11</td>\n",
              "      <td>0</td>\n",
              "      <td>0</td>\n",
              "      <td>1</td>\n",
              "      <td>4</td>\n",
              "      <td>20</td>\n",
              "      <td>0</td>\n",
              "      <td>0</td>\n",
              "      <td>0</td>\n",
              "      <td>0</td>\n",
              "      <td>0</td>\n",
              "      <td>52</td>\n",
              "      <td>0</td>\n",
              "      <td>669</td>\n",
              "      <td>0</td>\n",
              "      <td>...</td>\n",
              "      <td>0</td>\n",
              "      <td>0</td>\n",
              "      <td>0</td>\n",
              "      <td>1</td>\n",
              "      <td>0</td>\n",
              "      <td>0</td>\n",
              "      <td>0</td>\n",
              "      <td>0</td>\n",
              "      <td>0</td>\n",
              "      <td>0</td>\n",
              "      <td>0</td>\n",
              "      <td>0</td>\n",
              "      <td>0</td>\n",
              "      <td>0</td>\n",
              "      <td>0</td>\n",
              "      <td>0</td>\n",
              "      <td>0</td>\n",
              "      <td>0</td>\n",
              "      <td>0</td>\n",
              "      <td>1</td>\n",
              "      <td>0</td>\n",
              "      <td>0</td>\n",
              "      <td>0</td>\n",
              "      <td>0</td>\n",
              "      <td>0</td>\n",
              "      <td>1</td>\n",
              "      <td>0</td>\n",
              "      <td>0</td>\n",
              "      <td>0</td>\n",
              "      <td>1</td>\n",
              "      <td>0</td>\n",
              "      <td>0</td>\n",
              "      <td>0</td>\n",
              "      <td>1</td>\n",
              "      <td>1</td>\n",
              "      <td>0</td>\n",
              "      <td>0</td>\n",
              "      <td>0</td>\n",
              "      <td>175</td>\n",
              "      <td>1</td>\n",
              "    </tr>\n",
              "  </tbody>\n",
              "</table>\n",
              "<p>5 rows × 113 columns</p>\n",
              "</div>"
            ],
            "text/plain": [
              "   col_0  col_1  col_2  col_3  ...  col_109  col_110  col_111  targets\n",
              "0      9   1354      0     18  ...        0        0       49        1\n",
              "1      0    239      0      1  ...        0        0       55        1\n",
              "2      0    260      0      4  ...        0        0       56        1\n",
              "3     17    682      0      1  ...        0        0       65        1\n",
              "4      1    540      0      2  ...        0        0      175        1\n",
              "\n",
              "[5 rows x 113 columns]"
            ]
          },
          "metadata": {},
          "execution_count": 6
        }
      ]
    },
    {
      "cell_type": "markdown",
      "metadata": {
        "id": "lDil26vUbcxk"
      },
      "source": [
        "Now we can check to see if we need to perform any data cleaning"
      ]
    },
    {
      "cell_type": "code",
      "metadata": {
        "id": "Bz4jk_-QbiDY",
        "colab": {
          "base_uri": "https://localhost:8080/"
        },
        "outputId": "70581e21-ee8e-4961-cd52-6e1312394ab2"
      },
      "source": [
        "data.isna().sum().sum()"
      ],
      "execution_count": 7,
      "outputs": [
        {
          "output_type": "execute_result",
          "data": {
            "text/plain": [
              "0"
            ]
          },
          "metadata": {},
          "execution_count": 7
        }
      ]
    },
    {
      "cell_type": "markdown",
      "metadata": {
        "id": "3Pdlu5UCboJ6"
      },
      "source": [
        "There are no null values so we can proceed to our next phase"
      ]
    },
    {
      "cell_type": "markdown",
      "metadata": {
        "id": "5-aCCIZY1Jjt"
      },
      "source": [
        "#### Scale the data to improve prediction accuracy"
      ]
    },
    {
      "cell_type": "code",
      "metadata": {
        "id": "y7gU46WD1J33"
      },
      "source": [
        "# separate the features from the label column\n",
        "labels=data['targets'].to_list()\n",
        "feats=data\n",
        "del feats['targets']\n",
        "\n",
        "# scale the dataframe\n",
        "scaler = MinMaxScaler()\n",
        "feats[feats.columns] = scaler.fit_transform(feats[feats.columns])\n",
        "\n",
        "# put the df back together\n",
        "data=feats\n",
        "data['targets']=labels"
      ],
      "execution_count": 8,
      "outputs": []
    },
    {
      "cell_type": "markdown",
      "metadata": {
        "id": "ZZUbyal7rT4w"
      },
      "source": [
        "#### Set up Spark and create a spark dataframe"
      ]
    },
    {
      "cell_type": "code",
      "metadata": {
        "id": "dYc5GMOHRNMx"
      },
      "source": [
        "#Sets the Spark master URL to run locally. \n",
        "spark = SparkSession.builder.master(\"local[*]\").getOrCreate()"
      ],
      "execution_count": 9,
      "outputs": []
    },
    {
      "cell_type": "code",
      "metadata": {
        "colab": {
          "base_uri": "https://localhost:8080/"
        },
        "id": "G-8h17DlSr0H",
        "outputId": "d16253bd-99aa-4f30-e424-4003301f0d41"
      },
      "source": [
        "#Create DataFrame \n",
        "fraud_df = spark.createDataFrame(data)\n",
        "fraud_df.show(5)"
      ],
      "execution_count": 10,
      "outputs": [
        {
          "output_type": "stream",
          "name": "stdout",
          "text": [
            "+--------------------+--------------------+-----+--------------------+-----+--------------------+-------------------+--------------------+-----+-----+------+------+------+------+------+------+------+------+------+------+------+------+--------------------+--------------------+--------------------+--------------------+------+------+------+--------------------+--------------------+-------------------+------+------+--------------------+------+--------------------+------+--------------------+------+------+--------------------+--------------------+--------------------+--------------------+------+------+--------------------+--------------------+--------------------+--------------------+------+------+------+--------------------+--------------------+------+--------------------+------+------------------+--------------------+--------------------+--------------------+--------------------+--------------------+--------------------+--------------------+--------------------+--------------------+-------------------+------+------+------+------+------+------+------+------+------+------+------+------+------+------+------+------+------+------+------+------+------+------+------+------+------+------+------+------+------+------+-------+-------+-------+-------+-------+-------+-------+-------+-------+-------+-------+-------------------+-------+\n",
            "|               col_0|               col_1|col_2|               col_3|col_4|               col_5|              col_6|               col_7|col_8|col_9|col_10|col_11|col_12|col_13|col_14|col_15|col_16|col_17|col_18|col_19|col_20|col_21|              col_22|              col_23|              col_24|              col_25|col_26|col_27|col_28|              col_29|              col_30|             col_31|col_32|col_33|              col_34|col_35|              col_36|col_37|              col_38|col_39|col_40|              col_41|              col_42|              col_43|              col_44|col_45|col_46|              col_47|              col_48|              col_49|              col_50|col_51|col_52|col_53|              col_54|              col_55|col_56|              col_57|col_58|            col_59|              col_60|              col_61|              col_62|              col_63|              col_64|              col_65|              col_66|              col_67|              col_68|             col_69|col_70|col_71|col_72|col_73|col_74|col_75|col_76|col_77|col_78|col_79|col_80|col_81|col_82|col_83|col_84|col_85|col_86|col_87|col_88|col_89|col_90|col_91|col_92|col_93|col_94|col_95|col_96|col_97|col_98|col_99|col_100|col_101|col_102|col_103|col_104|col_105|col_106|col_107|col_108|col_109|col_110|            col_111|targets|\n",
            "+--------------------+--------------------+-----+--------------------+-----+--------------------+-------------------+--------------------+-----+-----+------+------+------+------+------+------+------+------+------+------+------+------+--------------------+--------------------+--------------------+--------------------+------+------+------+--------------------+--------------------+-------------------+------+------+--------------------+------+--------------------+------+--------------------+------+------+--------------------+--------------------+--------------------+--------------------+------+------+--------------------+--------------------+--------------------+--------------------+------+------+------+--------------------+--------------------+------+--------------------+------+------------------+--------------------+--------------------+--------------------+--------------------+--------------------+--------------------+--------------------+--------------------+--------------------+-------------------+------+------+------+------+------+------+------+------+------+------+------+------+------+------+------+------+------+------+------+------+------+------+------+------+------+------+------+------+------+------+-------+-------+-------+-------+-------+-------+-------+-------+-------+-------+-------+-------------------+-------+\n",
            "|0.003911342894393742| 0.03581252644942869|  0.0|0.023316062176165803|  0.0|0.004347826086956522| 0.6666666666666666|0.003911342894393742|  0.0|  0.0|   0.0|   0.0|   0.0|   0.0|   1.0|   0.0|   1.0|   0.0|   0.0|   0.0|   0.0|   0.0|0.002687369363989251|0.006445993031358885|  0.0209020902090209| 0.03607503607503607|   0.0|   0.0|   1.0|0.014778325123152709|0.024665981500513877|                0.0|   0.0|   0.0|0.002333722287047841|   0.0|0.001024914942625...|   0.0|0.013380070378351837|   0.0|   0.0| 0.07874015748031496|0.014055590650663297|0.003367003367003367|4.017677782241864E-4|   0.0|   0.0|3.764312228786532...|0.007667031763417306|0.008544152744630072|5.149878634526846E-5|   0.0|   0.0|   0.0|0.009700053342086908|7.696219232302132E-4|   0.0|5.444466442288656E-5|   0.0|0.1103448275862069|0.012964426877470356|0.004739336492890996|4.096681687832855...|2.046951960596174...|0.008511806699615597|0.006457343947521268|0.001740833424001...|6.837319902709438E-4|  0.1135135135135135|               0.25|   0.0|   0.0|   0.0|   0.0|   0.0|   0.0|   0.0|   0.0|   0.0|   0.0|   0.0|   0.0|   0.0|   0.0|   0.0|   0.0|   0.0|   0.0|   0.0|   0.0|   0.0|   0.0|   0.0|   0.0|   0.0|   0.0|   1.0|   1.0|   1.0|   0.0|    0.0|    0.0|    0.2|    0.0|    0.0|    0.0|    1.0|    1.0|    0.0|    0.0|    0.0|0.06559571619812583|      1|\n",
            "|                 0.0|0.006321413457469319|  0.0|0.001295336787564...|  0.0|0.004347826086956522|0.08333333333333333|                 0.0|  0.0|  0.0|   0.0|   0.0|   0.0|   0.0|   0.0|   0.0|   1.0|   0.0|   0.0|   0.0|   0.0|   0.0|                 0.0|6.097560975609756E-4|  0.0011001100110011|                 0.0|   0.0|   0.0|   1.0|0.004926108374384...|                 0.0|                0.0|   0.0|   0.0|                 0.0|   0.0|                 0.0|   0.0|2.455058785018685...|   0.0|   0.0|                 0.0|                 0.0|                 0.0|                 0.0|   0.0|   0.0|                 0.0|                 0.0|3.341288782816229...|                 0.0|   0.0|   0.0|   0.0|2.626071970784949...|                 0.0|   0.0|                 0.0|   0.0|               0.0|                 0.0|                 0.0|                 0.0|                 0.0|                 0.0|                 0.0|                 0.0|4.640512464409633...|0.015015015015015015|0.08333333333333333|   0.0|   0.0|   0.0|   0.0|   0.0|   0.0|   0.0|   0.0|   0.0|   0.0|   0.0|   0.0|   0.0|   0.0|   0.0|   0.0|   0.0|   0.0|   0.0|   1.0|   0.0|   0.0|   0.0|   0.0|   0.0|   0.0|   0.0|   0.0|   0.0|   1.0|    0.0|    0.0|    0.0|    0.0|    1.0|    0.0|    0.0|    0.0|    0.0|    0.0|    0.0|0.07362784471218206|      1|\n",
            "|                 0.0|0.006876851460008464|  0.0|0.005181347150259...|  0.0|0.013043478260869566| 0.5833333333333334|                 0.0|  0.0|  0.0|   0.0|   0.0|   0.0|   0.0|   1.0|   1.0|   0.0|   0.0|   0.0|   0.0|   0.0|   0.0|                 0.0|0.001132404181184...|0.007700770077007701|0.007215007215007215|   0.0|   0.0|   1.0|0.024630541871921183|                 0.0|                0.0|   0.0|   0.0|                 0.0|   0.0|5.283066714566471...|   0.0|0.001241168607981...|   0.0|   0.0|0.023622047244094488|                 0.0|                 0.0|                 0.0|   0.0|   0.0|1.359334971506247...|0.001752464403066...|0.001073985680190...|                 0.0|   0.0|   0.0|   0.0|0.001378687784662...|                 0.0|   0.0|                 0.0|   0.0|               0.0|                 0.0|                 0.0|                 0.0|                 0.0|                 0.0|                 0.0|                 0.0|9.843551613571993E-6|0.024624624624624624|0.19444444444444442|   0.0|   0.0|   0.0|   0.0|   0.0|   0.0|   0.0|   0.0|   0.0|   0.0|   0.0|   0.0|   1.0|   0.0|   0.0|   0.0|   0.0|   0.0|   0.0|   0.0|   0.0|   0.0|   0.0|   0.0|   0.0|   0.0|   1.0|   0.0|   1.0|   0.0|    0.0|    0.0|   0.05|    0.0|    0.0|    0.0|    1.0|    1.0|    0.0|    0.0|    0.0| 0.0749665327978581|      1|\n",
            "|0.007388092133854846| 0.01803851036817605|  0.0|0.001295336787564...|  0.0|                 0.0|               0.75|0.007388092133854846|  0.0|  0.0|   0.0|   0.0|   0.0|   0.0|   0.0|   0.0|   1.0|   0.0|   0.0|   0.0|   0.0|   0.0| 0.00686772170797253|0.004529616724738...|  0.0011001100110011|  0.0101010101010101|   0.0|   0.0|   1.0|0.004926108374384...|0.001027749229188...|0.07692307692307693|   0.0|   0.0|                 0.0|   0.0|3.169840028739883E-5|   0.0|3.546196022804768E-4|   0.0|   0.0|                 0.0|3.158559696778269E-4|                 0.0|                 0.0|   0.0|   0.0|                 0.0|                 0.0|9.546539379474941E-5|6.866504846035795E-6|   0.0|   0.0|   0.0|2.708136719871979...|                 0.0|   0.0|                 0.0|   0.0|               0.0|3.162055335968379...|                 0.0|                 0.0|                 0.0|                 0.0|6.833168198435204E-5|                 0.0|0.001848959067802...|0.022822822822822823| 0.1388888888888889|   0.0|   0.0|   0.0|   0.0|   0.0|   0.0|   0.0|   0.0|   0.0|   0.0|   0.0|   0.0|   0.0|   0.0|   0.0|   0.0|   0.0|   0.0|   0.0|   0.0|   0.0|   0.0|   0.0|   0.0|   0.0|   0.0|   0.0|   0.0|   1.0|   0.0|    0.0|    0.0|   0.05|    0.0|    1.0|    0.0|    1.0|    1.0|    0.0|    0.0|    0.0|0.08701472556894244|      1|\n",
            "| 4.34593654932638E-4|0.014282691493863733|  0.0|0.002590673575129...|  0.0|0.004347826086956522| 0.6666666666666666| 4.34593654932638E-4|  0.0|  0.0|   0.0|   0.0|   0.0|   0.0|   1.0|   0.0|   1.0|   0.0|   0.0|   0.0|   0.0|   0.0|2.985965959988056...|0.001742160278745...|0.003300330033003...|0.015873015873015872|   0.0|   0.0|   1.0|0.019704433497536946|0.020554984583761562|                0.0|   0.0|   0.0|                 0.0|   0.0| 5.49438938314913E-4|   0.0|0.009124635150986115|   0.0|   0.0|                 0.0|0.001421351863550221|                 0.0|                 0.0|   0.0|   0.0|2.195848800125477E-4|0.001314348302300...|0.001575178997613...|1.235970872286443...|   0.0|   0.0|   0.0|0.005498338188830988| 5.35986696535327E-4|   0.0|1.781825381112651E-4|   0.0|               0.0|0.001264822134387...|                 0.0|                 0.0|1.279344975372609...|0.001098297638660077|0.001639960367624...|0.001849635513001...|0.001045881811238...| 0.14954954954954955|0.16666666666666666|   0.0|   0.0|   0.0|   0.0|   0.0|   0.0|   1.0|   0.0|   0.0|   0.0|   0.0|   0.0|   0.0|   0.0|   0.0|   0.0|   0.0|   0.0|   0.0|   0.0|   0.0|   0.0|   1.0|   0.0|   0.0|   0.0|   0.0|   0.0|   1.0|   0.0|    0.0|    0.0|   0.05|    0.0|    0.0|    0.0|    1.0|    1.0|    0.0|    0.0|    0.0|0.23427041499330656|      1|\n",
            "+--------------------+--------------------+-----+--------------------+-----+--------------------+-------------------+--------------------+-----+-----+------+------+------+------+------+------+------+------+------+------+------+------+--------------------+--------------------+--------------------+--------------------+------+------+------+--------------------+--------------------+-------------------+------+------+--------------------+------+--------------------+------+--------------------+------+------+--------------------+--------------------+--------------------+--------------------+------+------+--------------------+--------------------+--------------------+--------------------+------+------+------+--------------------+--------------------+------+--------------------+------+------------------+--------------------+--------------------+--------------------+--------------------+--------------------+--------------------+--------------------+--------------------+--------------------+-------------------+------+------+------+------+------+------+------+------+------+------+------+------+------+------+------+------+------+------+------+------+------+------+------+------+------+------+------+------+------+------+-------+-------+-------+-------+-------+-------+-------+-------+-------+-------+-------+-------------------+-------+\n",
            "only showing top 5 rows\n",
            "\n"
          ]
        }
      ]
    },
    {
      "cell_type": "code",
      "metadata": {
        "id": "-L9tfqFQSr26"
      },
      "source": [
        "indexers = [\n",
        "StringIndexer(inputCol=\"col_0\", outputCol = \"col_0_index\"),  \n",
        "StringIndexer(inputCol=\"col_1\", outputCol = \"col_1_index\"),  \n",
        "StringIndexer(inputCol=\"col_2\", outputCol = \"col_2_index\"),  \n",
        "StringIndexer(inputCol=\"col_3\", outputCol = \"col_3_index\"),\n",
        "StringIndexer(inputCol=\"col_4\", outputCol = \"col_4_index\"),  \n",
        "StringIndexer(inputCol=\"col_5\", outputCol = \"col_5_index\"),  \n",
        "StringIndexer(inputCol=\"col_6\", outputCol = \"col_6_index\"),  \n",
        "StringIndexer(inputCol=\"col_7\", outputCol = \"col_7_index\"),\n",
        "StringIndexer(inputCol=\"col_8\", outputCol = \"col_8_index\"),  \n",
        "StringIndexer(inputCol=\"col_9\", outputCol = \"col_9_index\"),\n",
        "StringIndexer(inputCol=\"col_10\", outputCol = \"col_10_index\"),  \n",
        "StringIndexer(inputCol=\"col_11\", outputCol = \"col_11_index\"),  \n",
        "StringIndexer(inputCol=\"col_12\", outputCol = \"col_12_index\"),  \n",
        "StringIndexer(inputCol=\"col_13\", outputCol = \"col_13_index\"),\n",
        "StringIndexer(inputCol=\"col_14\", outputCol = \"col_14_index\"),  \n",
        "StringIndexer(inputCol=\"col_15\", outputCol = \"col_15_index\"),  \n",
        "StringIndexer(inputCol=\"col_16\", outputCol = \"col_16_index\"),  \n",
        "StringIndexer(inputCol=\"col_17\", outputCol = \"col_17_index\"),\n",
        "StringIndexer(inputCol=\"col_18\", outputCol = \"col_18_index\"),  \n",
        "StringIndexer(inputCol=\"col_19\", outputCol = \"col_19_index\"),\n",
        "StringIndexer(inputCol=\"col_20\", outputCol = \"col_20_index\"),  \n",
        "StringIndexer(inputCol=\"col_21\", outputCol = \"col_21_index\"),  \n",
        "StringIndexer(inputCol=\"col_22\", outputCol = \"col_22_index\"),  \n",
        "StringIndexer(inputCol=\"col_23\", outputCol = \"col_23_index\"),\n",
        "StringIndexer(inputCol=\"col_24\", outputCol = \"col_24_index\"),  \n",
        "StringIndexer(inputCol=\"col_25\", outputCol = \"col_25_index\"),  \n",
        "StringIndexer(inputCol=\"col_26\", outputCol = \"col_26_index\"),  \n",
        "StringIndexer(inputCol=\"col_27\", outputCol = \"col_27_index\"),\n",
        "StringIndexer(inputCol=\"col_28\", outputCol = \"col_28_index\"),  \n",
        "StringIndexer(inputCol=\"col_29\", outputCol = \"col_29_index\"),\n",
        "StringIndexer(inputCol=\"col_30\", outputCol = \"col_30_index\"),  \n",
        "StringIndexer(inputCol=\"col_31\", outputCol = \"col_31_index\"),  \n",
        "StringIndexer(inputCol=\"col_32\", outputCol = \"col_32_index\"),  \n",
        "StringIndexer(inputCol=\"col_33\", outputCol = \"col_33_index\"),\n",
        "StringIndexer(inputCol=\"col_34\", outputCol = \"col_34_index\"),  \n",
        "StringIndexer(inputCol=\"col_35\", outputCol = \"col_35_index\"),  \n",
        "StringIndexer(inputCol=\"col_36\", outputCol = \"col_36_index\"),  \n",
        "StringIndexer(inputCol=\"col_37\", outputCol = \"col_37_index\"),\n",
        "StringIndexer(inputCol=\"col_38\", outputCol = \"col_38_index\"),  \n",
        "StringIndexer(inputCol=\"col_39\", outputCol = \"col_39_index\"),\n",
        "StringIndexer(inputCol=\"col_40\", outputCol = \"col_40_index\"),  \n",
        "StringIndexer(inputCol=\"col_41\", outputCol = \"col_41_index\"),  \n",
        "StringIndexer(inputCol=\"col_42\", outputCol = \"col_42_index\"),  \n",
        "StringIndexer(inputCol=\"col_43\", outputCol = \"col_43_index\"),\n",
        "StringIndexer(inputCol=\"col_44\", outputCol = \"col_44_index\"),  \n",
        "StringIndexer(inputCol=\"col_45\", outputCol = \"col_45_index\"),  \n",
        "StringIndexer(inputCol=\"col_46\", outputCol = \"col_46_index\"),  \n",
        "StringIndexer(inputCol=\"col_47\", outputCol = \"col_47_index\"),\n",
        "StringIndexer(inputCol=\"col_48\", outputCol = \"col_48_index\"),  \n",
        "StringIndexer(inputCol=\"col_49\", outputCol = \"col_49_index\"),\n",
        "StringIndexer(inputCol=\"col_50\", outputCol = \"col_50_index\"),  \n",
        "StringIndexer(inputCol=\"col_51\", outputCol = \"col_51_index\"),  \n",
        "StringIndexer(inputCol=\"col_52\", outputCol = \"col_52_index\"),  \n",
        "StringIndexer(inputCol=\"col_53\", outputCol = \"col_53_index\"),\n",
        "StringIndexer(inputCol=\"col_54\", outputCol = \"col_54_index\"),  \n",
        "StringIndexer(inputCol=\"col_55\", outputCol = \"col_55_index\"),  \n",
        "StringIndexer(inputCol=\"col_56\", outputCol = \"col_56_index\"),  \n",
        "StringIndexer(inputCol=\"col_57\", outputCol = \"col_57_index\"),\n",
        "StringIndexer(inputCol=\"col_58\", outputCol = \"col_58_index\"),  \n",
        "StringIndexer(inputCol=\"col_59\", outputCol = \"col_59_index\"),\n",
        "StringIndexer(inputCol=\"col_60\", outputCol = \"col_60_index\"),  \n",
        "StringIndexer(inputCol=\"col_61\", outputCol = \"col_61_index\"),  \n",
        "StringIndexer(inputCol=\"col_62\", outputCol = \"col_62_index\"),  \n",
        "StringIndexer(inputCol=\"col_63\", outputCol = \"col_63_index\"),\n",
        "StringIndexer(inputCol=\"col_64\", outputCol = \"col_64_index\"),  \n",
        "StringIndexer(inputCol=\"col_65\", outputCol = \"col_65_index\"),  \n",
        "StringIndexer(inputCol=\"col_66\", outputCol = \"col_66_index\"),  \n",
        "StringIndexer(inputCol=\"col_67\", outputCol = \"col_67_index\"),\n",
        "StringIndexer(inputCol=\"col_68\", outputCol = \"col_68_index\"),  \n",
        "StringIndexer(inputCol=\"col_69\", outputCol = \"col_69_index\"),\n",
        "StringIndexer(inputCol=\"col_70\", outputCol = \"col_70_index\"),  \n",
        "StringIndexer(inputCol=\"col_71\", outputCol = \"col_71_index\"),  \n",
        "StringIndexer(inputCol=\"col_72\", outputCol = \"col_72_index\"),  \n",
        "StringIndexer(inputCol=\"col_73\", outputCol = \"col_73_index\"),\n",
        "StringIndexer(inputCol=\"col_74\", outputCol = \"col_74_index\"),  \n",
        "StringIndexer(inputCol=\"col_75\", outputCol = \"col_75_index\"),  \n",
        "StringIndexer(inputCol=\"col_76\", outputCol = \"col_76_index\"),  \n",
        "StringIndexer(inputCol=\"col_77\", outputCol = \"col_77_index\"),\n",
        "StringIndexer(inputCol=\"col_78\", outputCol = \"col_78_index\"),  \n",
        "StringIndexer(inputCol=\"col_79\", outputCol = \"col_79_index\"),\n",
        "StringIndexer(inputCol=\"col_80\", outputCol = \"col_80_index\"),  \n",
        "StringIndexer(inputCol=\"col_81\", outputCol = \"col_81_index\"),  \n",
        "StringIndexer(inputCol=\"col_82\", outputCol = \"col_82_index\"),  \n",
        "StringIndexer(inputCol=\"col_83\", outputCol = \"col_83_index\"),\n",
        "StringIndexer(inputCol=\"col_84\", outputCol = \"col_84_index\"),  \n",
        "StringIndexer(inputCol=\"col_85\", outputCol = \"col_85_index\"),  \n",
        "StringIndexer(inputCol=\"col_86\", outputCol = \"col_86_index\"),  \n",
        "StringIndexer(inputCol=\"col_87\", outputCol = \"col_87_index\"),\n",
        "StringIndexer(inputCol=\"col_88\", outputCol = \"col_88_index\"),  \n",
        "StringIndexer(inputCol=\"col_89\", outputCol = \"col_89_index\"),\n",
        "StringIndexer(inputCol=\"col_90\", outputCol = \"col_90_index\"),  \n",
        "StringIndexer(inputCol=\"col_91\", outputCol = \"col_91_index\"),  \n",
        "StringIndexer(inputCol=\"col_92\", outputCol = \"col_92_index\"),  \n",
        "StringIndexer(inputCol=\"col_93\", outputCol = \"col_93_index\"),\n",
        "StringIndexer(inputCol=\"col_94\", outputCol = \"col_94_index\"),  \n",
        "StringIndexer(inputCol=\"col_95\", outputCol = \"col_95_index\"),  \n",
        "StringIndexer(inputCol=\"col_96\", outputCol = \"col_96_index\"),  \n",
        "StringIndexer(inputCol=\"col_97\", outputCol = \"col_97_index\"),\n",
        "StringIndexer(inputCol=\"col_98\", outputCol = \"col_98_index\"),  \n",
        "StringIndexer(inputCol=\"col_99\", outputCol = \"col_99_index\"),\n",
        "StringIndexer(inputCol=\"col_100\", outputCol = \"col_100_index\"),  \n",
        "StringIndexer(inputCol=\"col_101\", outputCol = \"col_101_index\"),  \n",
        "StringIndexer(inputCol=\"col_102\", outputCol = \"col_102_index\"),  \n",
        "StringIndexer(inputCol=\"col_103\", outputCol = \"col_103_index\"),\n",
        "StringIndexer(inputCol=\"col_104\", outputCol = \"col_104_index\"),  \n",
        "StringIndexer(inputCol=\"col_105\", outputCol = \"col_105_index\"),  \n",
        "StringIndexer(inputCol=\"col_106\", outputCol = \"col_106_index\"),  \n",
        "StringIndexer(inputCol=\"col_107\", outputCol = \"col_107_index\"),\n",
        "StringIndexer(inputCol=\"col_108\", outputCol = \"col_108_index\"),  \n",
        "StringIndexer(inputCol=\"col_109\", outputCol = \"col_109_index\"),\n",
        "StringIndexer(inputCol=\"col_110\", outputCol = \"col_110_index\"),  \n",
        "StringIndexer(inputCol=\"col_111\", outputCol = \"col_111_index\"),  \n",
        "StringIndexer(inputCol=\"targets\", outputCol = \"label\")]"
      ],
      "execution_count": 11,
      "outputs": []
    },
    {
      "cell_type": "code",
      "metadata": {
        "id": "coUl3tJbSr48"
      },
      "source": [
        "pipeline = Pipeline(stages=indexers)"
      ],
      "execution_count": 12,
      "outputs": []
    },
    {
      "cell_type": "code",
      "metadata": {
        "id": "pLfxuhXTSr6x"
      },
      "source": [
        "#Fitting a model to the input dataset. \n",
        "indexed_fraud_df = pipeline.fit(fraud_df).transform(fraud_df)"
      ],
      "execution_count": 13,
      "outputs": []
    },
    {
      "cell_type": "code",
      "metadata": {
        "colab": {
          "base_uri": "https://localhost:8080/"
        },
        "id": "OusHcaUhcSUz",
        "outputId": "9be9f250-1318-418e-dd2a-62329648f800"
      },
      "source": [
        "indexed_fraud_df.show(5,False)\n",
        "#We have given False for turn off default truncation"
      ],
      "execution_count": 14,
      "outputs": [
        {
          "output_type": "stream",
          "name": "stdout",
          "text": [
            "+--------------------+--------------------+-----+---------------------+-----+--------------------+-------------------+--------------------+-----+-----+------+------+------+------+------+------+------+------+------+------+------+------+---------------------+---------------------+---------------------+--------------------+------+------+------+---------------------+---------------------+-------------------+------+------+--------------------+------+---------------------+------+---------------------+------+------+--------------------+--------------------+--------------------+--------------------+------+------+---------------------+---------------------+---------------------+---------------------+------+------+------+---------------------+--------------------+------+--------------------+------+------------------+---------------------+--------------------+---------------------+---------------------+--------------------+---------------------+---------------------+---------------------+--------------------+-------------------+------+------+------+------+------+------+------+------+------+------+------+------+------+------+------+------+------+------+------+------+------+------+------+------+------+------+------+------+------+------+-------+-------+-------+-------+-------+-------+-------+-------+-------+-------+-------+-------------------+-------+-----------+-----------+-----------+-----------+-----------+-----------+-----------+-----------+-----------+-----------+------------+------------+------------+------------+------------+------------+------------+------------+------------+------------+------------+------------+------------+------------+------------+------------+------------+------------+------------+------------+------------+------------+------------+------------+------------+------------+------------+------------+------------+------------+------------+------------+------------+------------+------------+------------+------------+------------+------------+------------+------------+------------+------------+------------+------------+------------+------------+------------+------------+------------+------------+------------+------------+------------+------------+------------+------------+------------+------------+------------+------------+------------+------------+------------+------------+------------+------------+------------+------------+------------+------------+------------+------------+------------+------------+------------+------------+------------+------------+------------+------------+------------+------------+------------+------------+------------+------------+------------+------------+------------+-------------+-------------+-------------+-------------+-------------+-------------+-------------+-------------+-------------+-------------+-------------+-------------+-----+\n",
            "|col_0               |col_1               |col_2|col_3                |col_4|col_5               |col_6              |col_7               |col_8|col_9|col_10|col_11|col_12|col_13|col_14|col_15|col_16|col_17|col_18|col_19|col_20|col_21|col_22               |col_23               |col_24               |col_25              |col_26|col_27|col_28|col_29               |col_30               |col_31             |col_32|col_33|col_34              |col_35|col_36               |col_37|col_38               |col_39|col_40|col_41              |col_42              |col_43              |col_44              |col_45|col_46|col_47               |col_48               |col_49               |col_50               |col_51|col_52|col_53|col_54               |col_55              |col_56|col_57              |col_58|col_59            |col_60               |col_61              |col_62               |col_63               |col_64              |col_65               |col_66               |col_67               |col_68              |col_69             |col_70|col_71|col_72|col_73|col_74|col_75|col_76|col_77|col_78|col_79|col_80|col_81|col_82|col_83|col_84|col_85|col_86|col_87|col_88|col_89|col_90|col_91|col_92|col_93|col_94|col_95|col_96|col_97|col_98|col_99|col_100|col_101|col_102|col_103|col_104|col_105|col_106|col_107|col_108|col_109|col_110|col_111            |targets|col_0_index|col_1_index|col_2_index|col_3_index|col_4_index|col_5_index|col_6_index|col_7_index|col_8_index|col_9_index|col_10_index|col_11_index|col_12_index|col_13_index|col_14_index|col_15_index|col_16_index|col_17_index|col_18_index|col_19_index|col_20_index|col_21_index|col_22_index|col_23_index|col_24_index|col_25_index|col_26_index|col_27_index|col_28_index|col_29_index|col_30_index|col_31_index|col_32_index|col_33_index|col_34_index|col_35_index|col_36_index|col_37_index|col_38_index|col_39_index|col_40_index|col_41_index|col_42_index|col_43_index|col_44_index|col_45_index|col_46_index|col_47_index|col_48_index|col_49_index|col_50_index|col_51_index|col_52_index|col_53_index|col_54_index|col_55_index|col_56_index|col_57_index|col_58_index|col_59_index|col_60_index|col_61_index|col_62_index|col_63_index|col_64_index|col_65_index|col_66_index|col_67_index|col_68_index|col_69_index|col_70_index|col_71_index|col_72_index|col_73_index|col_74_index|col_75_index|col_76_index|col_77_index|col_78_index|col_79_index|col_80_index|col_81_index|col_82_index|col_83_index|col_84_index|col_85_index|col_86_index|col_87_index|col_88_index|col_89_index|col_90_index|col_91_index|col_92_index|col_93_index|col_94_index|col_95_index|col_96_index|col_97_index|col_98_index|col_99_index|col_100_index|col_101_index|col_102_index|col_103_index|col_104_index|col_105_index|col_106_index|col_107_index|col_108_index|col_109_index|col_110_index|col_111_index|label|\n",
            "+--------------------+--------------------+-----+---------------------+-----+--------------------+-------------------+--------------------+-----+-----+------+------+------+------+------+------+------+------+------+------+------+------+---------------------+---------------------+---------------------+--------------------+------+------+------+---------------------+---------------------+-------------------+------+------+--------------------+------+---------------------+------+---------------------+------+------+--------------------+--------------------+--------------------+--------------------+------+------+---------------------+---------------------+---------------------+---------------------+------+------+------+---------------------+--------------------+------+--------------------+------+------------------+---------------------+--------------------+---------------------+---------------------+--------------------+---------------------+---------------------+---------------------+--------------------+-------------------+------+------+------+------+------+------+------+------+------+------+------+------+------+------+------+------+------+------+------+------+------+------+------+------+------+------+------+------+------+------+-------+-------+-------+-------+-------+-------+-------+-------+-------+-------+-------+-------------------+-------+-----------+-----------+-----------+-----------+-----------+-----------+-----------+-----------+-----------+-----------+------------+------------+------------+------------+------------+------------+------------+------------+------------+------------+------------+------------+------------+------------+------------+------------+------------+------------+------------+------------+------------+------------+------------+------------+------------+------------+------------+------------+------------+------------+------------+------------+------------+------------+------------+------------+------------+------------+------------+------------+------------+------------+------------+------------+------------+------------+------------+------------+------------+------------+------------+------------+------------+------------+------------+------------+------------+------------+------------+------------+------------+------------+------------+------------+------------+------------+------------+------------+------------+------------+------------+------------+------------+------------+------------+------------+------------+------------+------------+------------+------------+------------+------------+------------+------------+------------+------------+------------+------------+------------+-------------+-------------+-------------+-------------+-------------+-------------+-------------+-------------+-------------+-------------+-------------+-------------+-----+\n",
            "|0.003911342894393742|0.03581252644942869 |0.0  |0.023316062176165803 |0.0  |0.004347826086956522|0.6666666666666666 |0.003911342894393742|0.0  |0.0  |0.0   |0.0   |0.0   |0.0   |1.0   |0.0   |1.0   |0.0   |0.0   |0.0   |0.0   |0.0   |0.002687369363989251 |0.006445993031358885 |0.0209020902090209   |0.03607503607503607 |0.0   |0.0   |1.0   |0.014778325123152709 |0.024665981500513877 |0.0                |0.0   |0.0   |0.002333722287047841|0.0   |0.0010249149426258956|0.0   |0.013380070378351837 |0.0   |0.0   |0.07874015748031496 |0.014055590650663297|0.003367003367003367|4.017677782241864E-4|0.0   |0.0   |3.7643122287865324E-4|0.007667031763417306 |0.008544152744630072 |5.149878634526846E-5 |0.0   |0.0   |0.0   |0.009700053342086908 |7.696219232302132E-4|0.0   |5.444466442288656E-5|0.0   |0.1103448275862069|0.012964426877470356 |0.004739336492890996|4.0966816878328555E-4|2.0469519605961748E-4|0.008511806699615597|0.006457343947521268 |0.0017408334240017408|6.837319902709438E-4 |0.1135135135135135  |0.25               |0.0   |0.0   |0.0   |0.0   |0.0   |0.0   |0.0   |0.0   |0.0   |0.0   |0.0   |0.0   |0.0   |0.0   |0.0   |0.0   |0.0   |0.0   |0.0   |0.0   |0.0   |0.0   |0.0   |0.0   |0.0   |0.0   |1.0   |1.0   |1.0   |0.0   |0.0    |0.0    |0.2    |0.0    |0.0    |0.0    |1.0    |1.0    |0.0    |0.0    |0.0    |0.06559571619812583|1      |9.0        |1037.0     |0.0        |20.0       |0.0        |1.0        |3.0        |9.0        |0.0        |0.0        |0.0         |0.0         |0.0         |0.0         |1.0         |0.0         |1.0         |0.0         |0.0         |0.0         |0.0         |0.0         |9.0         |65.0        |18.0        |25.0        |0.0         |0.0         |0.0         |3.0         |23.0        |0.0         |0.0         |0.0         |2.0         |0.0         |92.0        |0.0         |408.0       |0.0         |0.0         |19.0        |64.0        |1.0         |1.0         |0.0         |0.0         |35.0        |33.0        |213.0       |17.0        |0.0         |0.0         |0.0         |821.0       |49.0        |0.0         |10.0        |0.0         |23.0        |87.0        |1.0         |1.0         |26.0        |33.0        |110.0       |35.0        |8518.0      |224.0       |9.0         |0.0         |0.0         |0.0         |0.0         |0.0         |0.0         |0.0         |0.0         |0.0         |0.0         |0.0         |0.0         |0.0         |0.0         |0.0         |0.0         |0.0         |0.0         |0.0         |0.0         |0.0         |0.0         |0.0         |0.0         |0.0         |0.0         |1.0         |1.0         |1.0         |0.0         |0.0          |0.0          |4.0          |0.0          |0.0          |0.0          |1.0          |1.0          |0.0          |0.0          |0.0          |225.0        |1.0  |\n",
            "|0.0                 |0.006321413457469319|0.0  |0.0012953367875647669|0.0  |0.004347826086956522|0.08333333333333333|0.0                 |0.0  |0.0  |0.0   |0.0   |0.0   |0.0   |0.0   |0.0   |1.0   |0.0   |0.0   |0.0   |0.0   |0.0   |0.0                  |6.097560975609756E-4 |0.0011001100110011   |0.0                 |0.0   |0.0   |1.0   |0.0049261083743842365|0.0                  |0.0                |0.0   |0.0   |0.0                 |0.0   |0.0                  |0.0   |2.4550587850186856E-4|0.0   |0.0   |0.0                 |0.0                 |0.0                 |0.0                 |0.0   |0.0   |0.0                  |0.0                  |3.3412887828162294E-4|0.0                  |0.0   |0.0   |0.0   |2.6260719707849495E-4|0.0                 |0.0   |0.0                 |0.0   |0.0               |0.0                  |0.0                 |0.0                  |0.0                  |0.0                 |0.0                  |0.0                  |4.6405124644096335E-5|0.015015015015015015|0.08333333333333333|0.0   |0.0   |0.0   |0.0   |0.0   |0.0   |0.0   |0.0   |0.0   |0.0   |0.0   |0.0   |0.0   |0.0   |0.0   |0.0   |0.0   |0.0   |0.0   |1.0   |0.0   |0.0   |0.0   |0.0   |0.0   |0.0   |0.0   |0.0   |0.0   |1.0   |0.0    |0.0    |0.0    |0.0    |1.0    |0.0    |0.0    |0.0    |0.0    |0.0    |0.0    |0.07362784471218206|1      |0.0        |169.0      |0.0        |1.0        |0.0        |1.0        |0.0        |0.0        |0.0        |0.0        |0.0         |0.0         |0.0         |0.0         |0.0         |0.0         |1.0         |0.0         |0.0         |0.0         |0.0         |0.0         |0.0         |7.0         |0.0         |0.0         |0.0         |0.0         |0.0         |1.0         |0.0         |0.0         |0.0         |0.0         |0.0         |0.0         |0.0         |0.0         |16.0        |0.0         |0.0         |0.0         |0.0         |0.0         |0.0         |0.0         |0.0         |0.0         |0.0         |11.0        |0.0         |0.0         |0.0         |0.0         |26.0        |0.0         |0.0         |0.0         |0.0         |0.0         |0.0         |0.0         |0.0         |0.0         |0.0         |0.0         |0.0         |7409.0      |23.0        |3.0         |0.0         |0.0         |0.0         |0.0         |0.0         |0.0         |0.0         |0.0         |0.0         |0.0         |0.0         |0.0         |0.0         |0.0         |0.0         |0.0         |0.0         |0.0         |0.0         |1.0         |0.0         |0.0         |0.0         |0.0         |0.0         |0.0         |0.0         |0.0         |0.0         |1.0         |0.0          |0.0          |0.0          |0.0          |1.0          |0.0          |0.0          |0.0          |0.0          |0.0          |0.0          |13.0         |1.0  |\n",
            "|0.0                 |0.006876851460008464|0.0  |0.0051813471502590676|0.0  |0.013043478260869566|0.5833333333333334 |0.0                 |0.0  |0.0  |0.0   |0.0   |0.0   |0.0   |1.0   |1.0   |0.0   |0.0   |0.0   |0.0   |0.0   |0.0   |0.0                  |0.0011324041811846689|0.007700770077007701 |0.007215007215007215|0.0   |0.0   |1.0   |0.024630541871921183 |0.0                  |0.0                |0.0   |0.0   |0.0                 |0.0   |5.2830667145664715E-5|0.0   |0.0012411686079816689|0.0   |0.0   |0.023622047244094488|0.0                 |0.0                 |0.0                 |0.0   |0.0   |1.3593349715062479E-4|0.0017524644030668128|0.0010739856801909309|0.0                  |0.0   |0.0   |0.0   |0.0013786877846620985|0.0                 |0.0   |0.0                 |0.0   |0.0               |0.0                  |0.0                 |0.0                  |0.0                  |0.0                 |0.0                  |0.0                  |9.843551613571993E-6 |0.024624624624624624|0.19444444444444442|0.0   |0.0   |0.0   |0.0   |0.0   |0.0   |0.0   |0.0   |0.0   |0.0   |0.0   |0.0   |1.0   |0.0   |0.0   |0.0   |0.0   |0.0   |0.0   |0.0   |0.0   |0.0   |0.0   |0.0   |0.0   |0.0   |1.0   |0.0   |1.0   |0.0   |0.0    |0.0    |0.05   |0.0    |0.0    |0.0    |1.0    |1.0    |0.0    |0.0    |0.0    |0.0749665327978581 |1      |0.0        |368.0      |0.0        |4.0        |0.0        |3.0        |4.0        |0.0        |0.0        |0.0        |0.0         |0.0         |0.0         |0.0         |1.0         |1.0         |0.0         |0.0         |0.0         |0.0         |0.0         |0.0         |0.0         |13.0        |7.0         |5.0         |0.0         |0.0         |0.0         |5.0         |0.0         |0.0         |0.0         |0.0         |0.0         |0.0         |5.0         |0.0         |68.0        |0.0         |0.0         |6.0         |0.0         |0.0         |0.0         |0.0         |0.0         |13.0        |8.0         |46.0        |0.0         |0.0         |0.0         |0.0         |247.0       |0.0         |0.0         |0.0         |0.0         |0.0         |0.0         |0.0         |0.0         |0.0         |0.0         |0.0         |0.0         |9680.0      |43.0        |7.0         |0.0         |0.0         |0.0         |0.0         |0.0         |0.0         |0.0         |0.0         |0.0         |0.0         |0.0         |0.0         |1.0         |0.0         |0.0         |0.0         |0.0         |0.0         |0.0         |0.0         |0.0         |0.0         |0.0         |0.0         |0.0         |0.0         |1.0         |0.0         |1.0         |0.0         |0.0          |0.0          |1.0          |0.0          |0.0          |0.0          |1.0          |1.0          |0.0          |0.0          |0.0          |43.0         |1.0  |\n",
            "|0.007388092133854846|0.01803851036817605 |0.0  |0.0012953367875647669|0.0  |0.0                 |0.75               |0.007388092133854846|0.0  |0.0  |0.0   |0.0   |0.0   |0.0   |0.0   |0.0   |1.0   |0.0   |0.0   |0.0   |0.0   |0.0   |0.00686772170797253  |0.0045296167247386755|0.0011001100110011   |0.0101010101010101  |0.0   |0.0   |1.0   |0.0049261083743842365|0.0010277492291880781|0.07692307692307693|0.0   |0.0   |0.0                 |0.0   |3.169840028739883E-5 |0.0   |3.546196022804768E-4 |0.0   |0.0   |0.0                 |3.158559696778269E-4|0.0                 |0.0                 |0.0   |0.0   |0.0                  |0.0                  |9.546539379474941E-5 |6.866504846035795E-6 |0.0   |0.0   |0.0   |2.7081367198719794E-4|0.0                 |0.0   |0.0                 |0.0   |0.0               |3.1620553359683795E-4|0.0                 |0.0                  |0.0                  |0.0                 |6.833168198435204E-5 |0.0                  |0.0018489590678023421|0.022822822822822823|0.1388888888888889 |0.0   |0.0   |0.0   |0.0   |0.0   |0.0   |0.0   |0.0   |0.0   |0.0   |0.0   |0.0   |0.0   |0.0   |0.0   |0.0   |0.0   |0.0   |0.0   |0.0   |0.0   |0.0   |0.0   |0.0   |0.0   |0.0   |0.0   |0.0   |1.0   |0.0   |0.0    |0.0    |0.05   |0.0    |1.0    |0.0    |1.0    |1.0    |0.0    |0.0    |0.0    |0.08701472556894244|1      |16.0       |606.0      |0.0        |1.0        |0.0        |0.0        |6.0        |16.0       |0.0        |0.0        |0.0         |0.0         |0.0         |0.0         |0.0         |0.0         |1.0         |0.0         |0.0         |0.0         |0.0         |0.0         |24.0        |52.0        |0.0         |7.0         |0.0         |0.0         |0.0         |1.0         |1.0         |10.0        |0.0         |0.0         |0.0         |0.0         |3.0         |0.0         |27.0        |0.0         |0.0         |0.0         |2.0         |0.0         |0.0         |0.0         |0.0         |0.0         |0.0         |4.0         |2.0         |0.0         |0.0         |0.0         |50.0        |0.0         |0.0         |0.0         |0.0         |0.0         |2.0         |0.0         |0.0         |0.0         |0.0         |2.0         |0.0         |1313.0      |38.0        |5.0         |0.0         |0.0         |0.0         |0.0         |0.0         |0.0         |0.0         |0.0         |0.0         |0.0         |0.0         |0.0         |0.0         |0.0         |0.0         |0.0         |0.0         |0.0         |0.0         |0.0         |0.0         |0.0         |0.0         |0.0         |0.0         |0.0         |0.0         |0.0         |1.0         |0.0         |0.0          |0.0          |1.0          |0.0          |1.0          |0.0          |1.0          |1.0          |0.0          |0.0          |0.0          |10.0         |1.0  |\n",
            "|4.34593654932638E-4 |0.014282691493863733|0.0  |0.0025906735751295338|0.0  |0.004347826086956522|0.6666666666666666 |4.34593654932638E-4 |0.0  |0.0  |0.0   |0.0   |0.0   |0.0   |1.0   |0.0   |1.0   |0.0   |0.0   |0.0   |0.0   |0.0   |2.9859659599880563E-4|0.0017421602787456446|0.0033003300330033004|0.015873015873015872|0.0   |0.0   |1.0   |0.019704433497536946 |0.020554984583761562 |0.0                |0.0   |0.0   |0.0                 |0.0   |5.49438938314913E-4  |0.0   |0.009124635150986115 |0.0   |0.0   |0.0                 |0.001421351863550221|0.0                 |0.0                 |0.0   |0.0   |2.195848800125477E-4 |0.0013143483023001095|0.0015751789976133652|1.2359708722864431E-4|0.0   |0.0   |0.0   |0.005498338188830988 |5.35986696535327E-4 |0.0   |1.781825381112651E-4|0.0   |0.0               |0.0012648221343873518|0.0                 |0.0                  |1.2793449753726091E-4|0.001098297638660077|0.0016399603676244489|0.0018496355130018496|0.0010458818112388162|0.14954954954954955 |0.16666666666666666|0.0   |0.0   |0.0   |0.0   |0.0   |0.0   |1.0   |0.0   |0.0   |0.0   |0.0   |0.0   |0.0   |0.0   |0.0   |0.0   |0.0   |0.0   |0.0   |0.0   |0.0   |0.0   |1.0   |0.0   |0.0   |0.0   |0.0   |0.0   |1.0   |0.0   |0.0    |0.0    |0.05   |0.0    |0.0    |0.0    |1.0    |1.0    |0.0    |0.0    |0.0    |0.23427041499330656|1      |1.0        |447.0      |0.0        |2.0        |0.0        |1.0        |3.0        |1.0        |0.0        |0.0        |0.0         |0.0         |0.0         |0.0         |1.0         |0.0         |1.0         |0.0         |0.0         |0.0         |0.0         |0.0         |1.0         |20.0        |2.0         |11.0        |0.0         |0.0         |0.0         |4.0         |19.0        |0.0         |0.0         |0.0         |0.0         |0.0         |59.0        |0.0         |573.0       |0.0         |0.0         |0.0         |10.0        |0.0         |0.0         |0.0         |0.0         |24.0        |6.0         |66.0        |40.0        |0.0         |0.0         |0.0         |603.0       |31.0        |0.0         |36.0        |0.0         |0.0         |10.0        |0.0         |0.0         |23.0        |4.0         |52.0        |28.0        |308.0       |255.0       |6.0         |0.0         |0.0         |0.0         |0.0         |0.0         |0.0         |1.0         |0.0         |0.0         |0.0         |0.0         |0.0         |0.0         |0.0         |0.0         |0.0         |0.0         |0.0         |0.0         |0.0         |0.0         |0.0         |1.0         |0.0         |0.0         |0.0         |0.0         |0.0         |1.0         |0.0         |0.0          |0.0          |1.0          |0.0          |0.0          |0.0          |1.0          |1.0          |0.0          |0.0          |0.0          |178.0        |1.0  |\n",
            "+--------------------+--------------------+-----+---------------------+-----+--------------------+-------------------+--------------------+-----+-----+------+------+------+------+------+------+------+------+------+------+------+------+---------------------+---------------------+---------------------+--------------------+------+------+------+---------------------+---------------------+-------------------+------+------+--------------------+------+---------------------+------+---------------------+------+------+--------------------+--------------------+--------------------+--------------------+------+------+---------------------+---------------------+---------------------+---------------------+------+------+------+---------------------+--------------------+------+--------------------+------+------------------+---------------------+--------------------+---------------------+---------------------+--------------------+---------------------+---------------------+---------------------+--------------------+-------------------+------+------+------+------+------+------+------+------+------+------+------+------+------+------+------+------+------+------+------+------+------+------+------+------+------+------+------+------+------+------+-------+-------+-------+-------+-------+-------+-------+-------+-------+-------+-------+-------------------+-------+-----------+-----------+-----------+-----------+-----------+-----------+-----------+-----------+-----------+-----------+------------+------------+------------+------------+------------+------------+------------+------------+------------+------------+------------+------------+------------+------------+------------+------------+------------+------------+------------+------------+------------+------------+------------+------------+------------+------------+------------+------------+------------+------------+------------+------------+------------+------------+------------+------------+------------+------------+------------+------------+------------+------------+------------+------------+------------+------------+------------+------------+------------+------------+------------+------------+------------+------------+------------+------------+------------+------------+------------+------------+------------+------------+------------+------------+------------+------------+------------+------------+------------+------------+------------+------------+------------+------------+------------+------------+------------+------------+------------+------------+------------+------------+------------+------------+------------+------------+------------+------------+------------+------------+-------------+-------------+-------------+-------------+-------------+-------------+-------------+-------------+-------------+-------------+-------------+-------------+-----+\n",
            "only showing top 5 rows\n",
            "\n"
          ]
        }
      ]
    },
    {
      "cell_type": "code",
      "metadata": {
        "id": "qGNIKIe_cSXj"
      },
      "source": [
        "vectorAssembler = VectorAssembler(inputCols = [\n",
        "                                               \"col_0_index\", \n",
        "                                               \"col_1_index\", \n",
        "                                               \"col_2_index\",\n",
        "                                               \"col_3_index\", \n",
        "                                               \"col_4_index\", \n",
        "                                               \"col_5_index\",\n",
        "                                               \"col_6_index\", \n",
        "                                               \"col_7_index\", \n",
        "                                               \"col_8_index\",\n",
        "                                               \"col_9_index\",\n",
        "                                               \"col_10_index\", \n",
        "                                               \"col_11_index\", \n",
        "                                               \"col_12_index\",\n",
        "                                               \"col_13_index\", \n",
        "                                               \"col_14_index\", \n",
        "                                               \"col_15_index\",\n",
        "                                               \"col_16_index\", \n",
        "                                               \"col_17_index\", \n",
        "                                               \"col_18_index\",\n",
        "                                               \"col_19_index\",\n",
        "                                               \"col_20_index\", \n",
        "                                               \"col_21_index\", \n",
        "                                               \"col_22_index\",\n",
        "                                               \"col_23_index\", \n",
        "                                               \"col_24_index\", \n",
        "                                               \"col_25_index\",\n",
        "                                               \"col_26_index\", \n",
        "                                               \"col_27_index\", \n",
        "                                               \"col_28_index\",\n",
        "                                               \"col_29_index\",\n",
        "                                               \"col_30_index\", \n",
        "                                               \"col_31_index\", \n",
        "                                               \"col_32_index\",\n",
        "                                               \"col_33_index\", \n",
        "                                               \"col_34_index\", \n",
        "                                               \"col_35_index\",\n",
        "                                               \"col_36_index\", \n",
        "                                               \"col_37_index\", \n",
        "                                               \"col_38_index\",\n",
        "                                               \"col_39_index\",\n",
        "                                               \"col_40_index\", \n",
        "                                               \"col_41_index\", \n",
        "                                               \"col_42_index\",\n",
        "                                               \"col_43_index\", \n",
        "                                               \"col_44_index\", \n",
        "                                               \"col_45_index\",\n",
        "                                               \"col_46_index\", \n",
        "                                               \"col_47_index\", \n",
        "                                               \"col_48_index\",\n",
        "                                               \"col_49_index\",\n",
        "                                               \"col_50_index\", \n",
        "                                               \"col_51_index\", \n",
        "                                               \"col_52_index\",\n",
        "                                               \"col_53_index\", \n",
        "                                               \"col_54_index\", \n",
        "                                               \"col_55_index\",\n",
        "                                               \"col_56_index\", \n",
        "                                               \"col_57_index\", \n",
        "                                               \"col_58_index\",\n",
        "                                               \"col_59_index\",\n",
        "                                               \"col_60_index\", \n",
        "                                               \"col_61_index\", \n",
        "                                               \"col_62_index\",\n",
        "                                               \"col_63_index\", \n",
        "                                               \"col_64_index\", \n",
        "                                               \"col_65_index\",\n",
        "                                               \"col_66_index\", \n",
        "                                               \"col_67_index\", \n",
        "                                               \"col_68_index\",\n",
        "                                               \"col_69_index\",\n",
        "                                               \"col_70_index\", \n",
        "                                               \"col_71_index\", \n",
        "                                               \"col_72_index\",\n",
        "                                               \"col_73_index\", \n",
        "                                               \"col_74_index\", \n",
        "                                               \"col_75_index\",\n",
        "                                               \"col_76_index\", \n",
        "                                               \"col_77_index\", \n",
        "                                               \"col_78_index\",\n",
        "                                               \"col_79_index\",\n",
        "                                               \"col_80_index\", \n",
        "                                               \"col_81_index\", \n",
        "                                               \"col_82_index\",\n",
        "                                               \"col_83_index\", \n",
        "                                               \"col_84_index\", \n",
        "                                               \"col_85_index\",\n",
        "                                               \"col_86_index\", \n",
        "                                               \"col_87_index\", \n",
        "                                               \"col_88_index\",\n",
        "                                               \"col_89_index\",\n",
        "                                               \"col_90_index\", \n",
        "                                               \"col_91_index\", \n",
        "                                               \"col_92_index\",\n",
        "                                               \"col_93_index\", \n",
        "                                               \"col_94_index\", \n",
        "                                               \"col_95_index\",\n",
        "                                               \"col_96_index\", \n",
        "                                               \"col_97_index\", \n",
        "                                               \"col_98_index\",\n",
        "                                               \"col_99_index\",\n",
        "                                               \"col_100_index\", \n",
        "                                               \"col_101_index\", \n",
        "                                               \"col_102_index\",\n",
        "                                               \"col_103_index\", \n",
        "                                               \"col_104_index\", \n",
        "                                               \"col_105_index\",\n",
        "                                               \"col_106_index\", \n",
        "                                               \"col_107_index\", \n",
        "                                               \"col_108_index\",\n",
        "                                               \"col_109_index\",\n",
        "                                               \"col_110_index\", \n",
        "                                               \"col_111_index\" \n",
        "                                               ]\n",
        "                                  ,outputCol = \"features\") "
      ],
      "execution_count": 15,
      "outputs": []
    },
    {
      "cell_type": "code",
      "metadata": {
        "colab": {
          "base_uri": "https://localhost:8080/"
        },
        "id": "7wO4yuQscSaA",
        "outputId": "7fc7d73f-9432-4c4c-e3af-3bb74b21f0a1"
      },
      "source": [
        "indexed_fraud_df = vectorAssembler.transform(indexed_fraud_df) \n",
        "indexed_fraud_df.show(5, False)"
      ],
      "execution_count": 16,
      "outputs": [
        {
          "output_type": "stream",
          "name": "stdout",
          "text": [
            "+--------------------+--------------------+-----+---------------------+-----+--------------------+-------------------+--------------------+-----+-----+------+------+------+------+------+------+------+------+------+------+------+------+---------------------+---------------------+---------------------+--------------------+------+------+------+---------------------+---------------------+-------------------+------+------+--------------------+------+---------------------+------+---------------------+------+------+--------------------+--------------------+--------------------+--------------------+------+------+---------------------+---------------------+---------------------+---------------------+------+------+------+---------------------+--------------------+------+--------------------+------+------------------+---------------------+--------------------+---------------------+---------------------+--------------------+---------------------+---------------------+---------------------+--------------------+-------------------+------+------+------+------+------+------+------+------+------+------+------+------+------+------+------+------+------+------+------+------+------+------+------+------+------+------+------+------+------+------+-------+-------+-------+-------+-------+-------+-------+-------+-------+-------+-------+-------------------+-------+-----------+-----------+-----------+-----------+-----------+-----------+-----------+-----------+-----------+-----------+------------+------------+------------+------------+------------+------------+------------+------------+------------+------------+------------+------------+------------+------------+------------+------------+------------+------------+------------+------------+------------+------------+------------+------------+------------+------------+------------+------------+------------+------------+------------+------------+------------+------------+------------+------------+------------+------------+------------+------------+------------+------------+------------+------------+------------+------------+------------+------------+------------+------------+------------+------------+------------+------------+------------+------------+------------+------------+------------+------------+------------+------------+------------+------------+------------+------------+------------+------------+------------+------------+------------+------------+------------+------------+------------+------------+------------+------------+------------+------------+------------+------------+------------+------------+------------+------------+------------+------------+------------+------------+-------------+-------------+-------------+-------------+-------------+-------------+-------------+-------------+-------------+-------------+-------------+-------------+-----+-----------------------------------------------------------------------------------------------------------------------------------------------------------------------------------------------------------------------------------------------------------------------------------------------------------------------------------------------------------------------------+\n",
            "|col_0               |col_1               |col_2|col_3                |col_4|col_5               |col_6              |col_7               |col_8|col_9|col_10|col_11|col_12|col_13|col_14|col_15|col_16|col_17|col_18|col_19|col_20|col_21|col_22               |col_23               |col_24               |col_25              |col_26|col_27|col_28|col_29               |col_30               |col_31             |col_32|col_33|col_34              |col_35|col_36               |col_37|col_38               |col_39|col_40|col_41              |col_42              |col_43              |col_44              |col_45|col_46|col_47               |col_48               |col_49               |col_50               |col_51|col_52|col_53|col_54               |col_55              |col_56|col_57              |col_58|col_59            |col_60               |col_61              |col_62               |col_63               |col_64              |col_65               |col_66               |col_67               |col_68              |col_69             |col_70|col_71|col_72|col_73|col_74|col_75|col_76|col_77|col_78|col_79|col_80|col_81|col_82|col_83|col_84|col_85|col_86|col_87|col_88|col_89|col_90|col_91|col_92|col_93|col_94|col_95|col_96|col_97|col_98|col_99|col_100|col_101|col_102|col_103|col_104|col_105|col_106|col_107|col_108|col_109|col_110|col_111            |targets|col_0_index|col_1_index|col_2_index|col_3_index|col_4_index|col_5_index|col_6_index|col_7_index|col_8_index|col_9_index|col_10_index|col_11_index|col_12_index|col_13_index|col_14_index|col_15_index|col_16_index|col_17_index|col_18_index|col_19_index|col_20_index|col_21_index|col_22_index|col_23_index|col_24_index|col_25_index|col_26_index|col_27_index|col_28_index|col_29_index|col_30_index|col_31_index|col_32_index|col_33_index|col_34_index|col_35_index|col_36_index|col_37_index|col_38_index|col_39_index|col_40_index|col_41_index|col_42_index|col_43_index|col_44_index|col_45_index|col_46_index|col_47_index|col_48_index|col_49_index|col_50_index|col_51_index|col_52_index|col_53_index|col_54_index|col_55_index|col_56_index|col_57_index|col_58_index|col_59_index|col_60_index|col_61_index|col_62_index|col_63_index|col_64_index|col_65_index|col_66_index|col_67_index|col_68_index|col_69_index|col_70_index|col_71_index|col_72_index|col_73_index|col_74_index|col_75_index|col_76_index|col_77_index|col_78_index|col_79_index|col_80_index|col_81_index|col_82_index|col_83_index|col_84_index|col_85_index|col_86_index|col_87_index|col_88_index|col_89_index|col_90_index|col_91_index|col_92_index|col_93_index|col_94_index|col_95_index|col_96_index|col_97_index|col_98_index|col_99_index|col_100_index|col_101_index|col_102_index|col_103_index|col_104_index|col_105_index|col_106_index|col_107_index|col_108_index|col_109_index|col_110_index|col_111_index|label|features                                                                                                                                                                                                                                                                                                                                                                     |\n",
            "+--------------------+--------------------+-----+---------------------+-----+--------------------+-------------------+--------------------+-----+-----+------+------+------+------+------+------+------+------+------+------+------+------+---------------------+---------------------+---------------------+--------------------+------+------+------+---------------------+---------------------+-------------------+------+------+--------------------+------+---------------------+------+---------------------+------+------+--------------------+--------------------+--------------------+--------------------+------+------+---------------------+---------------------+---------------------+---------------------+------+------+------+---------------------+--------------------+------+--------------------+------+------------------+---------------------+--------------------+---------------------+---------------------+--------------------+---------------------+---------------------+---------------------+--------------------+-------------------+------+------+------+------+------+------+------+------+------+------+------+------+------+------+------+------+------+------+------+------+------+------+------+------+------+------+------+------+------+------+-------+-------+-------+-------+-------+-------+-------+-------+-------+-------+-------+-------------------+-------+-----------+-----------+-----------+-----------+-----------+-----------+-----------+-----------+-----------+-----------+------------+------------+------------+------------+------------+------------+------------+------------+------------+------------+------------+------------+------------+------------+------------+------------+------------+------------+------------+------------+------------+------------+------------+------------+------------+------------+------------+------------+------------+------------+------------+------------+------------+------------+------------+------------+------------+------------+------------+------------+------------+------------+------------+------------+------------+------------+------------+------------+------------+------------+------------+------------+------------+------------+------------+------------+------------+------------+------------+------------+------------+------------+------------+------------+------------+------------+------------+------------+------------+------------+------------+------------+------------+------------+------------+------------+------------+------------+------------+------------+------------+------------+------------+------------+------------+------------+------------+------------+------------+------------+-------------+-------------+-------------+-------------+-------------+-------------+-------------+-------------+-------------+-------------+-------------+-------------+-----+-----------------------------------------------------------------------------------------------------------------------------------------------------------------------------------------------------------------------------------------------------------------------------------------------------------------------------------------------------------------------------+\n",
            "|0.003911342894393742|0.03581252644942869 |0.0  |0.023316062176165803 |0.0  |0.004347826086956522|0.6666666666666666 |0.003911342894393742|0.0  |0.0  |0.0   |0.0   |0.0   |0.0   |1.0   |0.0   |1.0   |0.0   |0.0   |0.0   |0.0   |0.0   |0.002687369363989251 |0.006445993031358885 |0.0209020902090209   |0.03607503607503607 |0.0   |0.0   |1.0   |0.014778325123152709 |0.024665981500513877 |0.0                |0.0   |0.0   |0.002333722287047841|0.0   |0.0010249149426258956|0.0   |0.013380070378351837 |0.0   |0.0   |0.07874015748031496 |0.014055590650663297|0.003367003367003367|4.017677782241864E-4|0.0   |0.0   |3.7643122287865324E-4|0.007667031763417306 |0.008544152744630072 |5.149878634526846E-5 |0.0   |0.0   |0.0   |0.009700053342086908 |7.696219232302132E-4|0.0   |5.444466442288656E-5|0.0   |0.1103448275862069|0.012964426877470356 |0.004739336492890996|4.0966816878328555E-4|2.0469519605961748E-4|0.008511806699615597|0.006457343947521268 |0.0017408334240017408|6.837319902709438E-4 |0.1135135135135135  |0.25               |0.0   |0.0   |0.0   |0.0   |0.0   |0.0   |0.0   |0.0   |0.0   |0.0   |0.0   |0.0   |0.0   |0.0   |0.0   |0.0   |0.0   |0.0   |0.0   |0.0   |0.0   |0.0   |0.0   |0.0   |0.0   |0.0   |1.0   |1.0   |1.0   |0.0   |0.0    |0.0    |0.2    |0.0    |0.0    |0.0    |1.0    |1.0    |0.0    |0.0    |0.0    |0.06559571619812583|1      |9.0        |1037.0     |0.0        |20.0       |0.0        |1.0        |3.0        |9.0        |0.0        |0.0        |0.0         |0.0         |0.0         |0.0         |1.0         |0.0         |1.0         |0.0         |0.0         |0.0         |0.0         |0.0         |9.0         |65.0        |18.0        |25.0        |0.0         |0.0         |0.0         |3.0         |23.0        |0.0         |0.0         |0.0         |2.0         |0.0         |92.0        |0.0         |408.0       |0.0         |0.0         |19.0        |64.0        |1.0         |1.0         |0.0         |0.0         |35.0        |33.0        |213.0       |17.0        |0.0         |0.0         |0.0         |821.0       |49.0        |0.0         |10.0        |0.0         |23.0        |87.0        |1.0         |1.0         |26.0        |33.0        |110.0       |35.0        |8518.0      |224.0       |9.0         |0.0         |0.0         |0.0         |0.0         |0.0         |0.0         |0.0         |0.0         |0.0         |0.0         |0.0         |0.0         |0.0         |0.0         |0.0         |0.0         |0.0         |0.0         |0.0         |0.0         |0.0         |0.0         |0.0         |0.0         |0.0         |0.0         |1.0         |1.0         |1.0         |0.0         |0.0          |0.0          |4.0          |0.0          |0.0          |0.0          |1.0          |1.0          |0.0          |0.0          |0.0          |225.0        |1.0  |(112,[0,1,3,5,6,7,14,16,22,23,24,25,29,30,34,36,38,41,42,43,44,47,48,49,50,54,55,57,59,60,61,62,63,64,65,66,67,68,69,96,97,98,102,106,107,111],[9.0,1037.0,20.0,1.0,3.0,9.0,1.0,1.0,9.0,65.0,18.0,25.0,3.0,23.0,2.0,92.0,408.0,19.0,64.0,1.0,1.0,35.0,33.0,213.0,17.0,821.0,49.0,10.0,23.0,87.0,1.0,1.0,26.0,33.0,110.0,35.0,8518.0,224.0,9.0,1.0,1.0,1.0,4.0,1.0,1.0,225.0])|\n",
            "|0.0                 |0.006321413457469319|0.0  |0.0012953367875647669|0.0  |0.004347826086956522|0.08333333333333333|0.0                 |0.0  |0.0  |0.0   |0.0   |0.0   |0.0   |0.0   |0.0   |1.0   |0.0   |0.0   |0.0   |0.0   |0.0   |0.0                  |6.097560975609756E-4 |0.0011001100110011   |0.0                 |0.0   |0.0   |1.0   |0.0049261083743842365|0.0                  |0.0                |0.0   |0.0   |0.0                 |0.0   |0.0                  |0.0   |2.4550587850186856E-4|0.0   |0.0   |0.0                 |0.0                 |0.0                 |0.0                 |0.0   |0.0   |0.0                  |0.0                  |3.3412887828162294E-4|0.0                  |0.0   |0.0   |0.0   |2.6260719707849495E-4|0.0                 |0.0   |0.0                 |0.0   |0.0               |0.0                  |0.0                 |0.0                  |0.0                  |0.0                 |0.0                  |0.0                  |4.6405124644096335E-5|0.015015015015015015|0.08333333333333333|0.0   |0.0   |0.0   |0.0   |0.0   |0.0   |0.0   |0.0   |0.0   |0.0   |0.0   |0.0   |0.0   |0.0   |0.0   |0.0   |0.0   |0.0   |0.0   |1.0   |0.0   |0.0   |0.0   |0.0   |0.0   |0.0   |0.0   |0.0   |0.0   |1.0   |0.0    |0.0    |0.0    |0.0    |1.0    |0.0    |0.0    |0.0    |0.0    |0.0    |0.0    |0.07362784471218206|1      |0.0        |169.0      |0.0        |1.0        |0.0        |1.0        |0.0        |0.0        |0.0        |0.0        |0.0         |0.0         |0.0         |0.0         |0.0         |0.0         |1.0         |0.0         |0.0         |0.0         |0.0         |0.0         |0.0         |7.0         |0.0         |0.0         |0.0         |0.0         |0.0         |1.0         |0.0         |0.0         |0.0         |0.0         |0.0         |0.0         |0.0         |0.0         |16.0        |0.0         |0.0         |0.0         |0.0         |0.0         |0.0         |0.0         |0.0         |0.0         |0.0         |11.0        |0.0         |0.0         |0.0         |0.0         |26.0        |0.0         |0.0         |0.0         |0.0         |0.0         |0.0         |0.0         |0.0         |0.0         |0.0         |0.0         |0.0         |7409.0      |23.0        |3.0         |0.0         |0.0         |0.0         |0.0         |0.0         |0.0         |0.0         |0.0         |0.0         |0.0         |0.0         |0.0         |0.0         |0.0         |0.0         |0.0         |0.0         |0.0         |0.0         |1.0         |0.0         |0.0         |0.0         |0.0         |0.0         |0.0         |0.0         |0.0         |0.0         |1.0         |0.0          |0.0          |0.0          |0.0          |1.0          |0.0          |0.0          |0.0          |0.0          |0.0          |0.0          |13.0         |1.0  |(112,[1,3,5,16,23,29,38,49,54,67,68,69,89,99,104,111],[169.0,1.0,1.0,1.0,7.0,1.0,16.0,11.0,26.0,7409.0,23.0,3.0,1.0,1.0,1.0,13.0])                                                                                                                                                                                                                                           |\n",
            "|0.0                 |0.006876851460008464|0.0  |0.0051813471502590676|0.0  |0.013043478260869566|0.5833333333333334 |0.0                 |0.0  |0.0  |0.0   |0.0   |0.0   |0.0   |1.0   |1.0   |0.0   |0.0   |0.0   |0.0   |0.0   |0.0   |0.0                  |0.0011324041811846689|0.007700770077007701 |0.007215007215007215|0.0   |0.0   |1.0   |0.024630541871921183 |0.0                  |0.0                |0.0   |0.0   |0.0                 |0.0   |5.2830667145664715E-5|0.0   |0.0012411686079816689|0.0   |0.0   |0.023622047244094488|0.0                 |0.0                 |0.0                 |0.0   |0.0   |1.3593349715062479E-4|0.0017524644030668128|0.0010739856801909309|0.0                  |0.0   |0.0   |0.0   |0.0013786877846620985|0.0                 |0.0   |0.0                 |0.0   |0.0               |0.0                  |0.0                 |0.0                  |0.0                  |0.0                 |0.0                  |0.0                  |9.843551613571993E-6 |0.024624624624624624|0.19444444444444442|0.0   |0.0   |0.0   |0.0   |0.0   |0.0   |0.0   |0.0   |0.0   |0.0   |0.0   |0.0   |1.0   |0.0   |0.0   |0.0   |0.0   |0.0   |0.0   |0.0   |0.0   |0.0   |0.0   |0.0   |0.0   |0.0   |1.0   |0.0   |1.0   |0.0   |0.0    |0.0    |0.05   |0.0    |0.0    |0.0    |1.0    |1.0    |0.0    |0.0    |0.0    |0.0749665327978581 |1      |0.0        |368.0      |0.0        |4.0        |0.0        |3.0        |4.0        |0.0        |0.0        |0.0        |0.0         |0.0         |0.0         |0.0         |1.0         |1.0         |0.0         |0.0         |0.0         |0.0         |0.0         |0.0         |0.0         |13.0        |7.0         |5.0         |0.0         |0.0         |0.0         |5.0         |0.0         |0.0         |0.0         |0.0         |0.0         |0.0         |5.0         |0.0         |68.0        |0.0         |0.0         |6.0         |0.0         |0.0         |0.0         |0.0         |0.0         |13.0        |8.0         |46.0        |0.0         |0.0         |0.0         |0.0         |247.0       |0.0         |0.0         |0.0         |0.0         |0.0         |0.0         |0.0         |0.0         |0.0         |0.0         |0.0         |0.0         |9680.0      |43.0        |7.0         |0.0         |0.0         |0.0         |0.0         |0.0         |0.0         |0.0         |0.0         |0.0         |0.0         |0.0         |0.0         |1.0         |0.0         |0.0         |0.0         |0.0         |0.0         |0.0         |0.0         |0.0         |0.0         |0.0         |0.0         |0.0         |0.0         |1.0         |0.0         |1.0         |0.0         |0.0          |0.0          |1.0          |0.0          |0.0          |0.0          |1.0          |1.0          |0.0          |0.0          |0.0          |43.0         |1.0  |(112,[1,3,5,6,14,15,23,24,25,29,36,38,41,47,48,49,54,67,68,69,82,96,98,102,106,107,111],[368.0,4.0,3.0,4.0,1.0,1.0,13.0,7.0,5.0,5.0,5.0,68.0,6.0,13.0,8.0,46.0,247.0,9680.0,43.0,7.0,1.0,1.0,1.0,1.0,1.0,1.0,43.0])                                                                                                                                                          |\n",
            "|0.007388092133854846|0.01803851036817605 |0.0  |0.0012953367875647669|0.0  |0.0                 |0.75               |0.007388092133854846|0.0  |0.0  |0.0   |0.0   |0.0   |0.0   |0.0   |0.0   |1.0   |0.0   |0.0   |0.0   |0.0   |0.0   |0.00686772170797253  |0.0045296167247386755|0.0011001100110011   |0.0101010101010101  |0.0   |0.0   |1.0   |0.0049261083743842365|0.0010277492291880781|0.07692307692307693|0.0   |0.0   |0.0                 |0.0   |3.169840028739883E-5 |0.0   |3.546196022804768E-4 |0.0   |0.0   |0.0                 |3.158559696778269E-4|0.0                 |0.0                 |0.0   |0.0   |0.0                  |0.0                  |9.546539379474941E-5 |6.866504846035795E-6 |0.0   |0.0   |0.0   |2.7081367198719794E-4|0.0                 |0.0   |0.0                 |0.0   |0.0               |3.1620553359683795E-4|0.0                 |0.0                  |0.0                  |0.0                 |6.833168198435204E-5 |0.0                  |0.0018489590678023421|0.022822822822822823|0.1388888888888889 |0.0   |0.0   |0.0   |0.0   |0.0   |0.0   |0.0   |0.0   |0.0   |0.0   |0.0   |0.0   |0.0   |0.0   |0.0   |0.0   |0.0   |0.0   |0.0   |0.0   |0.0   |0.0   |0.0   |0.0   |0.0   |0.0   |0.0   |0.0   |1.0   |0.0   |0.0    |0.0    |0.05   |0.0    |1.0    |0.0    |1.0    |1.0    |0.0    |0.0    |0.0    |0.08701472556894244|1      |16.0       |606.0      |0.0        |1.0        |0.0        |0.0        |6.0        |16.0       |0.0        |0.0        |0.0         |0.0         |0.0         |0.0         |0.0         |0.0         |1.0         |0.0         |0.0         |0.0         |0.0         |0.0         |24.0        |52.0        |0.0         |7.0         |0.0         |0.0         |0.0         |1.0         |1.0         |10.0        |0.0         |0.0         |0.0         |0.0         |3.0         |0.0         |27.0        |0.0         |0.0         |0.0         |2.0         |0.0         |0.0         |0.0         |0.0         |0.0         |0.0         |4.0         |2.0         |0.0         |0.0         |0.0         |50.0        |0.0         |0.0         |0.0         |0.0         |0.0         |2.0         |0.0         |0.0         |0.0         |0.0         |2.0         |0.0         |1313.0      |38.0        |5.0         |0.0         |0.0         |0.0         |0.0         |0.0         |0.0         |0.0         |0.0         |0.0         |0.0         |0.0         |0.0         |0.0         |0.0         |0.0         |0.0         |0.0         |0.0         |0.0         |0.0         |0.0         |0.0         |0.0         |0.0         |0.0         |0.0         |0.0         |0.0         |1.0         |0.0         |0.0          |0.0          |1.0          |0.0          |1.0          |0.0          |1.0          |1.0          |0.0          |0.0          |0.0          |10.0         |1.0  |(112,[0,1,3,6,7,16,22,23,25,29,30,31,36,38,42,49,50,54,60,65,67,68,69,98,102,104,106,107,111],[16.0,606.0,1.0,6.0,16.0,1.0,24.0,52.0,7.0,1.0,1.0,10.0,3.0,27.0,2.0,4.0,2.0,50.0,2.0,2.0,1313.0,38.0,5.0,1.0,1.0,1.0,1.0,1.0,10.0])                                                                                                                                           |\n",
            "|4.34593654932638E-4 |0.014282691493863733|0.0  |0.0025906735751295338|0.0  |0.004347826086956522|0.6666666666666666 |4.34593654932638E-4 |0.0  |0.0  |0.0   |0.0   |0.0   |0.0   |1.0   |0.0   |1.0   |0.0   |0.0   |0.0   |0.0   |0.0   |2.9859659599880563E-4|0.0017421602787456446|0.0033003300330033004|0.015873015873015872|0.0   |0.0   |1.0   |0.019704433497536946 |0.020554984583761562 |0.0                |0.0   |0.0   |0.0                 |0.0   |5.49438938314913E-4  |0.0   |0.009124635150986115 |0.0   |0.0   |0.0                 |0.001421351863550221|0.0                 |0.0                 |0.0   |0.0   |2.195848800125477E-4 |0.0013143483023001095|0.0015751789976133652|1.2359708722864431E-4|0.0   |0.0   |0.0   |0.005498338188830988 |5.35986696535327E-4 |0.0   |1.781825381112651E-4|0.0   |0.0               |0.0012648221343873518|0.0                 |0.0                  |1.2793449753726091E-4|0.001098297638660077|0.0016399603676244489|0.0018496355130018496|0.0010458818112388162|0.14954954954954955 |0.16666666666666666|0.0   |0.0   |0.0   |0.0   |0.0   |0.0   |1.0   |0.0   |0.0   |0.0   |0.0   |0.0   |0.0   |0.0   |0.0   |0.0   |0.0   |0.0   |0.0   |0.0   |0.0   |0.0   |1.0   |0.0   |0.0   |0.0   |0.0   |0.0   |1.0   |0.0   |0.0    |0.0    |0.05   |0.0    |0.0    |0.0    |1.0    |1.0    |0.0    |0.0    |0.0    |0.23427041499330656|1      |1.0        |447.0      |0.0        |2.0        |0.0        |1.0        |3.0        |1.0        |0.0        |0.0        |0.0         |0.0         |0.0         |0.0         |1.0         |0.0         |1.0         |0.0         |0.0         |0.0         |0.0         |0.0         |1.0         |20.0        |2.0         |11.0        |0.0         |0.0         |0.0         |4.0         |19.0        |0.0         |0.0         |0.0         |0.0         |0.0         |59.0        |0.0         |573.0       |0.0         |0.0         |0.0         |10.0        |0.0         |0.0         |0.0         |0.0         |24.0        |6.0         |66.0        |40.0        |0.0         |0.0         |0.0         |603.0       |31.0        |0.0         |36.0        |0.0         |0.0         |10.0        |0.0         |0.0         |23.0        |4.0         |52.0        |28.0        |308.0       |255.0       |6.0         |0.0         |0.0         |0.0         |0.0         |0.0         |0.0         |1.0         |0.0         |0.0         |0.0         |0.0         |0.0         |0.0         |0.0         |0.0         |0.0         |0.0         |0.0         |0.0         |0.0         |0.0         |0.0         |1.0         |0.0         |0.0         |0.0         |0.0         |0.0         |1.0         |0.0         |0.0          |0.0          |1.0          |0.0          |0.0          |0.0          |1.0          |1.0          |0.0          |0.0          |0.0          |178.0        |1.0  |(112,[0,1,3,5,6,7,14,16,22,23,24,25,29,30,36,38,42,47,48,49,50,54,55,57,60,63,64,65,66,67,68,69,76,92,98,102,106,107,111],[1.0,447.0,2.0,1.0,3.0,1.0,1.0,1.0,1.0,20.0,2.0,11.0,4.0,19.0,59.0,573.0,10.0,24.0,6.0,66.0,40.0,603.0,31.0,36.0,10.0,23.0,4.0,52.0,28.0,308.0,255.0,6.0,1.0,1.0,1.0,1.0,1.0,1.0,178.0])                                                           |\n",
            "+--------------------+--------------------+-----+---------------------+-----+--------------------+-------------------+--------------------+-----+-----+------+------+------+------+------+------+------+------+------+------+------+------+---------------------+---------------------+---------------------+--------------------+------+------+------+---------------------+---------------------+-------------------+------+------+--------------------+------+---------------------+------+---------------------+------+------+--------------------+--------------------+--------------------+--------------------+------+------+---------------------+---------------------+---------------------+---------------------+------+------+------+---------------------+--------------------+------+--------------------+------+------------------+---------------------+--------------------+---------------------+---------------------+--------------------+---------------------+---------------------+---------------------+--------------------+-------------------+------+------+------+------+------+------+------+------+------+------+------+------+------+------+------+------+------+------+------+------+------+------+------+------+------+------+------+------+------+------+-------+-------+-------+-------+-------+-------+-------+-------+-------+-------+-------+-------------------+-------+-----------+-----------+-----------+-----------+-----------+-----------+-----------+-----------+-----------+-----------+------------+------------+------------+------------+------------+------------+------------+------------+------------+------------+------------+------------+------------+------------+------------+------------+------------+------------+------------+------------+------------+------------+------------+------------+------------+------------+------------+------------+------------+------------+------------+------------+------------+------------+------------+------------+------------+------------+------------+------------+------------+------------+------------+------------+------------+------------+------------+------------+------------+------------+------------+------------+------------+------------+------------+------------+------------+------------+------------+------------+------------+------------+------------+------------+------------+------------+------------+------------+------------+------------+------------+------------+------------+------------+------------+------------+------------+------------+------------+------------+------------+------------+------------+------------+------------+------------+------------+------------+------------+------------+-------------+-------------+-------------+-------------+-------------+-------------+-------------+-------------+-------------+-------------+-------------+-------------+-----+-----------------------------------------------------------------------------------------------------------------------------------------------------------------------------------------------------------------------------------------------------------------------------------------------------------------------------------------------------------------------------+\n",
            "only showing top 5 rows\n",
            "\n"
          ]
        }
      ]
    },
    {
      "cell_type": "markdown",
      "metadata": {
        "id": "ib36hCa7gRv6"
      },
      "source": [
        "#### Split data for training. "
      ]
    },
    {
      "cell_type": "markdown",
      "metadata": {
        "id": "ghttHhuvrtgr"
      },
      "source": [
        "We are using an 80/20 split as is pretty common."
      ]
    },
    {
      "cell_type": "code",
      "metadata": {
        "id": "Slo4LFgCf6TO"
      },
      "source": [
        "splits = indexed_fraud_df.randomSplit([0.8,0.2], 42) \n",
        "# optional value 42 is seed for sampling \n",
        "train_df = splits[0] \n",
        "test_df = splits[1]"
      ],
      "execution_count": 17,
      "outputs": []
    },
    {
      "cell_type": "markdown",
      "metadata": {
        "id": "fTKD4wXBob1q"
      },
      "source": [
        "#### Apply Naive Bayes"
      ]
    },
    {
      "cell_type": "markdown",
      "metadata": {
        "id": "-n91rkjWryj4"
      },
      "source": [
        "Selected model type guassian. Other options for naive bayes are bernoulli (requiring all features to be 0 or 1) and multinomial. "
      ]
    },
    {
      "cell_type": "code",
      "metadata": {
        "id": "Ln3CbzW-iTAx"
      },
      "source": [
        "nb = NaiveBayes(modelType=\"gaussian\")"
      ],
      "execution_count": 18,
      "outputs": []
    },
    {
      "cell_type": "markdown",
      "metadata": {
        "id": "24bUvahOofl3"
      },
      "source": [
        "#### Train the model using the training data specified above"
      ]
    },
    {
      "cell_type": "code",
      "metadata": {
        "id": "kS9NVDkWiyYN"
      },
      "source": [
        "nbmodel = nb.fit(train_df)"
      ],
      "execution_count": 19,
      "outputs": []
    },
    {
      "cell_type": "markdown",
      "metadata": {
        "id": "hINZLEVIoePf"
      },
      "source": [
        "#### Predict with test data"
      ]
    },
    {
      "cell_type": "code",
      "metadata": {
        "colab": {
          "base_uri": "https://localhost:8080/"
        },
        "id": "reep_AjUiyba",
        "outputId": "94806bb7-3263-40cf-b252-6ce315870a2a"
      },
      "source": [
        "predictions_df = nbmodel.transform(test_df)\n",
        "predictions_df.show(5, True)"
      ],
      "execution_count": 20,
      "outputs": [
        {
          "output_type": "stream",
          "name": "stdout",
          "text": [
            "+-----+-----+-----+--------------------+-----+--------------------+-------------------+-----+-----+-----+------+------+------+------+------+------+------+------+------+------+------+------+------+------+------+------+------+------+------+------+------+------+------+------+------+------+------+------+------+------+------+------+------+------+------+------+------+------+------+------+------+------+------+------+------+------+------+------+------+------+------+------+------+------+------+------+------+------+------+--------------------+------+------+------+------+------+------+------+------+------+------+------+------+------+------+------+------+------+------+------+------+------+------+------+------+------+------+------+------+------+------+-------+-------+-------+-------+-------+-------+-------+-------+-------+-------+-------+--------------------+-------+-----------+-----------+-----------+-----------+-----------+-----------+-----------+-----------+-----------+-----------+------------+------------+------------+------------+------------+------------+------------+------------+------------+------------+------------+------------+------------+------------+------------+------------+------------+------------+------------+------------+------------+------------+------------+------------+------------+------------+------------+------------+------------+------------+------------+------------+------------+------------+------------+------------+------------+------------+------------+------------+------------+------------+------------+------------+------------+------------+------------+------------+------------+------------+------------+------------+------------+------------+------------+------------+------------+------------+------------+------------+------------+------------+------------+------------+------------+------------+------------+------------+------------+------------+------------+------------+------------+------------+------------+------------+------------+------------+------------+------------+------------+------------+------------+------------+------------+------------+------------+------------+------------+------------+-------------+-------------+-------------+-------------+-------------+-------------+-------------+-------------+-------------+-------------+-------------+-------------+-----+--------------------+--------------------+--------------------+----------+\n",
            "|col_0|col_1|col_2|               col_3|col_4|               col_5|              col_6|col_7|col_8|col_9|col_10|col_11|col_12|col_13|col_14|col_15|col_16|col_17|col_18|col_19|col_20|col_21|col_22|col_23|col_24|col_25|col_26|col_27|col_28|col_29|col_30|col_31|col_32|col_33|col_34|col_35|col_36|col_37|col_38|col_39|col_40|col_41|col_42|col_43|col_44|col_45|col_46|col_47|col_48|col_49|col_50|col_51|col_52|col_53|col_54|col_55|col_56|col_57|col_58|col_59|col_60|col_61|col_62|col_63|col_64|col_65|col_66|col_67|col_68|              col_69|col_70|col_71|col_72|col_73|col_74|col_75|col_76|col_77|col_78|col_79|col_80|col_81|col_82|col_83|col_84|col_85|col_86|col_87|col_88|col_89|col_90|col_91|col_92|col_93|col_94|col_95|col_96|col_97|col_98|col_99|col_100|col_101|col_102|col_103|col_104|col_105|col_106|col_107|col_108|col_109|col_110|             col_111|targets|col_0_index|col_1_index|col_2_index|col_3_index|col_4_index|col_5_index|col_6_index|col_7_index|col_8_index|col_9_index|col_10_index|col_11_index|col_12_index|col_13_index|col_14_index|col_15_index|col_16_index|col_17_index|col_18_index|col_19_index|col_20_index|col_21_index|col_22_index|col_23_index|col_24_index|col_25_index|col_26_index|col_27_index|col_28_index|col_29_index|col_30_index|col_31_index|col_32_index|col_33_index|col_34_index|col_35_index|col_36_index|col_37_index|col_38_index|col_39_index|col_40_index|col_41_index|col_42_index|col_43_index|col_44_index|col_45_index|col_46_index|col_47_index|col_48_index|col_49_index|col_50_index|col_51_index|col_52_index|col_53_index|col_54_index|col_55_index|col_56_index|col_57_index|col_58_index|col_59_index|col_60_index|col_61_index|col_62_index|col_63_index|col_64_index|col_65_index|col_66_index|col_67_index|col_68_index|col_69_index|col_70_index|col_71_index|col_72_index|col_73_index|col_74_index|col_75_index|col_76_index|col_77_index|col_78_index|col_79_index|col_80_index|col_81_index|col_82_index|col_83_index|col_84_index|col_85_index|col_86_index|col_87_index|col_88_index|col_89_index|col_90_index|col_91_index|col_92_index|col_93_index|col_94_index|col_95_index|col_96_index|col_97_index|col_98_index|col_99_index|col_100_index|col_101_index|col_102_index|col_103_index|col_104_index|col_105_index|col_106_index|col_107_index|col_108_index|col_109_index|col_110_index|col_111_index|label|            features|       rawPrediction|         probability|prediction|\n",
            "+-----+-----+-----+--------------------+-----+--------------------+-------------------+-----+-----+-----+------+------+------+------+------+------+------+------+------+------+------+------+------+------+------+------+------+------+------+------+------+------+------+------+------+------+------+------+------+------+------+------+------+------+------+------+------+------+------+------+------+------+------+------+------+------+------+------+------+------+------+------+------+------+------+------+------+------+------+--------------------+------+------+------+------+------+------+------+------+------+------+------+------+------+------+------+------+------+------+------+------+------+------+------+------+------+------+------+------+------+------+-------+-------+-------+-------+-------+-------+-------+-------+-------+-------+-------+--------------------+-------+-----------+-----------+-----------+-----------+-----------+-----------+-----------+-----------+-----------+-----------+------------+------------+------------+------------+------------+------------+------------+------------+------------+------------+------------+------------+------------+------------+------------+------------+------------+------------+------------+------------+------------+------------+------------+------------+------------+------------+------------+------------+------------+------------+------------+------------+------------+------------+------------+------------+------------+------------+------------+------------+------------+------------+------------+------------+------------+------------+------------+------------+------------+------------+------------+------------+------------+------------+------------+------------+------------+------------+------------+------------+------------+------------+------------+------------+------------+------------+------------+------------+------------+------------+------------+------------+------------+------------+------------+------------+------------+------------+------------+------------+------------+------------+------------+------------+------------+------------+------------+------------+------------+------------+-------------+-------------+-------------+-------------+-------------+-------------+-------------+-------------+-------------+-------------+-------------+-------------+-----+--------------------+--------------------+--------------------+----------+\n",
            "|  0.0|  0.0|  0.0|                 0.0|  0.0|0.017391304347826087|0.08333333333333333|  0.0|  0.0|  0.0|   0.0|   0.0|   0.0|   0.0|   1.0|   0.0|   1.0|   0.0|   0.0|   0.0|   0.0|   0.0|   0.0|   0.0|   0.0|   0.0|   0.0|   0.0|   1.0|   0.0|   0.0|   0.0|   0.0|   0.0|   0.0|   0.0|   0.0|   0.0|   0.0|   0.0|   0.0|   0.0|   0.0|   0.0|   0.0|   0.0|   0.0|   0.0|   0.0|   0.0|   0.0|   0.0|   0.0|   0.0|   0.0|   0.0|   0.0|   0.0|   0.0|   0.0|   0.0|   0.0|   0.0|   0.0|   0.0|   0.0|   0.0|   0.0|   0.0| 0.08333333333333333|   0.0|   0.0|   0.0|   0.0|   0.0|   0.0|   0.0|   0.0|   0.0|   0.0|   0.0|   0.0|   0.0|   0.0|   0.0|   0.0|   0.0|   0.0|   0.0|   0.0|   0.0|   0.0|   0.0|   0.0|   0.0|   0.0|   1.0|   0.0|   0.0|   0.0|    1.0|    0.0|    0.0|    0.0|    0.0|    0.0|    1.0|    0.0|    0.0|    0.0|    0.0| 0.14190093708165996|      0|        0.0|       72.0|        0.0|        0.0|        0.0|        4.0|        0.0|        0.0|        0.0|        0.0|         0.0|         0.0|         0.0|         0.0|         1.0|         0.0|         1.0|         0.0|         0.0|         0.0|         0.0|         0.0|         0.0|         3.0|         5.0|         0.0|         0.0|         0.0|         0.0|         0.0|         0.0|         0.0|         0.0|         0.0|         0.0|         0.0|         0.0|         0.0|         0.0|         0.0|         0.0|         0.0|         0.0|         0.0|         0.0|         0.0|         0.0|         0.0|         0.0|         0.0|         0.0|         0.0|         0.0|         0.0|         0.0|         0.0|         0.0|         0.0|         0.0|         0.0|         0.0|         0.0|         0.0|         0.0|         0.0|         0.0|         0.0|         0.0|         0.0|         3.0|         0.0|         0.0|         0.0|         0.0|         0.0|         0.0|         0.0|         0.0|         0.0|         0.0|         0.0|         0.0|         0.0|         0.0|         0.0|         0.0|         0.0|         0.0|         0.0|         0.0|         0.0|         0.0|         0.0|         0.0|         0.0|         0.0|         1.0|         0.0|         0.0|         0.0|          1.0|          0.0|          0.0|          0.0|          0.0|          0.0|          1.0|          0.0|          0.0|          0.0|          0.0|         92.0|  0.0|(112,[1,5,14,16,2...|[-15.791370680176...|[0.02841598826758...|       1.0|\n",
            "|  0.0|  0.0|  0.0|0.001295336787564...|  0.0|                 0.0|0.08333333333333333|  0.0|  0.0|  0.0|   0.0|   0.0|   0.0|   0.0|   1.0|   0.0|   1.0|   0.0|   0.0|   0.0|   0.0|   0.0|   0.0|   0.0|   0.0|   0.0|   0.0|   0.0|   1.0|   0.0|   0.0|   0.0|   0.0|   0.0|   0.0|   0.0|   0.0|   0.0|   0.0|   0.0|   0.0|   0.0|   0.0|   0.0|   0.0|   0.0|   0.0|   0.0|   0.0|   0.0|   0.0|   0.0|   0.0|   0.0|   0.0|   0.0|   0.0|   0.0|   0.0|   0.0|   0.0|   0.0|   0.0|   0.0|   0.0|   0.0|   0.0|   0.0|   0.0|                 0.0|   0.0|   0.0|   0.0|   0.0|   0.0|   0.0|   0.0|   0.0|   0.0|   0.0|   0.0|   0.0|   0.0|   0.0|   0.0|   0.0|   0.0|   0.0|   0.0|   0.0|   0.0|   0.0|   0.0|   0.0|   0.0|   0.0|   0.0|   0.0|   0.0|   0.0|    0.0|    0.0|    0.0|    0.0|    0.0|    0.0|    0.0|    0.0|    0.0|    0.0|    0.0|                 0.0|      0|        0.0|       72.0|        0.0|        1.0|        0.0|        0.0|        0.0|        0.0|        0.0|        0.0|         0.0|         0.0|         0.0|         0.0|         1.0|         0.0|         1.0|         0.0|         0.0|         0.0|         0.0|         0.0|         0.0|         3.0|         5.0|         0.0|         0.0|         0.0|         0.0|         0.0|         0.0|         0.0|         0.0|         0.0|         0.0|         0.0|         0.0|         0.0|         0.0|         0.0|         0.0|         0.0|         0.0|         0.0|         0.0|         0.0|         0.0|         0.0|         0.0|         0.0|         0.0|         0.0|         0.0|         0.0|         0.0|         0.0|         0.0|         0.0|         0.0|         0.0|         0.0|         0.0|         0.0|         0.0|         0.0|         0.0|         0.0|         0.0|         0.0|         1.0|         0.0|         0.0|         0.0|         0.0|         0.0|         0.0|         0.0|         0.0|         0.0|         0.0|         0.0|         0.0|         0.0|         0.0|         0.0|         0.0|         0.0|         0.0|         0.0|         0.0|         0.0|         0.0|         0.0|         0.0|         0.0|         0.0|         0.0|         0.0|         0.0|         0.0|          0.0|          0.0|          0.0|          0.0|          0.0|          0.0|          0.0|          0.0|          0.0|          0.0|          0.0|          0.0|  0.0|(112,[1,3,14,16,2...|[-4.2916561611797...|[3.00491260777997...|       1.0|\n",
            "|  0.0|  0.0|  0.0|0.001295336787564...|  0.0|                 0.0|0.08333333333333333|  0.0|  0.0|  0.0|   0.0|   0.0|   0.0|   0.0|   1.0|   0.0|   1.0|   0.0|   0.0|   0.0|   0.0|   0.0|   0.0|   0.0|   0.0|   0.0|   0.0|   0.0|   1.0|   0.0|   0.0|   0.0|   0.0|   0.0|   0.0|   0.0|   0.0|   0.0|   0.0|   0.0|   0.0|   0.0|   0.0|   0.0|   0.0|   0.0|   0.0|   0.0|   0.0|   0.0|   0.0|   0.0|   0.0|   0.0|   0.0|   0.0|   0.0|   0.0|   0.0|   0.0|   0.0|   0.0|   0.0|   0.0|   0.0|   0.0|   0.0|   0.0|   0.0|                 0.0|   0.0|   0.0|   0.0|   0.0|   0.0|   0.0|   0.0|   0.0|   0.0|   0.0|   0.0|   0.0|   0.0|   0.0|   0.0|   0.0|   0.0|   0.0|   0.0|   0.0|   0.0|   0.0|   0.0|   0.0|   0.0|   0.0|   0.0|   0.0|   0.0|   0.0|    0.0|    0.0|    0.0|    0.0|    0.0|    0.0|    0.0|    0.0|    0.0|    0.0|    0.0|                 0.0|      0|        0.0|       72.0|        0.0|        1.0|        0.0|        0.0|        0.0|        0.0|        0.0|        0.0|         0.0|         0.0|         0.0|         0.0|         1.0|         0.0|         1.0|         0.0|         0.0|         0.0|         0.0|         0.0|         0.0|         3.0|         5.0|         0.0|         0.0|         0.0|         0.0|         0.0|         0.0|         0.0|         0.0|         0.0|         0.0|         0.0|         0.0|         0.0|         0.0|         0.0|         0.0|         0.0|         0.0|         0.0|         0.0|         0.0|         0.0|         0.0|         0.0|         0.0|         0.0|         0.0|         0.0|         0.0|         0.0|         0.0|         0.0|         0.0|         0.0|         0.0|         0.0|         0.0|         0.0|         0.0|         0.0|         0.0|         0.0|         0.0|         0.0|         1.0|         0.0|         0.0|         0.0|         0.0|         0.0|         0.0|         0.0|         0.0|         0.0|         0.0|         0.0|         0.0|         0.0|         0.0|         0.0|         0.0|         0.0|         0.0|         0.0|         0.0|         0.0|         0.0|         0.0|         0.0|         0.0|         0.0|         0.0|         0.0|         0.0|         0.0|          0.0|          0.0|          0.0|          0.0|          0.0|          0.0|          0.0|          0.0|          0.0|          0.0|          0.0|          0.0|  0.0|(112,[1,3,14,16,2...|[-4.2916561611797...|[3.00491260777997...|       1.0|\n",
            "|  0.0|  0.0|  0.0|0.002590673575129...|  0.0|                 0.0|0.08333333333333333|  0.0|  0.0|  0.0|   0.0|   0.0|   0.0|   0.0|   1.0|   0.0|   0.0|   0.0|   0.0|   0.0|   0.0|   0.0|   0.0|   0.0|   0.0|   0.0|   0.0|   0.0|   1.0|   0.0|   0.0|   0.0|   0.0|   0.0|   0.0|   0.0|   0.0|   0.0|   0.0|   0.0|   0.0|   0.0|   0.0|   0.0|   0.0|   0.0|   0.0|   0.0|   0.0|   0.0|   0.0|   0.0|   0.0|   0.0|   0.0|   0.0|   0.0|   0.0|   0.0|   0.0|   0.0|   0.0|   0.0|   0.0|   0.0|   0.0|   0.0|   0.0|   0.0|0.027777777777777776|   0.0|   0.0|   0.0|   0.0|   0.0|   0.0|   0.0|   0.0|   0.0|   0.0|   0.0|   0.0|   0.0|   0.0|   0.0|   0.0|   0.0|   0.0|   0.0|   0.0|   0.0|   0.0|   0.0|   0.0|   0.0|   0.0|   0.0|   0.0|   0.0|   0.0|    0.0|    0.0|    0.0|    0.0|    0.0|    0.0|    1.0|    0.0|    0.0|    0.0|    0.0|0.006693440428380187|      0|        0.0|       72.0|        0.0|        2.0|        0.0|        0.0|        0.0|        0.0|        0.0|        0.0|         0.0|         0.0|         0.0|         0.0|         1.0|         0.0|         0.0|         0.0|         0.0|         0.0|         0.0|         0.0|         0.0|         3.0|         5.0|         0.0|         0.0|         0.0|         0.0|         0.0|         0.0|         0.0|         0.0|         0.0|         0.0|         0.0|         0.0|         0.0|         0.0|         0.0|         0.0|         0.0|         0.0|         0.0|         0.0|         0.0|         0.0|         0.0|         0.0|         0.0|         0.0|         0.0|         0.0|         0.0|         0.0|         0.0|         0.0|         0.0|         0.0|         0.0|         0.0|         0.0|         0.0|         0.0|         0.0|         0.0|         0.0|         0.0|         0.0|         0.0|         0.0|         0.0|         0.0|         0.0|         0.0|         0.0|         0.0|         0.0|         0.0|         0.0|         0.0|         0.0|         0.0|         0.0|         0.0|         0.0|         0.0|         0.0|         0.0|         0.0|         0.0|         0.0|         0.0|         0.0|         0.0|         0.0|         0.0|         0.0|         0.0|         0.0|          0.0|          0.0|          0.0|          0.0|          0.0|          0.0|          1.0|          0.0|          0.0|          0.0|          0.0|          2.0|  0.0|(112,[1,3,14,23,2...|[-4.8160933666734...|[6.83258557170467...|       1.0|\n",
            "|  0.0|  0.0|  0.0|0.011658031088082901|  0.0|                 0.0|0.08333333333333333|  0.0|  0.0|  0.0|   0.0|   0.0|   0.0|   0.0|   1.0|   0.0|   1.0|   0.0|   0.0|   0.0|   0.0|   0.0|   0.0|   0.0|   0.0|   0.0|   0.0|   0.0|   1.0|   0.0|   0.0|   0.0|   0.0|   0.0|   0.0|   0.0|   0.0|   0.0|   0.0|   0.0|   0.0|   0.0|   0.0|   0.0|   0.0|   0.0|   0.0|   0.0|   0.0|   0.0|   0.0|   0.0|   0.0|   0.0|   0.0|   0.0|   0.0|   0.0|   0.0|   0.0|   0.0|   0.0|   0.0|   0.0|   0.0|   0.0|   0.0|   0.0|   0.0| 0.08333333333333333|   0.0|   0.0|   0.0|   0.0|   0.0|   0.0|   0.0|   0.0|   0.0|   0.0|   0.0|   0.0|   0.0|   0.0|   0.0|   0.0|   0.0|   0.0|   0.0|   0.0|   0.0|   0.0|   0.0|   0.0|   0.0|   0.0|   1.0|   0.0|   0.0|   0.0|    1.0|    0.0|    0.0|    0.0|    0.0|    0.0|    1.0|    0.0|    0.0|    0.0|    0.0| 0.14190093708165996|      0|        0.0|       72.0|        0.0|        9.0|        0.0|        0.0|        0.0|        0.0|        0.0|        0.0|         0.0|         0.0|         0.0|         0.0|         1.0|         0.0|         1.0|         0.0|         0.0|         0.0|         0.0|         0.0|         0.0|         3.0|         5.0|         0.0|         0.0|         0.0|         0.0|         0.0|         0.0|         0.0|         0.0|         0.0|         0.0|         0.0|         0.0|         0.0|         0.0|         0.0|         0.0|         0.0|         0.0|         0.0|         0.0|         0.0|         0.0|         0.0|         0.0|         0.0|         0.0|         0.0|         0.0|         0.0|         0.0|         0.0|         0.0|         0.0|         0.0|         0.0|         0.0|         0.0|         0.0|         0.0|         0.0|         0.0|         0.0|         0.0|         0.0|         3.0|         0.0|         0.0|         0.0|         0.0|         0.0|         0.0|         0.0|         0.0|         0.0|         0.0|         0.0|         0.0|         0.0|         0.0|         0.0|         0.0|         0.0|         0.0|         0.0|         0.0|         0.0|         0.0|         0.0|         0.0|         0.0|         0.0|         1.0|         0.0|         0.0|         0.0|          1.0|          0.0|          0.0|          0.0|          0.0|          0.0|          1.0|          0.0|          0.0|          0.0|          0.0|         92.0|  0.0|(112,[1,3,14,16,2...|[-15.487830529464...|[0.67427581785079...|       0.0|\n",
            "+-----+-----+-----+--------------------+-----+--------------------+-------------------+-----+-----+-----+------+------+------+------+------+------+------+------+------+------+------+------+------+------+------+------+------+------+------+------+------+------+------+------+------+------+------+------+------+------+------+------+------+------+------+------+------+------+------+------+------+------+------+------+------+------+------+------+------+------+------+------+------+------+------+------+------+------+------+--------------------+------+------+------+------+------+------+------+------+------+------+------+------+------+------+------+------+------+------+------+------+------+------+------+------+------+------+------+------+------+------+-------+-------+-------+-------+-------+-------+-------+-------+-------+-------+-------+--------------------+-------+-----------+-----------+-----------+-----------+-----------+-----------+-----------+-----------+-----------+-----------+------------+------------+------------+------------+------------+------------+------------+------------+------------+------------+------------+------------+------------+------------+------------+------------+------------+------------+------------+------------+------------+------------+------------+------------+------------+------------+------------+------------+------------+------------+------------+------------+------------+------------+------------+------------+------------+------------+------------+------------+------------+------------+------------+------------+------------+------------+------------+------------+------------+------------+------------+------------+------------+------------+------------+------------+------------+------------+------------+------------+------------+------------+------------+------------+------------+------------+------------+------------+------------+------------+------------+------------+------------+------------+------------+------------+------------+------------+------------+------------+------------+------------+------------+------------+------------+------------+------------+------------+------------+------------+-------------+-------------+-------------+-------------+-------------+-------------+-------------+-------------+-------------+-------------+-------------+-------------+-----+--------------------+--------------------+--------------------+----------+\n",
            "only showing top 5 rows\n",
            "\n"
          ]
        }
      ]
    },
    {
      "cell_type": "markdown",
      "metadata": {
        "id": "VIf5pq9dog_R"
      },
      "source": [
        "#### Compute the accuracy on the test set"
      ]
    },
    {
      "cell_type": "code",
      "metadata": {
        "colab": {
          "base_uri": "https://localhost:8080/"
        },
        "id": "0ubyUC5NnQaa",
        "outputId": "b7c49ec9-a173-4c72-bd9b-3a304c081179"
      },
      "source": [
        "evaluator = BinaryClassificationEvaluator(labelCol=\"label\", rawPredictionCol=\"prediction\", metricName=\"areaUnderROC\") \n",
        "nbaccuracy = evaluator.evaluate(predictions_df) \n",
        "print(\"Test accuracy = \" + str(nbaccuracy))"
      ],
      "execution_count": 21,
      "outputs": [
        {
          "output_type": "stream",
          "name": "stdout",
          "text": [
            "Test accuracy = 0.655890870973493\n"
          ]
        }
      ]
    },
    {
      "cell_type": "markdown",
      "metadata": {
        "id": "xyyMTzzAqbdU"
      },
      "source": [
        "The results of this test are poor in comparison to our implementation of the same model using sklearn which got an AUC score of 0.75."
      ]
    }
  ]
}